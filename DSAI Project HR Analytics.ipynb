{
 "cells": [
  {
   "cell_type": "markdown",
   "metadata": {},
   "source": [
    "# Human Resource Analytics\n",
    "\n",
    "Dataset : HR Analytics\n",
    "\n",
    "The dataset was taken from Kaggle\n",
    "\n",
    "Main objectives of this project : To predict whether an employee would leave or remain in the company\n",
    "\n",
    "We would like to do this project by the following structure: \n",
    "    1. Obtaining Data\n",
    "    2. Scrubbing Data\n",
    "    3. Exploratory Analysis\n",
    "    4. Model Comparison\n",
    "    5. Application"
   ]
  },
  {
   "cell_type": "markdown",
   "metadata": {},
   "source": [
    "# Part 1: Obtaining the Data"
   ]
  },
  {
   "cell_type": "code",
   "execution_count": 1,
   "metadata": {},
   "outputs": [],
   "source": [
    "# Import the neccessary modules for data manipulation and visual representation\n",
    "import pandas as pd\n",
    "import numpy as np\n",
    "import matplotlib.pyplot as plt\n",
    "import seaborn as sb\n",
    "%matplotlib inline"
   ]
  },
  {
   "cell_type": "code",
   "execution_count": 2,
   "metadata": {},
   "outputs": [],
   "source": [
    "#Read the csv file and store our dataset into a dataframe called \"df\"\n",
    "df = pd.read_csv('HR_comma_sep.csv')"
   ]
  },
  {
   "cell_type": "markdown",
   "metadata": {},
   "source": [
    "# Part 2: Scrubbing the Data"
   ]
  },
  {
   "cell_type": "code",
   "execution_count": 3,
   "metadata": {},
   "outputs": [
    {
     "data": {
      "text/plain": [
       "satisfaction_level       False\n",
       "last_evaluation          False\n",
       "number_project           False\n",
       "average_montly_hours     False\n",
       "time_spend_company       False\n",
       "Work_accident            False\n",
       "left                     False\n",
       "promotion_last_5years    False\n",
       "Department               False\n",
       "salary                   False\n",
       "dtype: bool"
      ]
     },
     "execution_count": 3,
     "metadata": {},
     "output_type": "execute_result"
    }
   ],
   "source": [
    "# Check if there are any missing values in our data set\n",
    "df.isnull().any()"
   ]
  },
  {
   "cell_type": "markdown",
   "metadata": {},
   "source": [
    "There is no missing values in our dataset."
   ]
  },
  {
   "cell_type": "code",
   "execution_count": 4,
   "metadata": {},
   "outputs": [
    {
     "data": {
      "text/html": [
       "<div>\n",
       "<style scoped>\n",
       "    .dataframe tbody tr th:only-of-type {\n",
       "        vertical-align: middle;\n",
       "    }\n",
       "\n",
       "    .dataframe tbody tr th {\n",
       "        vertical-align: top;\n",
       "    }\n",
       "\n",
       "    .dataframe thead th {\n",
       "        text-align: right;\n",
       "    }\n",
       "</style>\n",
       "<table border=\"1\" class=\"dataframe\">\n",
       "  <thead>\n",
       "    <tr style=\"text-align: right;\">\n",
       "      <th></th>\n",
       "      <th>satisfaction_level</th>\n",
       "      <th>last_evaluation</th>\n",
       "      <th>number_project</th>\n",
       "      <th>average_montly_hours</th>\n",
       "      <th>time_spend_company</th>\n",
       "      <th>Work_accident</th>\n",
       "      <th>left</th>\n",
       "      <th>promotion_last_5years</th>\n",
       "      <th>Department</th>\n",
       "      <th>salary</th>\n",
       "    </tr>\n",
       "  </thead>\n",
       "  <tbody>\n",
       "    <tr>\n",
       "      <th>0</th>\n",
       "      <td>0.38</td>\n",
       "      <td>0.53</td>\n",
       "      <td>2</td>\n",
       "      <td>157</td>\n",
       "      <td>3</td>\n",
       "      <td>0</td>\n",
       "      <td>1</td>\n",
       "      <td>0</td>\n",
       "      <td>sales</td>\n",
       "      <td>low</td>\n",
       "    </tr>\n",
       "    <tr>\n",
       "      <th>1</th>\n",
       "      <td>0.80</td>\n",
       "      <td>0.86</td>\n",
       "      <td>5</td>\n",
       "      <td>262</td>\n",
       "      <td>6</td>\n",
       "      <td>0</td>\n",
       "      <td>1</td>\n",
       "      <td>0</td>\n",
       "      <td>sales</td>\n",
       "      <td>medium</td>\n",
       "    </tr>\n",
       "    <tr>\n",
       "      <th>2</th>\n",
       "      <td>0.11</td>\n",
       "      <td>0.88</td>\n",
       "      <td>7</td>\n",
       "      <td>272</td>\n",
       "      <td>4</td>\n",
       "      <td>0</td>\n",
       "      <td>1</td>\n",
       "      <td>0</td>\n",
       "      <td>sales</td>\n",
       "      <td>medium</td>\n",
       "    </tr>\n",
       "    <tr>\n",
       "      <th>3</th>\n",
       "      <td>0.72</td>\n",
       "      <td>0.87</td>\n",
       "      <td>5</td>\n",
       "      <td>223</td>\n",
       "      <td>5</td>\n",
       "      <td>0</td>\n",
       "      <td>1</td>\n",
       "      <td>0</td>\n",
       "      <td>sales</td>\n",
       "      <td>low</td>\n",
       "    </tr>\n",
       "    <tr>\n",
       "      <th>4</th>\n",
       "      <td>0.37</td>\n",
       "      <td>0.52</td>\n",
       "      <td>2</td>\n",
       "      <td>159</td>\n",
       "      <td>3</td>\n",
       "      <td>0</td>\n",
       "      <td>1</td>\n",
       "      <td>0</td>\n",
       "      <td>sales</td>\n",
       "      <td>low</td>\n",
       "    </tr>\n",
       "  </tbody>\n",
       "</table>\n",
       "</div>"
      ],
      "text/plain": [
       "   satisfaction_level  last_evaluation  number_project  average_montly_hours  \\\n",
       "0                0.38             0.53               2                   157   \n",
       "1                0.80             0.86               5                   262   \n",
       "2                0.11             0.88               7                   272   \n",
       "3                0.72             0.87               5                   223   \n",
       "4                0.37             0.52               2                   159   \n",
       "\n",
       "   time_spend_company  Work_accident  left  promotion_last_5years Department  \\\n",
       "0                   3              0     1                      0      sales   \n",
       "1                   6              0     1                      0      sales   \n",
       "2                   4              0     1                      0      sales   \n",
       "3                   5              0     1                      0      sales   \n",
       "4                   3              0     1                      0      sales   \n",
       "\n",
       "   salary  \n",
       "0     low  \n",
       "1  medium  \n",
       "2  medium  \n",
       "3     low  \n",
       "4     low  "
      ]
     },
     "execution_count": 4,
     "metadata": {},
     "output_type": "execute_result"
    }
   ],
   "source": [
    "# Quick overview of our dataset\n",
    "df.head()"
   ]
  },
  {
   "cell_type": "markdown",
   "metadata": {},
   "source": [
    "#### We need to make sure that our column names are easy to read and ensure that we convert categorical data to numeric values (if necessary) so that it is easier and better for us to analyse.\n",
    "\n",
    "#### We would like to change some of the Categorical Values to Numerical Values so we can better make use of the data."
   ]
  },
  {
   "cell_type": "code",
   "execution_count": 5,
   "metadata": {},
   "outputs": [
    {
     "data": {
      "text/html": [
       "<div>\n",
       "<style scoped>\n",
       "    .dataframe tbody tr th:only-of-type {\n",
       "        vertical-align: middle;\n",
       "    }\n",
       "\n",
       "    .dataframe tbody tr th {\n",
       "        vertical-align: top;\n",
       "    }\n",
       "\n",
       "    .dataframe thead th {\n",
       "        text-align: right;\n",
       "    }\n",
       "</style>\n",
       "<table border=\"1\" class=\"dataframe\">\n",
       "  <thead>\n",
       "    <tr style=\"text-align: right;\">\n",
       "      <th></th>\n",
       "      <th>satisfaction_level</th>\n",
       "      <th>last_evaluation</th>\n",
       "      <th>number_project</th>\n",
       "      <th>average_montly_hours</th>\n",
       "      <th>time_spend_company</th>\n",
       "      <th>Work_accident</th>\n",
       "      <th>left</th>\n",
       "      <th>promotion_last_5years</th>\n",
       "      <th>Department</th>\n",
       "      <th>salary</th>\n",
       "    </tr>\n",
       "  </thead>\n",
       "  <tbody>\n",
       "    <tr>\n",
       "      <th>0</th>\n",
       "      <td>0.38</td>\n",
       "      <td>0.53</td>\n",
       "      <td>2</td>\n",
       "      <td>157</td>\n",
       "      <td>3</td>\n",
       "      <td>0</td>\n",
       "      <td>1</td>\n",
       "      <td>0</td>\n",
       "      <td>sales</td>\n",
       "      <td>0</td>\n",
       "    </tr>\n",
       "    <tr>\n",
       "      <th>1</th>\n",
       "      <td>0.80</td>\n",
       "      <td>0.86</td>\n",
       "      <td>5</td>\n",
       "      <td>262</td>\n",
       "      <td>6</td>\n",
       "      <td>0</td>\n",
       "      <td>1</td>\n",
       "      <td>0</td>\n",
       "      <td>sales</td>\n",
       "      <td>1</td>\n",
       "    </tr>\n",
       "    <tr>\n",
       "      <th>2</th>\n",
       "      <td>0.11</td>\n",
       "      <td>0.88</td>\n",
       "      <td>7</td>\n",
       "      <td>272</td>\n",
       "      <td>4</td>\n",
       "      <td>0</td>\n",
       "      <td>1</td>\n",
       "      <td>0</td>\n",
       "      <td>sales</td>\n",
       "      <td>1</td>\n",
       "    </tr>\n",
       "    <tr>\n",
       "      <th>3</th>\n",
       "      <td>0.72</td>\n",
       "      <td>0.87</td>\n",
       "      <td>5</td>\n",
       "      <td>223</td>\n",
       "      <td>5</td>\n",
       "      <td>0</td>\n",
       "      <td>1</td>\n",
       "      <td>0</td>\n",
       "      <td>sales</td>\n",
       "      <td>0</td>\n",
       "    </tr>\n",
       "    <tr>\n",
       "      <th>4</th>\n",
       "      <td>0.37</td>\n",
       "      <td>0.52</td>\n",
       "      <td>2</td>\n",
       "      <td>159</td>\n",
       "      <td>3</td>\n",
       "      <td>0</td>\n",
       "      <td>1</td>\n",
       "      <td>0</td>\n",
       "      <td>sales</td>\n",
       "      <td>0</td>\n",
       "    </tr>\n",
       "  </tbody>\n",
       "</table>\n",
       "</div>"
      ],
      "text/plain": [
       "   satisfaction_level  last_evaluation  number_project  average_montly_hours  \\\n",
       "0                0.38             0.53               2                   157   \n",
       "1                0.80             0.86               5                   262   \n",
       "2                0.11             0.88               7                   272   \n",
       "3                0.72             0.87               5                   223   \n",
       "4                0.37             0.52               2                   159   \n",
       "\n",
       "   time_spend_company  Work_accident  left  promotion_last_5years Department  \\\n",
       "0                   3              0     1                      0      sales   \n",
       "1                   6              0     1                      0      sales   \n",
       "2                   4              0     1                      0      sales   \n",
       "3                   5              0     1                      0      sales   \n",
       "4                   3              0     1                      0      sales   \n",
       "\n",
       "   salary  \n",
       "0       0  \n",
       "1       1  \n",
       "2       1  \n",
       "3       0  \n",
       "4       0  "
      ]
     },
     "execution_count": 5,
     "metadata": {},
     "output_type": "execute_result"
    }
   ],
   "source": [
    "# Replacing the salary data with numerical values\n",
    "df['salary'].replace(['low', 'medium', 'high'], [0, 1, 2], inplace = True)\n",
    "df.head()"
   ]
  },
  {
   "cell_type": "code",
   "execution_count": 6,
   "metadata": {},
   "outputs": [
    {
     "data": {
      "text/html": [
       "<div>\n",
       "<style scoped>\n",
       "    .dataframe tbody tr th:only-of-type {\n",
       "        vertical-align: middle;\n",
       "    }\n",
       "\n",
       "    .dataframe tbody tr th {\n",
       "        vertical-align: top;\n",
       "    }\n",
       "\n",
       "    .dataframe thead th {\n",
       "        text-align: right;\n",
       "    }\n",
       "</style>\n",
       "<table border=\"1\" class=\"dataframe\">\n",
       "  <thead>\n",
       "    <tr style=\"text-align: right;\">\n",
       "      <th></th>\n",
       "      <th>satisfaction_level</th>\n",
       "      <th>last_evaluation</th>\n",
       "      <th>number_project</th>\n",
       "      <th>average_montly_hours</th>\n",
       "      <th>time_spend_company</th>\n",
       "      <th>Work_accident</th>\n",
       "      <th>left</th>\n",
       "      <th>promotion_last_5years</th>\n",
       "      <th>Department</th>\n",
       "      <th>salary</th>\n",
       "    </tr>\n",
       "  </thead>\n",
       "  <tbody>\n",
       "    <tr>\n",
       "      <th>0</th>\n",
       "      <td>0.38</td>\n",
       "      <td>0.53</td>\n",
       "      <td>2</td>\n",
       "      <td>157</td>\n",
       "      <td>3</td>\n",
       "      <td>0</td>\n",
       "      <td>1</td>\n",
       "      <td>0</td>\n",
       "      <td>0</td>\n",
       "      <td>0</td>\n",
       "    </tr>\n",
       "    <tr>\n",
       "      <th>1</th>\n",
       "      <td>0.80</td>\n",
       "      <td>0.86</td>\n",
       "      <td>5</td>\n",
       "      <td>262</td>\n",
       "      <td>6</td>\n",
       "      <td>0</td>\n",
       "      <td>1</td>\n",
       "      <td>0</td>\n",
       "      <td>0</td>\n",
       "      <td>1</td>\n",
       "    </tr>\n",
       "    <tr>\n",
       "      <th>2</th>\n",
       "      <td>0.11</td>\n",
       "      <td>0.88</td>\n",
       "      <td>7</td>\n",
       "      <td>272</td>\n",
       "      <td>4</td>\n",
       "      <td>0</td>\n",
       "      <td>1</td>\n",
       "      <td>0</td>\n",
       "      <td>0</td>\n",
       "      <td>1</td>\n",
       "    </tr>\n",
       "    <tr>\n",
       "      <th>3</th>\n",
       "      <td>0.72</td>\n",
       "      <td>0.87</td>\n",
       "      <td>5</td>\n",
       "      <td>223</td>\n",
       "      <td>5</td>\n",
       "      <td>0</td>\n",
       "      <td>1</td>\n",
       "      <td>0</td>\n",
       "      <td>0</td>\n",
       "      <td>0</td>\n",
       "    </tr>\n",
       "    <tr>\n",
       "      <th>4</th>\n",
       "      <td>0.37</td>\n",
       "      <td>0.52</td>\n",
       "      <td>2</td>\n",
       "      <td>159</td>\n",
       "      <td>3</td>\n",
       "      <td>0</td>\n",
       "      <td>1</td>\n",
       "      <td>0</td>\n",
       "      <td>0</td>\n",
       "      <td>0</td>\n",
       "    </tr>\n",
       "  </tbody>\n",
       "</table>\n",
       "</div>"
      ],
      "text/plain": [
       "   satisfaction_level  last_evaluation  number_project  average_montly_hours  \\\n",
       "0                0.38             0.53               2                   157   \n",
       "1                0.80             0.86               5                   262   \n",
       "2                0.11             0.88               7                   272   \n",
       "3                0.72             0.87               5                   223   \n",
       "4                0.37             0.52               2                   159   \n",
       "\n",
       "   time_spend_company  Work_accident  left  promotion_last_5years  Department  \\\n",
       "0                   3              0     1                      0           0   \n",
       "1                   6              0     1                      0           0   \n",
       "2                   4              0     1                      0           0   \n",
       "3                   5              0     1                      0           0   \n",
       "4                   3              0     1                      0           0   \n",
       "\n",
       "   salary  \n",
       "0       0  \n",
       "1       1  \n",
       "2       1  \n",
       "3       0  \n",
       "4       0  "
      ]
     },
     "execution_count": 6,
     "metadata": {},
     "output_type": "execute_result"
    }
   ],
   "source": [
    "# Replacing the salary data with numerical values\n",
    "df['Department'].replace(['sales', 'accounting', 'hr', 'technical', 'support', 'management', 'IT', 'product_mng', 'marketing', 'RandD'], [0, 1, 2, 3, 4, 5, 6, 7, 8, 9], inplace = True)\n",
    "df.head()"
   ]
  },
  {
   "cell_type": "markdown",
   "metadata": {},
   "source": [
    "####  Next, for easier comparison, we would like to shift the \"left\" variable to the front of the table"
   ]
  },
  {
   "cell_type": "code",
   "execution_count": 7,
   "metadata": {},
   "outputs": [
    {
     "data": {
      "text/html": [
       "<div>\n",
       "<style scoped>\n",
       "    .dataframe tbody tr th:only-of-type {\n",
       "        vertical-align: middle;\n",
       "    }\n",
       "\n",
       "    .dataframe tbody tr th {\n",
       "        vertical-align: top;\n",
       "    }\n",
       "\n",
       "    .dataframe thead th {\n",
       "        text-align: right;\n",
       "    }\n",
       "</style>\n",
       "<table border=\"1\" class=\"dataframe\">\n",
       "  <thead>\n",
       "    <tr style=\"text-align: right;\">\n",
       "      <th></th>\n",
       "      <th>left</th>\n",
       "      <th>satisfaction_level</th>\n",
       "      <th>last_evaluation</th>\n",
       "      <th>number_project</th>\n",
       "      <th>average_montly_hours</th>\n",
       "      <th>time_spend_company</th>\n",
       "      <th>Work_accident</th>\n",
       "      <th>promotion_last_5years</th>\n",
       "      <th>Department</th>\n",
       "      <th>salary</th>\n",
       "    </tr>\n",
       "  </thead>\n",
       "  <tbody>\n",
       "    <tr>\n",
       "      <th>0</th>\n",
       "      <td>1</td>\n",
       "      <td>0.38</td>\n",
       "      <td>0.53</td>\n",
       "      <td>2</td>\n",
       "      <td>157</td>\n",
       "      <td>3</td>\n",
       "      <td>0</td>\n",
       "      <td>0</td>\n",
       "      <td>0</td>\n",
       "      <td>0</td>\n",
       "    </tr>\n",
       "    <tr>\n",
       "      <th>1</th>\n",
       "      <td>1</td>\n",
       "      <td>0.80</td>\n",
       "      <td>0.86</td>\n",
       "      <td>5</td>\n",
       "      <td>262</td>\n",
       "      <td>6</td>\n",
       "      <td>0</td>\n",
       "      <td>0</td>\n",
       "      <td>0</td>\n",
       "      <td>1</td>\n",
       "    </tr>\n",
       "    <tr>\n",
       "      <th>2</th>\n",
       "      <td>1</td>\n",
       "      <td>0.11</td>\n",
       "      <td>0.88</td>\n",
       "      <td>7</td>\n",
       "      <td>272</td>\n",
       "      <td>4</td>\n",
       "      <td>0</td>\n",
       "      <td>0</td>\n",
       "      <td>0</td>\n",
       "      <td>1</td>\n",
       "    </tr>\n",
       "    <tr>\n",
       "      <th>3</th>\n",
       "      <td>1</td>\n",
       "      <td>0.72</td>\n",
       "      <td>0.87</td>\n",
       "      <td>5</td>\n",
       "      <td>223</td>\n",
       "      <td>5</td>\n",
       "      <td>0</td>\n",
       "      <td>0</td>\n",
       "      <td>0</td>\n",
       "      <td>0</td>\n",
       "    </tr>\n",
       "    <tr>\n",
       "      <th>4</th>\n",
       "      <td>1</td>\n",
       "      <td>0.37</td>\n",
       "      <td>0.52</td>\n",
       "      <td>2</td>\n",
       "      <td>159</td>\n",
       "      <td>3</td>\n",
       "      <td>0</td>\n",
       "      <td>0</td>\n",
       "      <td>0</td>\n",
       "      <td>0</td>\n",
       "    </tr>\n",
       "  </tbody>\n",
       "</table>\n",
       "</div>"
      ],
      "text/plain": [
       "   left  satisfaction_level  last_evaluation  number_project  \\\n",
       "0     1                0.38             0.53               2   \n",
       "1     1                0.80             0.86               5   \n",
       "2     1                0.11             0.88               7   \n",
       "3     1                0.72             0.87               5   \n",
       "4     1                0.37             0.52               2   \n",
       "\n",
       "   average_montly_hours  time_spend_company  Work_accident  \\\n",
       "0                   157                   3              0   \n",
       "1                   262                   6              0   \n",
       "2                   272                   4              0   \n",
       "3                   223                   5              0   \n",
       "4                   159                   3              0   \n",
       "\n",
       "   promotion_last_5years  Department  salary  \n",
       "0                      0           0       0  \n",
       "1                      0           0       1  \n",
       "2                      0           0       1  \n",
       "3                      0           0       0  \n",
       "4                      0           0       0  "
      ]
     },
     "execution_count": 7,
     "metadata": {},
     "output_type": "execute_result"
    }
   ],
   "source": [
    "front = df['left']\n",
    "df.drop(labels=['left'], axis=1,inplace = True)\n",
    "df.insert(0, 'left', front)\n",
    "df.head()"
   ]
  },
  {
   "cell_type": "markdown",
   "metadata": {},
   "source": [
    "# Part 3: Exploratory Data Analysis"
   ]
  },
  {
   "cell_type": "code",
   "execution_count": 8,
   "metadata": {},
   "outputs": [
    {
     "data": {
      "text/plain": [
       "(14999, 10)"
      ]
     },
     "execution_count": 8,
     "metadata": {},
     "output_type": "execute_result"
    }
   ],
   "source": [
    "# Check number of columns and data records we have\n",
    "df.shape"
   ]
  },
  {
   "cell_type": "markdown",
   "metadata": {},
   "source": [
    " The dataset contains 10 columns and 14999 employee records."
   ]
  },
  {
   "cell_type": "code",
   "execution_count": 9,
   "metadata": {},
   "outputs": [
    {
     "data": {
      "text/plain": [
       "left                       int64\n",
       "satisfaction_level       float64\n",
       "last_evaluation          float64\n",
       "number_project             int64\n",
       "average_montly_hours       int64\n",
       "time_spend_company         int64\n",
       "Work_accident              int64\n",
       "promotion_last_5years      int64\n",
       "Department                 int64\n",
       "salary                     int64\n",
       "dtype: object"
      ]
     },
     "execution_count": 9,
     "metadata": {},
     "output_type": "execute_result"
    }
   ],
   "source": [
    "# Check the type of our features. \n",
    "df.dtypes"
   ]
  },
  {
   "cell_type": "code",
   "execution_count": 10,
   "metadata": {},
   "outputs": [
    {
     "name": "stdout",
     "output_type": "stream",
     "text": [
      "Number of employees leaving the company:  3571\n"
     ]
    }
   ],
   "source": [
    "left = df[df.left==1]\n",
    "print('Number of employees leaving the company: ', len(left))"
   ]
  },
  {
   "cell_type": "code",
   "execution_count": 11,
   "metadata": {},
   "outputs": [
    {
     "name": "stdout",
     "output_type": "stream",
     "text": [
      "Number of employees staying in the company:  11428\n"
     ]
    }
   ],
   "source": [
    "retained = df[df.left==0]\n",
    "print('Number of employees staying in the company: ', len(retained))"
   ]
  },
  {
   "cell_type": "code",
   "execution_count": 12,
   "metadata": {},
   "outputs": [
    {
     "name": "stdout",
     "output_type": "stream",
     "text": [
      "Percentage of employees leaving is 23.80825388359224\n",
      "Percentage of employees staying is 76.19174611640777\n"
     ]
    }
   ],
   "source": [
    "pct_of_left = len(left)/len((left+retained))\n",
    "print(\"Percentage of employees leaving is\", pct_of_left*100)\n",
    "pct_of_retained = len(retained)/len((left+retained))\n",
    "print(\"Percentage of employees staying is\", pct_of_retained*100)"
   ]
  },
  {
   "cell_type": "markdown",
   "metadata": {},
   "source": [
    "Looks like about 76% of employees stayed and 24% of employees left."
   ]
  },
  {
   "cell_type": "code",
   "execution_count": 13,
   "metadata": {
    "scrolled": true
   },
   "outputs": [
    {
     "data": {
      "text/html": [
       "<div>\n",
       "<style scoped>\n",
       "    .dataframe tbody tr th:only-of-type {\n",
       "        vertical-align: middle;\n",
       "    }\n",
       "\n",
       "    .dataframe tbody tr th {\n",
       "        vertical-align: top;\n",
       "    }\n",
       "\n",
       "    .dataframe thead th {\n",
       "        text-align: right;\n",
       "    }\n",
       "</style>\n",
       "<table border=\"1\" class=\"dataframe\">\n",
       "  <thead>\n",
       "    <tr style=\"text-align: right;\">\n",
       "      <th></th>\n",
       "      <th>satisfaction_level</th>\n",
       "      <th>last_evaluation</th>\n",
       "      <th>number_project</th>\n",
       "      <th>average_montly_hours</th>\n",
       "      <th>time_spend_company</th>\n",
       "      <th>Work_accident</th>\n",
       "      <th>promotion_last_5years</th>\n",
       "      <th>Department</th>\n",
       "      <th>salary</th>\n",
       "    </tr>\n",
       "    <tr>\n",
       "      <th>left</th>\n",
       "      <th></th>\n",
       "      <th></th>\n",
       "      <th></th>\n",
       "      <th></th>\n",
       "      <th></th>\n",
       "      <th></th>\n",
       "      <th></th>\n",
       "      <th></th>\n",
       "      <th></th>\n",
       "    </tr>\n",
       "  </thead>\n",
       "  <tbody>\n",
       "    <tr>\n",
       "      <th>0</th>\n",
       "      <td>0.666810</td>\n",
       "      <td>0.715473</td>\n",
       "      <td>3.786664</td>\n",
       "      <td>199.060203</td>\n",
       "      <td>3.380032</td>\n",
       "      <td>0.175009</td>\n",
       "      <td>0.026251</td>\n",
       "      <td>3.408908</td>\n",
       "      <td>0.650945</td>\n",
       "    </tr>\n",
       "    <tr>\n",
       "      <th>1</th>\n",
       "      <td>0.440098</td>\n",
       "      <td>0.718113</td>\n",
       "      <td>3.855503</td>\n",
       "      <td>207.419210</td>\n",
       "      <td>3.876505</td>\n",
       "      <td>0.047326</td>\n",
       "      <td>0.005321</td>\n",
       "      <td>3.118734</td>\n",
       "      <td>0.414730</td>\n",
       "    </tr>\n",
       "  </tbody>\n",
       "</table>\n",
       "</div>"
      ],
      "text/plain": [
       "      satisfaction_level  last_evaluation  number_project  \\\n",
       "left                                                        \n",
       "0               0.666810         0.715473        3.786664   \n",
       "1               0.440098         0.718113        3.855503   \n",
       "\n",
       "      average_montly_hours  time_spend_company  Work_accident  \\\n",
       "left                                                            \n",
       "0               199.060203            3.380032       0.175009   \n",
       "1               207.419210            3.876505       0.047326   \n",
       "\n",
       "      promotion_last_5years  Department    salary  \n",
       "left                                               \n",
       "0                  0.026251    3.408908  0.650945  \n",
       "1                  0.005321    3.118734  0.414730  "
      ]
     },
     "execution_count": 13,
     "metadata": {},
     "output_type": "execute_result"
    }
   ],
   "source": [
    "# Overview of Summary\n",
    "df.groupby('left').mean()"
   ]
  },
  {
   "cell_type": "markdown",
   "metadata": {},
   "source": [
    "Based on the table above, it seems that on average, employees who left\n",
    "    - had a lower satisfaction level (0.44),\n",
    "    - worked 8hours more per month,\n",
    "    - had lower salary,\n",
    "    - and had a lower promotion rate"
   ]
  },
  {
   "cell_type": "markdown",
   "metadata": {},
   "source": [
    "Now, let's take a look at the correlated features"
   ]
  },
  {
   "cell_type": "code",
   "execution_count": 14,
   "metadata": {},
   "outputs": [
    {
     "data": {
      "text/html": [
       "<div>\n",
       "<style scoped>\n",
       "    .dataframe tbody tr th:only-of-type {\n",
       "        vertical-align: middle;\n",
       "    }\n",
       "\n",
       "    .dataframe tbody tr th {\n",
       "        vertical-align: top;\n",
       "    }\n",
       "\n",
       "    .dataframe thead th {\n",
       "        text-align: right;\n",
       "    }\n",
       "</style>\n",
       "<table border=\"1\" class=\"dataframe\">\n",
       "  <thead>\n",
       "    <tr style=\"text-align: right;\">\n",
       "      <th></th>\n",
       "      <th>left</th>\n",
       "      <th>satisfaction_level</th>\n",
       "      <th>last_evaluation</th>\n",
       "      <th>number_project</th>\n",
       "      <th>average_montly_hours</th>\n",
       "      <th>time_spend_company</th>\n",
       "      <th>Work_accident</th>\n",
       "      <th>promotion_last_5years</th>\n",
       "      <th>Department</th>\n",
       "      <th>salary</th>\n",
       "    </tr>\n",
       "  </thead>\n",
       "  <tbody>\n",
       "    <tr>\n",
       "      <th>left</th>\n",
       "      <td>1.000000</td>\n",
       "      <td>-0.388375</td>\n",
       "      <td>0.006567</td>\n",
       "      <td>0.023787</td>\n",
       "      <td>0.071287</td>\n",
       "      <td>0.144822</td>\n",
       "      <td>-0.154622</td>\n",
       "      <td>-0.061788</td>\n",
       "      <td>-0.043814</td>\n",
       "      <td>-0.157898</td>\n",
       "    </tr>\n",
       "    <tr>\n",
       "      <th>satisfaction_level</th>\n",
       "      <td>-0.388375</td>\n",
       "      <td>1.000000</td>\n",
       "      <td>0.105021</td>\n",
       "      <td>-0.142970</td>\n",
       "      <td>-0.020048</td>\n",
       "      <td>-0.100866</td>\n",
       "      <td>0.058697</td>\n",
       "      <td>0.025605</td>\n",
       "      <td>0.015413</td>\n",
       "      <td>0.050022</td>\n",
       "    </tr>\n",
       "    <tr>\n",
       "      <th>last_evaluation</th>\n",
       "      <td>0.006567</td>\n",
       "      <td>0.105021</td>\n",
       "      <td>1.000000</td>\n",
       "      <td>0.349333</td>\n",
       "      <td>0.339742</td>\n",
       "      <td>0.131591</td>\n",
       "      <td>-0.007104</td>\n",
       "      <td>-0.008684</td>\n",
       "      <td>0.011855</td>\n",
       "      <td>-0.013002</td>\n",
       "    </tr>\n",
       "    <tr>\n",
       "      <th>number_project</th>\n",
       "      <td>0.023787</td>\n",
       "      <td>-0.142970</td>\n",
       "      <td>0.349333</td>\n",
       "      <td>1.000000</td>\n",
       "      <td>0.417211</td>\n",
       "      <td>0.196786</td>\n",
       "      <td>-0.004741</td>\n",
       "      <td>-0.006064</td>\n",
       "      <td>0.005577</td>\n",
       "      <td>-0.001803</td>\n",
       "    </tr>\n",
       "    <tr>\n",
       "      <th>average_montly_hours</th>\n",
       "      <td>0.071287</td>\n",
       "      <td>-0.020048</td>\n",
       "      <td>0.339742</td>\n",
       "      <td>0.417211</td>\n",
       "      <td>1.000000</td>\n",
       "      <td>0.127755</td>\n",
       "      <td>-0.010143</td>\n",
       "      <td>-0.003544</td>\n",
       "      <td>-0.002387</td>\n",
       "      <td>-0.002242</td>\n",
       "    </tr>\n",
       "    <tr>\n",
       "      <th>time_spend_company</th>\n",
       "      <td>0.144822</td>\n",
       "      <td>-0.100866</td>\n",
       "      <td>0.131591</td>\n",
       "      <td>0.196786</td>\n",
       "      <td>0.127755</td>\n",
       "      <td>1.000000</td>\n",
       "      <td>0.002120</td>\n",
       "      <td>0.067433</td>\n",
       "      <td>-0.001611</td>\n",
       "      <td>0.048715</td>\n",
       "    </tr>\n",
       "    <tr>\n",
       "      <th>Work_accident</th>\n",
       "      <td>-0.154622</td>\n",
       "      <td>0.058697</td>\n",
       "      <td>-0.007104</td>\n",
       "      <td>-0.004741</td>\n",
       "      <td>-0.010143</td>\n",
       "      <td>0.002120</td>\n",
       "      <td>1.000000</td>\n",
       "      <td>0.039245</td>\n",
       "      <td>0.019215</td>\n",
       "      <td>0.009247</td>\n",
       "    </tr>\n",
       "    <tr>\n",
       "      <th>promotion_last_5years</th>\n",
       "      <td>-0.061788</td>\n",
       "      <td>0.025605</td>\n",
       "      <td>-0.008684</td>\n",
       "      <td>-0.006064</td>\n",
       "      <td>-0.003544</td>\n",
       "      <td>0.067433</td>\n",
       "      <td>0.039245</td>\n",
       "      <td>1.000000</td>\n",
       "      <td>0.015170</td>\n",
       "      <td>0.098119</td>\n",
       "    </tr>\n",
       "    <tr>\n",
       "      <th>Department</th>\n",
       "      <td>-0.043814</td>\n",
       "      <td>0.015413</td>\n",
       "      <td>0.011855</td>\n",
       "      <td>0.005577</td>\n",
       "      <td>-0.002387</td>\n",
       "      <td>-0.001611</td>\n",
       "      <td>0.019215</td>\n",
       "      <td>0.015170</td>\n",
       "      <td>1.000000</td>\n",
       "      <td>0.033415</td>\n",
       "    </tr>\n",
       "    <tr>\n",
       "      <th>salary</th>\n",
       "      <td>-0.157898</td>\n",
       "      <td>0.050022</td>\n",
       "      <td>-0.013002</td>\n",
       "      <td>-0.001803</td>\n",
       "      <td>-0.002242</td>\n",
       "      <td>0.048715</td>\n",
       "      <td>0.009247</td>\n",
       "      <td>0.098119</td>\n",
       "      <td>0.033415</td>\n",
       "      <td>1.000000</td>\n",
       "    </tr>\n",
       "  </tbody>\n",
       "</table>\n",
       "</div>"
      ],
      "text/plain": [
       "                           left  satisfaction_level  last_evaluation  \\\n",
       "left                   1.000000           -0.388375         0.006567   \n",
       "satisfaction_level    -0.388375            1.000000         0.105021   \n",
       "last_evaluation        0.006567            0.105021         1.000000   \n",
       "number_project         0.023787           -0.142970         0.349333   \n",
       "average_montly_hours   0.071287           -0.020048         0.339742   \n",
       "time_spend_company     0.144822           -0.100866         0.131591   \n",
       "Work_accident         -0.154622            0.058697        -0.007104   \n",
       "promotion_last_5years -0.061788            0.025605        -0.008684   \n",
       "Department            -0.043814            0.015413         0.011855   \n",
       "salary                -0.157898            0.050022        -0.013002   \n",
       "\n",
       "                       number_project  average_montly_hours  \\\n",
       "left                         0.023787              0.071287   \n",
       "satisfaction_level          -0.142970             -0.020048   \n",
       "last_evaluation              0.349333              0.339742   \n",
       "number_project               1.000000              0.417211   \n",
       "average_montly_hours         0.417211              1.000000   \n",
       "time_spend_company           0.196786              0.127755   \n",
       "Work_accident               -0.004741             -0.010143   \n",
       "promotion_last_5years       -0.006064             -0.003544   \n",
       "Department                   0.005577             -0.002387   \n",
       "salary                      -0.001803             -0.002242   \n",
       "\n",
       "                       time_spend_company  Work_accident  \\\n",
       "left                             0.144822      -0.154622   \n",
       "satisfaction_level              -0.100866       0.058697   \n",
       "last_evaluation                  0.131591      -0.007104   \n",
       "number_project                   0.196786      -0.004741   \n",
       "average_montly_hours             0.127755      -0.010143   \n",
       "time_spend_company               1.000000       0.002120   \n",
       "Work_accident                    0.002120       1.000000   \n",
       "promotion_last_5years            0.067433       0.039245   \n",
       "Department                      -0.001611       0.019215   \n",
       "salary                           0.048715       0.009247   \n",
       "\n",
       "                       promotion_last_5years  Department    salary  \n",
       "left                               -0.061788   -0.043814 -0.157898  \n",
       "satisfaction_level                  0.025605    0.015413  0.050022  \n",
       "last_evaluation                    -0.008684    0.011855 -0.013002  \n",
       "number_project                     -0.006064    0.005577 -0.001803  \n",
       "average_montly_hours               -0.003544   -0.002387 -0.002242  \n",
       "time_spend_company                  0.067433   -0.001611  0.048715  \n",
       "Work_accident                       0.039245    0.019215  0.009247  \n",
       "promotion_last_5years               1.000000    0.015170  0.098119  \n",
       "Department                          0.015170    1.000000  0.033415  \n",
       "salary                              0.098119    0.033415  1.000000  "
      ]
     },
     "execution_count": 14,
     "metadata": {},
     "output_type": "execute_result"
    }
   ],
   "source": [
    "# Correlation Coefficients Table\n",
    "corr = df.corr()\n",
    "corr = (corr)\n",
    "corr"
   ]
  },
  {
   "cell_type": "code",
   "execution_count": 15,
   "metadata": {},
   "outputs": [
    {
     "data": {
      "text/plain": [
       "Text(0.5, 1, 'Heatmap of Correlation Matrix')"
      ]
     },
     "execution_count": 15,
     "metadata": {},
     "output_type": "execute_result"
    },
    {
     "data": {
      "image/png": "[encoded data removed]",
      "text/plain": [
       "<Figure size 432x288 with 2 Axes>"
      ]
     },
     "metadata": {
      "needs_background": "light"
     },
     "output_type": "display_data"
    }
   ],
   "source": [
    "# Correlation Matrix\n",
    "sb.heatmap(corr,\n",
    "           xticklabels=corr.columns.values,\n",
    "           yticklabels=corr.columns.values,\n",
    "           cmap=\"Oranges\")\n",
    "plt.title('Heatmap of Correlation Matrix')"
   ]
  },
  {
   "cell_type": "markdown",
   "metadata": {},
   "source": [
    "Highly correlated features:\n",
    "1. (+) Project Count & Average Monthly Hours & Evaluation\n",
    "2. (-) Left & Satisfaction & Salary\n",
    "\n",
    "From the heatmap, there seems to be heavy positive(+) correlation between project count, average monthly hours, and evaluation. This could mean that the employees who spent more hours and did more projects were evaluated highly. But the feature evaluation on its own, when compared independently with the response variable left, shows little to no relationship. \n",
    "\n",
    "For the negative(-) relationships, left (i.e people leaving the company), satisfaction, and salary are highly correlated. We could assume that people tend to leave a company more when they are less satisfied and are lowly paid."
   ]
  },
  {
   "cell_type": "markdown",
   "metadata": {},
   "source": [
    "Now, let's take a look at some of the relationships between employees leaving the company and the other variables"
   ]
  },
  {
   "cell_type": "code",
   "execution_count": 16,
   "metadata": {},
   "outputs": [
    {
     "data": {
      "text/plain": [
       "<matplotlib.axes._subplots.AxesSubplot at 0x146366b8be0>"
      ]
     },
     "execution_count": 16,
     "metadata": {},
     "output_type": "execute_result"
    },
    {
     "data": {
      "image/png": "[encoded data removed]",
      "text/plain": [
       "<Figure size 360x360 with 1 Axes>"
      ]
     },
     "metadata": {
      "needs_background": "light"
     },
     "output_type": "display_data"
    }
   ],
   "source": [
    "#Department v.s Left\n",
    "clarity_color_table = pd.crosstab(index=df[\"Department\"], \n",
    "                          columns=df[\"left\"])\n",
    "\n",
    "clarity_color_table.plot(kind=\"bar\", colormap='Set3',\n",
    "                 figsize=(5,5),\n",
    "                 stacked=True)"
   ]
  },
  {
   "cell_type": "code",
   "execution_count": 17,
   "metadata": {},
   "outputs": [
    {
     "data": {
      "text/plain": [
       "<matplotlib.axes._subplots.AxesSubplot at 0x146368eca90>"
      ]
     },
     "execution_count": 17,
     "metadata": {},
     "output_type": "execute_result"
    },
    {
     "data": {
      "image/png": "[encoded data removed]",
      "text/plain": [
       "<Figure size 360x360 with 1 Axes>"
      ]
     },
     "metadata": {
      "needs_background": "light"
     },
     "output_type": "display_data"
    }
   ],
   "source": [
    "#Department v.s Salary\n",
    "clarity_color_table = pd.crosstab(index=df[\"Department\"], \n",
    "                          columns=df[\"salary\"])\n",
    "\n",
    "clarity_color_table.plot(kind=\"bar\", colormap='Set3', \n",
    "                 figsize=(5,5),\n",
    "                 stacked=True)"
   ]
  },
  {
   "cell_type": "markdown",
   "metadata": {},
   "source": [
    "From the first bar plot, it seems like the top three departments for the company are support, technical, and sales. Most of the departments have similar turnover rates, but management has the lowest. This could mean that people with a higher position tend to not leave. And this is true since in the second bar plot, it can be seen that the management department has the highest salary ratio and lowest turnover rate."
   ]
  },
  {
   "cell_type": "code",
   "execution_count": 18,
   "metadata": {},
   "outputs": [
    {
     "data": {
      "text/plain": [
       "<matplotlib.axes._subplots.AxesSubplot at 0x146369cacc0>"
      ]
     },
     "execution_count": 18,
     "metadata": {},
     "output_type": "execute_result"
    },
    {
     "data": {
      "image/png": "[encoded data removed]",
      "text/plain": [
       "<Figure size 360x360 with 1 Axes>"
      ]
     },
     "metadata": {
      "needs_background": "light"
     },
     "output_type": "display_data"
    }
   ],
   "source": [
    "#Salary v.s Left\n",
    "clarity_color_table = pd.crosstab(index=df[\"salary\"], \n",
    "                          columns=df[\"left\"])\n",
    "\n",
    "clarity_color_table.plot(kind=\"bar\", colormap='Set3',\n",
    "                 figsize=(5,5),\n",
    "                 stacked=True)"
   ]
  },
  {
   "cell_type": "markdown",
   "metadata": {},
   "source": [
    "An interesting observation to be seen here. Almost all of the employees who left the company came from low to medium salary ranges. Barely anybody that had a high salary left the company."
   ]
  },
  {
   "cell_type": "code",
   "execution_count": 19,
   "metadata": {},
   "outputs": [
    {
     "data": {
      "text/plain": [
       "<matplotlib.axes._subplots.AxesSubplot at 0x14636a3cac8>"
      ]
     },
     "execution_count": 19,
     "metadata": {},
     "output_type": "execute_result"
    },
    {
     "data": {
      "image/png": "[encoded data removed]",
      "text/plain": [
       "<Figure size 360x360 with 1 Axes>"
      ]
     },
     "metadata": {
      "needs_background": "light"
     },
     "output_type": "display_data"
    }
   ],
   "source": [
    "#Promotion v.s Left\n",
    "clarity_color_table = pd.crosstab(index=df[\"promotion_last_5years\"], \n",
    "                          columns=df[\"left\"])\n",
    "\n",
    "clarity_color_table.plot(kind=\"bar\", colormap='Set3',\n",
    "                 figsize=(5,5),\n",
    "                 stacked=True)"
   ]
  },
  {
   "cell_type": "markdown",
   "metadata": {},
   "source": [
    "It seems like most of the employees who left the company were not promoted in the last 5 years!"
   ]
  },
  {
   "cell_type": "code",
   "execution_count": 20,
   "metadata": {},
   "outputs": [
    {
     "data": {
      "text/plain": [
       "<matplotlib.axes._subplots.AxesSubplot at 0x14636d17a58>"
      ]
     },
     "execution_count": 20,
     "metadata": {},
     "output_type": "execute_result"
    },
    {
     "data": {
      "image/png": "[encoded data removed]",
      "text/plain": [
       "<Figure size 360x360 with 1 Axes>"
      ]
     },
     "metadata": {
      "needs_background": "light"
     },
     "output_type": "display_data"
    }
   ],
   "source": [
    "# No.of Years at Company v.s Left\n",
    "clarity_color_table = pd.crosstab(index=df[\"time_spend_company\"], \n",
    "                          columns=df[\"left\"])\n",
    "\n",
    "clarity_color_table.plot(kind=\"bar\", colormap='Set3',\n",
    "                 figsize=(5,5),\n",
    "                 stacked=True)"
   ]
  },
  {
   "cell_type": "markdown",
   "metadata": {},
   "source": [
    "It seems like a huge majority of the employees who left worked for about 3-6 years before leaving. Employees that worked for 7-10 years did not have anybody who left."
   ]
  },
  {
   "cell_type": "code",
   "execution_count": 21,
   "metadata": {},
   "outputs": [
    {
     "data": {
      "text/plain": [
       "<matplotlib.axes._subplots.AxesSubplot at 0x14636daa828>"
      ]
     },
     "execution_count": 21,
     "metadata": {},
     "output_type": "execute_result"
    },
    {
     "data": {
      "image/png": "[encoded data removed]",
      "text/plain": [
       "<Figure size 360x360 with 1 Axes>"
      ]
     },
     "metadata": {
      "needs_background": "light"
     },
     "output_type": "display_data"
    }
   ],
   "source": [
    "# No. of project v.s. Left\n",
    "clarity_color_table = pd.crosstab(index=df[\"number_project\"], \n",
    "                          columns=df[\"left\"])\n",
    "\n",
    "clarity_color_table.plot(kind=\"bar\", colormap='Set3',\n",
    "                 figsize=(5,5),\n",
    "                 stacked=True)"
   ]
  },
  {
   "cell_type": "markdown",
   "metadata": {},
   "source": [
    "There are some interesting observations to be seen here. More than half of the employees that only had 2 projects left the company. The same could be said with employees who had 6-7 projects. This could mean that employees with 2 projects or less are not valued highly enough and thus could be the reason why they left the company. In the same way, employees with 6+ projects were probably getting overworked and thus, left the company.\n",
    "\n",
    "It looks like a majority of the employes who left only had two projects. Also, there is an increase in turnover rate as the number of projects increase. 3 Projects seems to be the sweet spot."
   ]
  },
  {
   "cell_type": "code",
   "execution_count": 22,
   "metadata": {},
   "outputs": [
    {
     "data": {
      "text/plain": [
       "<matplotlib.axes._subplots.AxesSubplot at 0x14636e20cf8>"
      ]
     },
     "execution_count": 22,
     "metadata": {},
     "output_type": "execute_result"
    },
    {
     "data": {
      "image/png": "[encoded data removed]",
      "text/plain": [
       "<Figure size 360x360 with 1 Axes>"
      ]
     },
     "metadata": {
      "needs_background": "light"
     },
     "output_type": "display_data"
    }
   ],
   "source": [
    "#Work Accident v.s Left\n",
    "clarity_color_table = pd.crosstab(index=df[\"Work_accident\"], \n",
    "                          columns=df[\"left\"])\n",
    "\n",
    "clarity_color_table.plot(kind=\"bar\", colormap='Set3',\n",
    "                 figsize=(5,5),\n",
    "                 stacked=True)"
   ]
  },
  {
   "cell_type": "markdown",
   "metadata": {},
   "source": [
    "There is an interesting observation here. Employees that had a work accident rarely left the company; majority of those who left had not had any work accidents before. This is could be probably due to the fact that those who had work accidents could claim huge insurance amounts and did not feel the need to move on from the company!"
   ]
  },
  {
   "cell_type": "code",
   "execution_count": 23,
   "metadata": {},
   "outputs": [
    {
     "data": {
      "text/plain": [
       "<seaborn.axisgrid.FacetGrid at 0x14636e31198>"
      ]
     },
     "execution_count": 23,
     "metadata": {},
     "output_type": "execute_result"
    },
    {
     "data": {
      "image/png": "[encoded data removed]",
      "text/plain": [
       "<Figure size 474.375x216 with 1 Axes>"
      ]
     },
     "metadata": {
      "needs_background": "light"
     },
     "output_type": "display_data"
    }
   ],
   "source": [
    "# Last Evaluation v.s. Left\n",
    "g = sb.FacetGrid(df, hue=\"left\",aspect=2)\n",
    "g.map(sb.kdeplot,'last_evaluation',shade= True)\n",
    "g.set(xlim=(0, df['last_evaluation'].max()))\n",
    "g.add_legend()"
   ]
  },
  {
   "cell_type": "markdown",
   "metadata": {},
   "source": [
    "There seems to be a bimodal distribution for those that had left the company. It looks like employees who performed bad or performed well left the company. The former seems reasonable since these employees might have felt that they would not be promoted due to their bad performance. However, the latter observation seems interesting - these people probably left because they may not have been happy with their work/company. \n",
    "\n",
    "The sweet spot seems for those that stayed seems to be within 0.6-0.8."
   ]
  },
  {
   "cell_type": "code",
   "execution_count": 24,
   "metadata": {},
   "outputs": [
    {
     "data": {
      "text/plain": [
       "<seaborn.axisgrid.FacetGrid at 0x14636f3acc0>"
      ]
     },
     "execution_count": 24,
     "metadata": {},
     "output_type": "execute_result"
    },
    {
     "data": {
      "image/png": "[encoded data removed]",
      "text/plain": [
       "<Figure size 474.375x216 with 1 Axes>"
      ]
     },
     "metadata": {
      "needs_background": "light"
     },
     "output_type": "display_data"
    }
   ],
   "source": [
    "# Average monthly hours v.s. Left\n",
    "g = sb.FacetGrid(df, hue=\"left\",aspect=2)\n",
    "g.map(sb.kdeplot,'average_montly_hours',shade= True)\n",
    "g.set(xlim=(0, df['average_montly_hours'].max()))\n",
    "g.add_legend()"
   ]
  },
  {
   "cell_type": "markdown",
   "metadata": {},
   "source": [
    "This is another noticeable bi-modal distrubtion for employees that left the company. It looks like employees who had less hours of work (150 hours or less) and employees who had too many hours of work (250 hours or more) left the company. This means that employees who left were generally underworked or overworked."
   ]
  },
  {
   "cell_type": "code",
   "execution_count": 25,
   "metadata": {},
   "outputs": [
    {
     "data": {
      "text/plain": [
       "<seaborn.axisgrid.FacetGrid at 0x14636f9add8>"
      ]
     },
     "execution_count": 25,
     "metadata": {},
     "output_type": "execute_result"
    },
    {
     "data": {
      "image/png": "[encoded data removed]",
      "text/plain": [
       "<Figure size 474.375x216 with 1 Axes>"
      ]
     },
     "metadata": {
      "needs_background": "light"
     },
     "output_type": "display_data"
    }
   ],
   "source": [
    "# Satisfaction Level v.s. Left\n",
    "g = sb.FacetGrid(df, hue=\"left\",aspect=2)\n",
    "g.map(sb.kdeplot,'satisfaction_level',shade= True)\n",
    "g.set(xlim=(0, df['satisfaction_level'].max()))\n",
    "g.add_legend()"
   ]
  },
  {
   "cell_type": "markdown",
   "metadata": {},
   "source": [
    "The plot seems to show a trimodal distribution for those who left the company. It seems that employees that had mid levels and low levels of satisfaction generally left the company. On the other hand, employees who were more satisfied tended to remain in the company."
   ]
  },
  {
   "cell_type": "markdown",
   "metadata": {},
   "source": [
    "### Following the data exploration, we would now like to use all these variables as predictors for our model"
   ]
  },
  {
   "cell_type": "code",
   "execution_count": 26,
   "metadata": {},
   "outputs": [
    {
     "data": {
      "text/html": [
       "<div>\n",
       "<style scoped>\n",
       "    .dataframe tbody tr th:only-of-type {\n",
       "        vertical-align: middle;\n",
       "    }\n",
       "\n",
       "    .dataframe tbody tr th {\n",
       "        vertical-align: top;\n",
       "    }\n",
       "\n",
       "    .dataframe thead th {\n",
       "        text-align: right;\n",
       "    }\n",
       "</style>\n",
       "<table border=\"1\" class=\"dataframe\">\n",
       "  <thead>\n",
       "    <tr style=\"text-align: right;\">\n",
       "      <th></th>\n",
       "      <th>satisfaction_level</th>\n",
       "      <th>average_montly_hours</th>\n",
       "      <th>salary</th>\n",
       "      <th>time_spend_company</th>\n",
       "      <th>Work_accident</th>\n",
       "      <th>number_project</th>\n",
       "      <th>last_evaluation</th>\n",
       "      <th>promotion_last_5years</th>\n",
       "      <th>Department</th>\n",
       "    </tr>\n",
       "  </thead>\n",
       "  <tbody>\n",
       "    <tr>\n",
       "      <th>0</th>\n",
       "      <td>0.38</td>\n",
       "      <td>157</td>\n",
       "      <td>0</td>\n",
       "      <td>3</td>\n",
       "      <td>0</td>\n",
       "      <td>2</td>\n",
       "      <td>0.53</td>\n",
       "      <td>0</td>\n",
       "      <td>0</td>\n",
       "    </tr>\n",
       "    <tr>\n",
       "      <th>1</th>\n",
       "      <td>0.80</td>\n",
       "      <td>262</td>\n",
       "      <td>1</td>\n",
       "      <td>6</td>\n",
       "      <td>0</td>\n",
       "      <td>5</td>\n",
       "      <td>0.86</td>\n",
       "      <td>0</td>\n",
       "      <td>0</td>\n",
       "    </tr>\n",
       "    <tr>\n",
       "      <th>2</th>\n",
       "      <td>0.11</td>\n",
       "      <td>272</td>\n",
       "      <td>1</td>\n",
       "      <td>4</td>\n",
       "      <td>0</td>\n",
       "      <td>7</td>\n",
       "      <td>0.88</td>\n",
       "      <td>0</td>\n",
       "      <td>0</td>\n",
       "    </tr>\n",
       "    <tr>\n",
       "      <th>3</th>\n",
       "      <td>0.72</td>\n",
       "      <td>223</td>\n",
       "      <td>0</td>\n",
       "      <td>5</td>\n",
       "      <td>0</td>\n",
       "      <td>5</td>\n",
       "      <td>0.87</td>\n",
       "      <td>0</td>\n",
       "      <td>0</td>\n",
       "    </tr>\n",
       "    <tr>\n",
       "      <th>4</th>\n",
       "      <td>0.37</td>\n",
       "      <td>159</td>\n",
       "      <td>0</td>\n",
       "      <td>3</td>\n",
       "      <td>0</td>\n",
       "      <td>2</td>\n",
       "      <td>0.52</td>\n",
       "      <td>0</td>\n",
       "      <td>0</td>\n",
       "    </tr>\n",
       "  </tbody>\n",
       "</table>\n",
       "</div>"
      ],
      "text/plain": [
       "   satisfaction_level  average_montly_hours  salary  time_spend_company  \\\n",
       "0                0.38                   157       0                   3   \n",
       "1                0.80                   262       1                   6   \n",
       "2                0.11                   272       1                   4   \n",
       "3                0.72                   223       0                   5   \n",
       "4                0.37                   159       0                   3   \n",
       "\n",
       "   Work_accident  number_project  last_evaluation  promotion_last_5years  \\\n",
       "0              0               2             0.53                      0   \n",
       "1              0               5             0.86                      0   \n",
       "2              0               7             0.88                      0   \n",
       "3              0               5             0.87                      0   \n",
       "4              0               2             0.52                      0   \n",
       "\n",
       "   Department  \n",
       "0           0  \n",
       "1           0  \n",
       "2           0  \n",
       "3           0  \n",
       "4           0  "
      ]
     },
     "execution_count": 26,
     "metadata": {},
     "output_type": "execute_result"
    }
   ],
   "source": [
    "# Taking the relevant variables for our models\n",
    "cleandf = df[['satisfaction_level', 'average_montly_hours', 'salary', 'time_spend_company','Work_accident', 'number_project', 'last_evaluation', 'promotion_last_5years', 'Department']]\n",
    "cleandf.head()"
   ]
  },
  {
   "cell_type": "code",
   "execution_count": 27,
   "metadata": {},
   "outputs": [
    {
     "data": {
      "text/html": [
       "<div>\n",
       "<style scoped>\n",
       "    .dataframe tbody tr th:only-of-type {\n",
       "        vertical-align: middle;\n",
       "    }\n",
       "\n",
       "    .dataframe tbody tr th {\n",
       "        vertical-align: top;\n",
       "    }\n",
       "\n",
       "    .dataframe thead th {\n",
       "        text-align: right;\n",
       "    }\n",
       "</style>\n",
       "<table border=\"1\" class=\"dataframe\">\n",
       "  <thead>\n",
       "    <tr style=\"text-align: right;\">\n",
       "      <th></th>\n",
       "      <th>satisfaction_level</th>\n",
       "      <th>average_montly_hours</th>\n",
       "      <th>salary</th>\n",
       "      <th>time_spend_company</th>\n",
       "      <th>Work_accident</th>\n",
       "      <th>number_project</th>\n",
       "      <th>last_evaluation</th>\n",
       "      <th>promotion_last_5years</th>\n",
       "      <th>Department</th>\n",
       "    </tr>\n",
       "  </thead>\n",
       "  <tbody>\n",
       "    <tr>\n",
       "      <th>0</th>\n",
       "      <td>0.38</td>\n",
       "      <td>157</td>\n",
       "      <td>0</td>\n",
       "      <td>3</td>\n",
       "      <td>0</td>\n",
       "      <td>2</td>\n",
       "      <td>0.53</td>\n",
       "      <td>0</td>\n",
       "      <td>0</td>\n",
       "    </tr>\n",
       "    <tr>\n",
       "      <th>1</th>\n",
       "      <td>0.80</td>\n",
       "      <td>262</td>\n",
       "      <td>1</td>\n",
       "      <td>6</td>\n",
       "      <td>0</td>\n",
       "      <td>5</td>\n",
       "      <td>0.86</td>\n",
       "      <td>0</td>\n",
       "      <td>0</td>\n",
       "    </tr>\n",
       "    <tr>\n",
       "      <th>2</th>\n",
       "      <td>0.11</td>\n",
       "      <td>272</td>\n",
       "      <td>1</td>\n",
       "      <td>4</td>\n",
       "      <td>0</td>\n",
       "      <td>7</td>\n",
       "      <td>0.88</td>\n",
       "      <td>0</td>\n",
       "      <td>0</td>\n",
       "    </tr>\n",
       "    <tr>\n",
       "      <th>3</th>\n",
       "      <td>0.72</td>\n",
       "      <td>223</td>\n",
       "      <td>0</td>\n",
       "      <td>5</td>\n",
       "      <td>0</td>\n",
       "      <td>5</td>\n",
       "      <td>0.87</td>\n",
       "      <td>0</td>\n",
       "      <td>0</td>\n",
       "    </tr>\n",
       "    <tr>\n",
       "      <th>4</th>\n",
       "      <td>0.37</td>\n",
       "      <td>159</td>\n",
       "      <td>0</td>\n",
       "      <td>3</td>\n",
       "      <td>0</td>\n",
       "      <td>2</td>\n",
       "      <td>0.52</td>\n",
       "      <td>0</td>\n",
       "      <td>0</td>\n",
       "    </tr>\n",
       "  </tbody>\n",
       "</table>\n",
       "</div>"
      ],
      "text/plain": [
       "   satisfaction_level  average_montly_hours  salary  time_spend_company  \\\n",
       "0                0.38                   157       0                   3   \n",
       "1                0.80                   262       1                   6   \n",
       "2                0.11                   272       1                   4   \n",
       "3                0.72                   223       0                   5   \n",
       "4                0.37                   159       0                   3   \n",
       "\n",
       "   Work_accident  number_project  last_evaluation  promotion_last_5years  \\\n",
       "0              0               2             0.53                      0   \n",
       "1              0               5             0.86                      0   \n",
       "2              0               7             0.88                      0   \n",
       "3              0               5             0.87                      0   \n",
       "4              0               2             0.52                      0   \n",
       "\n",
       "   Department  \n",
       "0           0  \n",
       "1           0  \n",
       "2           0  \n",
       "3           0  \n",
       "4           0  "
      ]
     },
     "execution_count": 27,
     "metadata": {},
     "output_type": "execute_result"
    }
   ],
   "source": [
    "X = cleandf\n",
    "X.head()"
   ]
  },
  {
   "cell_type": "code",
   "execution_count": 28,
   "metadata": {},
   "outputs": [],
   "source": [
    "y = df.left"
   ]
  },
  {
   "cell_type": "code",
   "execution_count": 29,
   "metadata": {},
   "outputs": [],
   "source": [
    "# Split the Data for Train and Test\n",
    "from sklearn.model_selection import train_test_split\n",
    "X_train, X_test, y_train, y_test = train_test_split(X, y, test_size=0.4, random_state=17)"
   ]
  },
  {
   "cell_type": "markdown",
   "metadata": {},
   "source": [
    "# Part 4: Modelling\n",
    "### We would like to use the following techniques to model our dataset to determine which of the following models would best allow us to predict if an employee would leave or remain in the company.\n",
    "\n",
    "    0. Decision Tree Classifier (we use it as the baseline comparison)\n",
    "    1. Logistic Regression\n",
    "    2. Random Forest Classifier\n",
    "    3. Naive Bayes (Bernoulli and Gaussian)\n",
    "\n",
    "### Each of the classifier will then be tested using the Confusion Matrix and the ROC Curve (AUC - Area under Curve). \n",
    "\n",
    "The confusion matrix allows us to measure the performance of a particular classifier with a fixed threshold. Given a set of input cases, the classifier scores each one, and score above the threshold are labelled Class 1 and scores below the threshold are labelled Class 2.\n",
    "\n",
    "The ROC curve, on the other hand, examines the performance of a classifier without fixing the threshold. Given a set of input cases, the classifier scores each one. The ROC curve is then generated by testing every possible threshold and plotting each result as a point on the curve.\n",
    "\n",
    "The ROC curve is especially useful because it allows us to test our classifiers over a range of sensitivities/specificities. In simple terms, sensitivity (in our context) refers to the proportion of employees that were identified correctly to have left the company (i.e. True Positive) upon the total number of employees who actually left the company. Similiarly, specificity refers to the the proportion of employees that were identified correctly to not have left the company (i.e. True Negative) upon the total number of employees who did not leave the company.\n",
    "\n",
    "There's usually a trade off between sensitivity and specificity. When we decrease the threshold, we get more positive values thus increasing the sensitivity. Meanwhile, this will decrease the specificity. Similarly, when we increase the threshold, we get more negative values thus increasing the specificity and decreasing sensitivity. The ROC curve is plotted with sensitivity against (1-specificity); in other words, True Positive rate (TPR) against the False Positive Rate(FPR) where TPR is on y-axis and FPR is on the x-axis.\n",
    "\n",
    "The AUC is the area under the ROC curve. Note that the ROC is a probability curve and the AUC represents degree or measure of separability. It tells how capable the model is of distinguishing between classes. Higher the AUC, better the model is at distinguishing between employees who left the company and employees who remained."
   ]
  },
  {
   "cell_type": "markdown",
   "metadata": {},
   "source": [
    "## 0. Decision Tree Classifier"
   ]
  },
  {
   "cell_type": "code",
   "execution_count": 30,
   "metadata": {},
   "outputs": [],
   "source": [
    "# Import Decision Tree Classifier model from Scikit-Learn\n",
    "from sklearn.tree import DecisionTreeClassifier\n",
    "\n",
    "# Create a Decision Tree Classifier object\n",
    "dectree = DecisionTreeClassifier(max_depth = 6)"
   ]
  },
  {
   "cell_type": "code",
   "execution_count": 31,
   "metadata": {},
   "outputs": [
    {
     "data": {
      "text/plain": [
       "DecisionTreeClassifier(class_weight=None, criterion='gini', max_depth=6,\n",
       "                       max_features=None, max_leaf_nodes=None,\n",
       "                       min_impurity_decrease=0.0, min_impurity_split=None,\n",
       "                       min_samples_leaf=1, min_samples_split=2,\n",
       "                       min_weight_fraction_leaf=0.0, presort=False,\n",
       "                       random_state=None, splitter='best')"
      ]
     },
     "execution_count": 31,
     "metadata": {},
     "output_type": "execute_result"
    }
   ],
   "source": [
    "# Train the Model\n",
    "dectree.fit(X_train, y_train)"
   ]
  },
  {
   "cell_type": "code",
   "execution_count": 32,
   "metadata": {},
   "outputs": [],
   "source": [
    "# Assign the trained model to a variable\n",
    "y_pred = dectree.fit(X_train, y_train).predict(X_test)"
   ]
  },
  {
   "cell_type": "code",
   "execution_count": 33,
   "metadata": {},
   "outputs": [
    {
     "data": {
      "image/svg+xml": [
       "<?xml version=\"1.0\" encoding=\"UTF-8\" standalone=\"no\"?>\r\n",
       "<!DOCTYPE svg PUBLIC \"-//W3C//DTD SVG 1.1//EN\"\r\n",
       " \"http://www.w3.org/Graphics/SVG/1.1/DTD/svg11.dtd\">\r\n",
       "<!-- Generated by graphviz version 2.38.0 (20140413.2041)\r\n",
       " -->\r\n",
       "<!-- Title: Tree Pages: 1 -->\r\n",
       "<svg width=\"3578pt\" height=\"685pt\"\r\n",
       " viewBox=\"0.00 0.00 3578.00 685.00\" xmlns=\"http://www.w3.org/2000/svg\" xmlns:xlink=\"http://www.w3.org/1999/xlink\">\r\n",
       "<g id=\"graph0\" class=\"graph\" transform=\"scale(1 1) rotate(0) translate(4 681)\">\r\n",
       "<title>Tree</title>\r\n",
       "<polygon fill=\"white\" stroke=\"none\" points=\"-4,4 -4,-681 3574,-681 3574,4 -4,4\"/>\r\n",
       "<!-- 0 -->\r\n",
       "<g id=\"node1\" class=\"node\"><title>0</title>\r\n",
       "<path fill=\"#eda978\" stroke=\"black\" d=\"M1414,-677C1414,-677 1261,-677 1261,-677 1255,-677 1249,-671 1249,-665 1249,-665 1249,-621 1249,-621 1249,-615 1255,-609 1261,-609 1261,-609 1414,-609 1414,-609 1420,-609 1426,-615 1426,-621 1426,-621 1426,-665 1426,-665 1426,-671 1420,-677 1414,-677\"/>\r\n",
       "<text text-anchor=\"start\" x=\"1257\" y=\"-661.8\" font-family=\"Helvetica,sans-Serif\" font-size=\"14.00\">satisfaction_level ≤ 0.465</text>\r\n",
       "<text text-anchor=\"start\" x=\"1300\" y=\"-646.8\" font-family=\"Helvetica,sans-Serif\" font-size=\"14.00\">gini = 0.366</text>\r\n",
       "<text text-anchor=\"start\" x=\"1286\" y=\"-631.8\" font-family=\"Helvetica,sans-Serif\" font-size=\"14.00\">samples = 8999</text>\r\n",
       "<text text-anchor=\"start\" x=\"1272.5\" y=\"-616.8\" font-family=\"Helvetica,sans-Serif\" font-size=\"14.00\">value = [6826, 2173]</text>\r\n",
       "</g>\r\n",
       "<!-- 1 -->\r\n",
       "<g id=\"node2\" class=\"node\"><title>1</title>\r\n",
       "<path fill=\"#b9dcf6\" stroke=\"black\" d=\"M1000.5,-573C1000.5,-573 872.5,-573 872.5,-573 866.5,-573 860.5,-567 860.5,-561 860.5,-561 860.5,-517 860.5,-517 860.5,-511 866.5,-505 872.5,-505 872.5,-505 1000.5,-505 1000.5,-505 1006.5,-505 1012.5,-511 1012.5,-517 1012.5,-517 1012.5,-561 1012.5,-561 1012.5,-567 1006.5,-573 1000.5,-573\"/>\r\n",
       "<text text-anchor=\"start\" x=\"868.5\" y=\"-557.8\" font-family=\"Helvetica,sans-Serif\" font-size=\"14.00\">number_project ≤ 2.5</text>\r\n",
       "<text text-anchor=\"start\" x=\"899\" y=\"-542.8\" font-family=\"Helvetica,sans-Serif\" font-size=\"14.00\">gini = 0.477</text>\r\n",
       "<text text-anchor=\"start\" x=\"885\" y=\"-527.8\" font-family=\"Helvetica,sans-Serif\" font-size=\"14.00\">samples = 2539</text>\r\n",
       "<text text-anchor=\"start\" x=\"875.5\" y=\"-512.8\" font-family=\"Helvetica,sans-Serif\" font-size=\"14.00\">value = [997, 1542]</text>\r\n",
       "</g>\r\n",
       "<!-- 0&#45;&gt;1 -->\r\n",
       "<g id=\"edge1\" class=\"edge\"><title>0&#45;&gt;1</title>\r\n",
       "<path fill=\"none\" stroke=\"black\" d=\"M1248.51,-619.363C1181.24,-602.252 1089.42,-578.896 1022.81,-561.955\"/>\r\n",
       "<polygon fill=\"black\" stroke=\"black\" points=\"1023.32,-558.471 1012.76,-559.398 1021.59,-565.255 1023.32,-558.471\"/>\r\n",
       "<text text-anchor=\"middle\" x=\"1025.54\" y=\"-577.188\" font-family=\"Helvetica,sans-Serif\" font-size=\"14.00\">True</text>\r\n",
       "</g>\r\n",
       "<!-- 28 -->\r\n",
       "<g id=\"node29\" class=\"node\"><title>28</title>\r\n",
       "<path fill=\"#e88f4e\" stroke=\"black\" d=\"M1800,-573C1800,-573 1631,-573 1631,-573 1625,-573 1619,-567 1619,-561 1619,-561 1619,-517 1619,-517 1619,-511 1625,-505 1631,-505 1631,-505 1800,-505 1800,-505 1806,-505 1812,-511 1812,-517 1812,-517 1812,-561 1812,-561 1812,-567 1806,-573 1800,-573\"/>\r\n",
       "<text text-anchor=\"start\" x=\"1627\" y=\"-557.8\" font-family=\"Helvetica,sans-Serif\" font-size=\"14.00\">time_spend_company ≤ 4.5</text>\r\n",
       "<text text-anchor=\"start\" x=\"1678\" y=\"-542.8\" font-family=\"Helvetica,sans-Serif\" font-size=\"14.00\">gini = 0.176</text>\r\n",
       "<text text-anchor=\"start\" x=\"1664\" y=\"-527.8\" font-family=\"Helvetica,sans-Serif\" font-size=\"14.00\">samples = 6460</text>\r\n",
       "<text text-anchor=\"start\" x=\"1654.5\" y=\"-512.8\" font-family=\"Helvetica,sans-Serif\" font-size=\"14.00\">value = [5829, 631]</text>\r\n",
       "</g>\r\n",
       "<!-- 0&#45;&gt;28 -->\r\n",
       "<g id=\"edge28\" class=\"edge\"><title>0&#45;&gt;28</title>\r\n",
       "<path fill=\"none\" stroke=\"black\" d=\"M1426.12,-618.086C1480.79,-603.335 1551.23,-584.326 1608.93,-568.756\"/>\r\n",
       "<polygon fill=\"black\" stroke=\"black\" points=\"1610.07,-572.075 1618.81,-566.09 1608.25,-565.316 1610.07,-572.075\"/>\r\n",
       "<text text-anchor=\"middle\" x=\"1606.35\" y=\"-584.063\" font-family=\"Helvetica,sans-Serif\" font-size=\"14.00\">False</text>\r\n",
       "</g>\r\n",
       "<!-- 2 -->\r\n",
       "<g id=\"node3\" class=\"node\"><title>2</title>\r\n",
       "<path fill=\"#56ace9\" stroke=\"black\" d=\"M751,-469C751,-469 614,-469 614,-469 608,-469 602,-463 602,-457 602,-457 602,-413 602,-413 602,-407 608,-401 614,-401 614,-401 751,-401 751,-401 757,-401 763,-407 763,-413 763,-413 763,-457 763,-457 763,-463 757,-469 751,-469\"/>\r\n",
       "<text text-anchor=\"start\" x=\"610\" y=\"-453.8\" font-family=\"Helvetica,sans-Serif\" font-size=\"14.00\">last_evaluation ≤ 0.575</text>\r\n",
       "<text text-anchor=\"start\" x=\"645\" y=\"-438.8\" font-family=\"Helvetica,sans-Serif\" font-size=\"14.00\">gini = 0.225</text>\r\n",
       "<text text-anchor=\"start\" x=\"631\" y=\"-423.8\" font-family=\"Helvetica,sans-Serif\" font-size=\"14.00\">samples = 1061</text>\r\n",
       "<text text-anchor=\"start\" x=\"625.5\" y=\"-408.8\" font-family=\"Helvetica,sans-Serif\" font-size=\"14.00\">value = [137, 924]</text>\r\n",
       "</g>\r\n",
       "<!-- 1&#45;&gt;2 -->\r\n",
       "<g id=\"edge2\" class=\"edge\"><title>1&#45;&gt;2</title>\r\n",
       "<path fill=\"none\" stroke=\"black\" d=\"M860.292,-507.397C832.721,-496.325 801.328,-483.718 772.672,-472.211\"/>\r\n",
       "<polygon fill=\"black\" stroke=\"black\" points=\"773.653,-468.833 763.069,-468.354 771.044,-475.329 773.653,-468.833\"/>\r\n",
       "</g>\r\n",
       "<!-- 19 -->\r\n",
       "<g id=\"node20\" class=\"node\"><title>19</title>\r\n",
       "<path fill=\"#f8dcc7\" stroke=\"black\" d=\"M1013,-469C1013,-469 860,-469 860,-469 854,-469 848,-463 848,-457 848,-457 848,-413 848,-413 848,-407 854,-401 860,-401 860,-401 1013,-401 1013,-401 1019,-401 1025,-407 1025,-413 1025,-413 1025,-457 1025,-457 1025,-463 1019,-469 1013,-469\"/>\r\n",
       "<text text-anchor=\"start\" x=\"856\" y=\"-453.8\" font-family=\"Helvetica,sans-Serif\" font-size=\"14.00\">satisfaction_level ≤ 0.115</text>\r\n",
       "<text text-anchor=\"start\" x=\"899\" y=\"-438.8\" font-family=\"Helvetica,sans-Serif\" font-size=\"14.00\">gini = 0.487</text>\r\n",
       "<text text-anchor=\"start\" x=\"885\" y=\"-423.8\" font-family=\"Helvetica,sans-Serif\" font-size=\"14.00\">samples = 1478</text>\r\n",
       "<text text-anchor=\"start\" x=\"879.5\" y=\"-408.8\" font-family=\"Helvetica,sans-Serif\" font-size=\"14.00\">value = [860, 618]</text>\r\n",
       "</g>\r\n",
       "<!-- 1&#45;&gt;19 -->\r\n",
       "<g id=\"edge19\" class=\"edge\"><title>1&#45;&gt;19</title>\r\n",
       "<path fill=\"none\" stroke=\"black\" d=\"M936.5,-504.884C936.5,-496.778 936.5,-487.982 936.5,-479.472\"/>\r\n",
       "<polygon fill=\"black\" stroke=\"black\" points=\"940,-479.299 936.5,-469.299 933,-479.299 940,-479.299\"/>\r\n",
       "</g>\r\n",
       "<!-- 3 -->\r\n",
       "<g id=\"node4\" class=\"node\"><title>3</title>\r\n",
       "<path fill=\"#47a4e7\" stroke=\"black\" d=\"M298,-365C298,-365 161,-365 161,-365 155,-365 149,-359 149,-353 149,-353 149,-309 149,-309 149,-303 155,-297 161,-297 161,-297 298,-297 298,-297 304,-297 310,-303 310,-309 310,-309 310,-353 310,-353 310,-359 304,-365 298,-365\"/>\r\n",
       "<text text-anchor=\"start\" x=\"157\" y=\"-349.8\" font-family=\"Helvetica,sans-Serif\" font-size=\"14.00\">last_evaluation ≤ 0.445</text>\r\n",
       "<text text-anchor=\"start\" x=\"192\" y=\"-334.8\" font-family=\"Helvetica,sans-Serif\" font-size=\"14.00\">gini = 0.125</text>\r\n",
       "<text text-anchor=\"start\" x=\"182\" y=\"-319.8\" font-family=\"Helvetica,sans-Serif\" font-size=\"14.00\">samples = 984</text>\r\n",
       "<text text-anchor=\"start\" x=\"176.5\" y=\"-304.8\" font-family=\"Helvetica,sans-Serif\" font-size=\"14.00\">value = [66, 918]</text>\r\n",
       "</g>\r\n",
       "<!-- 2&#45;&gt;3 -->\r\n",
       "<g id=\"edge3\" class=\"edge\"><title>2&#45;&gt;3</title>\r\n",
       "<path fill=\"none\" stroke=\"black\" d=\"M601.774,-415.823C522.7,-398.019 402.412,-370.934 320.107,-352.402\"/>\r\n",
       "<polygon fill=\"black\" stroke=\"black\" points=\"320.788,-348.967 310.263,-350.185 319.25,-355.796 320.788,-348.967\"/>\r\n",
       "</g>\r\n",
       "<!-- 10 -->\r\n",
       "<g id=\"node11\" class=\"node\"><title>10</title>\r\n",
       "<path fill=\"#e78c4a\" stroke=\"black\" d=\"M776.5,-365C776.5,-365 588.5,-365 588.5,-365 582.5,-365 576.5,-359 576.5,-353 576.5,-353 576.5,-309 576.5,-309 576.5,-303 582.5,-297 588.5,-297 588.5,-297 776.5,-297 776.5,-297 782.5,-297 788.5,-303 788.5,-309 788.5,-309 788.5,-353 788.5,-353 788.5,-359 782.5,-365 776.5,-365\"/>\r\n",
       "<text text-anchor=\"start\" x=\"584.5\" y=\"-349.8\" font-family=\"Helvetica,sans-Serif\" font-size=\"14.00\">average_montly_hours ≤ 279.0</text>\r\n",
       "<text text-anchor=\"start\" x=\"645\" y=\"-334.8\" font-family=\"Helvetica,sans-Serif\" font-size=\"14.00\">gini = 0.144</text>\r\n",
       "<text text-anchor=\"start\" x=\"639\" y=\"-319.8\" font-family=\"Helvetica,sans-Serif\" font-size=\"14.00\">samples = 77</text>\r\n",
       "<text text-anchor=\"start\" x=\"638\" y=\"-304.8\" font-family=\"Helvetica,sans-Serif\" font-size=\"14.00\">value = [71, 6]</text>\r\n",
       "</g>\r\n",
       "<!-- 2&#45;&gt;10 -->\r\n",
       "<g id=\"edge10\" class=\"edge\"><title>2&#45;&gt;10</title>\r\n",
       "<path fill=\"none\" stroke=\"black\" d=\"M682.5,-400.884C682.5,-392.778 682.5,-383.982 682.5,-375.472\"/>\r\n",
       "<polygon fill=\"black\" stroke=\"black\" points=\"686,-375.299 682.5,-365.299 679,-375.299 686,-375.299\"/>\r\n",
       "</g>\r\n",
       "<!-- 4 -->\r\n",
       "<g id=\"node5\" class=\"node\"><title>4</title>\r\n",
       "<path fill=\"#e58139\" stroke=\"black\" d=\"M93,-253.5C93,-253.5 12,-253.5 12,-253.5 6,-253.5 0,-247.5 0,-241.5 0,-241.5 0,-212.5 0,-212.5 0,-206.5 6,-200.5 12,-200.5 12,-200.5 93,-200.5 93,-200.5 99,-200.5 105,-206.5 105,-212.5 105,-212.5 105,-241.5 105,-241.5 105,-247.5 99,-253.5 93,-253.5\"/>\r\n",
       "<text text-anchor=\"start\" x=\"23.5\" y=\"-238.3\" font-family=\"Helvetica,sans-Serif\" font-size=\"14.00\">gini = 0.0</text>\r\n",
       "<text text-anchor=\"start\" x=\"9\" y=\"-223.3\" font-family=\"Helvetica,sans-Serif\" font-size=\"14.00\">samples = 25</text>\r\n",
       "<text text-anchor=\"start\" x=\"8\" y=\"-208.3\" font-family=\"Helvetica,sans-Serif\" font-size=\"14.00\">value = [25, 0]</text>\r\n",
       "</g>\r\n",
       "<!-- 3&#45;&gt;4 -->\r\n",
       "<g id=\"edge4\" class=\"edge\"><title>3&#45;&gt;4</title>\r\n",
       "<path fill=\"none\" stroke=\"black\" d=\"M172.033,-296.884C150.658,-284.566 126.518,-270.655 105.556,-258.575\"/>\r\n",
       "<polygon fill=\"black\" stroke=\"black\" points=\"107.196,-255.48 96.7846,-253.52 103.701,-261.545 107.196,-255.48\"/>\r\n",
       "</g>\r\n",
       "<!-- 5 -->\r\n",
       "<g id=\"node6\" class=\"node\"><title>5</title>\r\n",
       "<path fill=\"#42a1e6\" stroke=\"black\" d=\"M323.5,-261C323.5,-261 135.5,-261 135.5,-261 129.5,-261 123.5,-255 123.5,-249 123.5,-249 123.5,-205 123.5,-205 123.5,-199 129.5,-193 135.5,-193 135.5,-193 323.5,-193 323.5,-193 329.5,-193 335.5,-199 335.5,-205 335.5,-205 335.5,-249 335.5,-249 335.5,-255 329.5,-261 323.5,-261\"/>\r\n",
       "<text text-anchor=\"start\" x=\"131.5\" y=\"-245.8\" font-family=\"Helvetica,sans-Serif\" font-size=\"14.00\">average_montly_hours ≤ 125.5</text>\r\n",
       "<text text-anchor=\"start\" x=\"192\" y=\"-230.8\" font-family=\"Helvetica,sans-Serif\" font-size=\"14.00\">gini = 0.082</text>\r\n",
       "<text text-anchor=\"start\" x=\"182\" y=\"-215.8\" font-family=\"Helvetica,sans-Serif\" font-size=\"14.00\">samples = 959</text>\r\n",
       "<text text-anchor=\"start\" x=\"176.5\" y=\"-200.8\" font-family=\"Helvetica,sans-Serif\" font-size=\"14.00\">value = [41, 918]</text>\r\n",
       "</g>\r\n",
       "<!-- 3&#45;&gt;5 -->\r\n",
       "<g id=\"edge5\" class=\"edge\"><title>3&#45;&gt;5</title>\r\n",
       "<path fill=\"none\" stroke=\"black\" d=\"M229.5,-296.884C229.5,-288.778 229.5,-279.982 229.5,-271.472\"/>\r\n",
       "<polygon fill=\"black\" stroke=\"black\" points=\"233,-271.299 229.5,-261.299 226,-271.299 233,-271.299\"/>\r\n",
       "</g>\r\n",
       "<!-- 6 -->\r\n",
       "<g id=\"node7\" class=\"node\"><title>6</title>\r\n",
       "<path fill=\"#e58139\" stroke=\"black\" d=\"M93,-149.5C93,-149.5 12,-149.5 12,-149.5 6,-149.5 0,-143.5 0,-137.5 0,-137.5 0,-108.5 0,-108.5 0,-102.5 6,-96.5 12,-96.5 12,-96.5 93,-96.5 93,-96.5 99,-96.5 105,-102.5 105,-108.5 105,-108.5 105,-137.5 105,-137.5 105,-143.5 99,-149.5 93,-149.5\"/>\r\n",
       "<text text-anchor=\"start\" x=\"23.5\" y=\"-134.3\" font-family=\"Helvetica,sans-Serif\" font-size=\"14.00\">gini = 0.0</text>\r\n",
       "<text text-anchor=\"start\" x=\"9\" y=\"-119.3\" font-family=\"Helvetica,sans-Serif\" font-size=\"14.00\">samples = 16</text>\r\n",
       "<text text-anchor=\"start\" x=\"8\" y=\"-104.3\" font-family=\"Helvetica,sans-Serif\" font-size=\"14.00\">value = [16, 0]</text>\r\n",
       "</g>\r\n",
       "<!-- 5&#45;&gt;6 -->\r\n",
       "<g id=\"edge6\" class=\"edge\"><title>5&#45;&gt;6</title>\r\n",
       "<path fill=\"none\" stroke=\"black\" d=\"M172.033,-192.884C150.658,-180.566 126.518,-166.655 105.556,-154.575\"/>\r\n",
       "<polygon fill=\"black\" stroke=\"black\" points=\"107.196,-151.48 96.7846,-149.52 103.701,-157.545 107.196,-151.48\"/>\r\n",
       "</g>\r\n",
       "<!-- 7 -->\r\n",
       "<g id=\"node8\" class=\"node\"><title>7</title>\r\n",
       "<path fill=\"#3ea0e6\" stroke=\"black\" d=\"M323.5,-157C323.5,-157 135.5,-157 135.5,-157 129.5,-157 123.5,-151 123.5,-145 123.5,-145 123.5,-101 123.5,-101 123.5,-95 129.5,-89 135.5,-89 135.5,-89 323.5,-89 323.5,-89 329.5,-89 335.5,-95 335.5,-101 335.5,-101 335.5,-145 335.5,-145 335.5,-151 329.5,-157 323.5,-157\"/>\r\n",
       "<text text-anchor=\"start\" x=\"131.5\" y=\"-141.8\" font-family=\"Helvetica,sans-Serif\" font-size=\"14.00\">average_montly_hours ≤ 162.0</text>\r\n",
       "<text text-anchor=\"start\" x=\"192\" y=\"-126.8\" font-family=\"Helvetica,sans-Serif\" font-size=\"14.00\">gini = 0.052</text>\r\n",
       "<text text-anchor=\"start\" x=\"182\" y=\"-111.8\" font-family=\"Helvetica,sans-Serif\" font-size=\"14.00\">samples = 943</text>\r\n",
       "<text text-anchor=\"start\" x=\"176.5\" y=\"-96.8\" font-family=\"Helvetica,sans-Serif\" font-size=\"14.00\">value = [25, 918]</text>\r\n",
       "</g>\r\n",
       "<!-- 5&#45;&gt;7 -->\r\n",
       "<g id=\"edge7\" class=\"edge\"><title>5&#45;&gt;7</title>\r\n",
       "<path fill=\"none\" stroke=\"black\" d=\"M229.5,-192.884C229.5,-184.778 229.5,-175.982 229.5,-167.472\"/>\r\n",
       "<polygon fill=\"black\" stroke=\"black\" points=\"233,-167.299 229.5,-157.299 226,-167.299 233,-167.299\"/>\r\n",
       "</g>\r\n",
       "<!-- 8 -->\r\n",
       "<g id=\"node9\" class=\"node\"><title>8</title>\r\n",
       "<path fill=\"#3b9ee5\" stroke=\"black\" d=\"M191.5,-53C191.5,-53 93.5,-53 93.5,-53 87.5,-53 81.5,-47 81.5,-41 81.5,-41 81.5,-12 81.5,-12 81.5,-6 87.5,-0 93.5,-0 93.5,-0 191.5,-0 191.5,-0 197.5,-0 203.5,-6 203.5,-12 203.5,-12 203.5,-41 203.5,-41 203.5,-47 197.5,-53 191.5,-53\"/>\r\n",
       "<text text-anchor=\"start\" x=\"105\" y=\"-37.8\" font-family=\"Helvetica,sans-Serif\" font-size=\"14.00\">gini = 0.021</text>\r\n",
       "<text text-anchor=\"start\" x=\"95\" y=\"-22.8\" font-family=\"Helvetica,sans-Serif\" font-size=\"14.00\">samples = 923</text>\r\n",
       "<text text-anchor=\"start\" x=\"89.5\" y=\"-7.8\" font-family=\"Helvetica,sans-Serif\" font-size=\"14.00\">value = [10, 913]</text>\r\n",
       "</g>\r\n",
       "<!-- 7&#45;&gt;8 -->\r\n",
       "<g id=\"edge8\" class=\"edge\"><title>7&#45;&gt;8</title>\r\n",
       "<path fill=\"none\" stroke=\"black\" d=\"M199.072,-88.9485C190.65,-79.8005 181.507,-69.8697 173.077,-60.7126\"/>\r\n",
       "<polygon fill=\"black\" stroke=\"black\" points=\"175.542,-58.2231 166.194,-53.2367 170.392,-62.9643 175.542,-58.2231\"/>\r\n",
       "</g>\r\n",
       "<!-- 9 -->\r\n",
       "<g id=\"node10\" class=\"node\"><title>9</title>\r\n",
       "<path fill=\"#eeab7b\" stroke=\"black\" d=\"M315,-53C315,-53 234,-53 234,-53 228,-53 222,-47 222,-41 222,-41 222,-12 222,-12 222,-6 228,-0 234,-0 234,-0 315,-0 315,-0 321,-0 327,-6 327,-12 327,-12 327,-41 327,-41 327,-47 321,-53 315,-53\"/>\r\n",
       "<text text-anchor=\"start\" x=\"237\" y=\"-37.8\" font-family=\"Helvetica,sans-Serif\" font-size=\"14.00\">gini = 0.375</text>\r\n",
       "<text text-anchor=\"start\" x=\"231\" y=\"-22.8\" font-family=\"Helvetica,sans-Serif\" font-size=\"14.00\">samples = 20</text>\r\n",
       "<text text-anchor=\"start\" x=\"230\" y=\"-7.8\" font-family=\"Helvetica,sans-Serif\" font-size=\"14.00\">value = [15, 5]</text>\r\n",
       "</g>\r\n",
       "<!-- 7&#45;&gt;9 -->\r\n",
       "<g id=\"edge9\" class=\"edge\"><title>7&#45;&gt;9</title>\r\n",
       "<path fill=\"none\" stroke=\"black\" d=\"M245.239,-88.9485C249.334,-80.3494 253.758,-71.0586 257.896,-62.3689\"/>\r\n",
       "<polygon fill=\"black\" stroke=\"black\" points=\"261.105,-63.7701 262.244,-53.2367 254.785,-60.7605 261.105,-63.7701\"/>\r\n",
       "</g>\r\n",
       "<!-- 11 -->\r\n",
       "<g id=\"node12\" class=\"node\"><title>11</title>\r\n",
       "<path fill=\"#e68641\" stroke=\"black\" d=\"M595,-261C595,-261 466,-261 466,-261 460,-261 454,-255 454,-249 454,-249 454,-205 454,-205 454,-199 460,-193 466,-193 466,-193 595,-193 595,-193 601,-193 607,-199 607,-205 607,-205 607,-249 607,-249 607,-255 601,-261 595,-261\"/>\r\n",
       "<text text-anchor=\"start\" x=\"462\" y=\"-245.8\" font-family=\"Helvetica,sans-Serif\" font-size=\"14.00\">last_evaluation ≤ 0.76</text>\r\n",
       "<text text-anchor=\"start\" x=\"493\" y=\"-230.8\" font-family=\"Helvetica,sans-Serif\" font-size=\"14.00\">gini = 0.079</text>\r\n",
       "<text text-anchor=\"start\" x=\"487\" y=\"-215.8\" font-family=\"Helvetica,sans-Serif\" font-size=\"14.00\">samples = 73</text>\r\n",
       "<text text-anchor=\"start\" x=\"486\" y=\"-200.8\" font-family=\"Helvetica,sans-Serif\" font-size=\"14.00\">value = [70, 3]</text>\r\n",
       "</g>\r\n",
       "<!-- 10&#45;&gt;11 -->\r\n",
       "<g id=\"edge11\" class=\"edge\"><title>10&#45;&gt;11</title>\r\n",
       "<path fill=\"none\" stroke=\"black\" d=\"M633.15,-296.884C618.875,-287.304 603.163,-276.761 588.416,-266.864\"/>\r\n",
       "<polygon fill=\"black\" stroke=\"black\" points=\"590.116,-263.791 579.862,-261.125 586.216,-269.603 590.116,-263.791\"/>\r\n",
       "</g>\r\n",
       "<!-- 16 -->\r\n",
       "<g id=\"node17\" class=\"node\"><title>16</title>\r\n",
       "<path fill=\"#7bbeee\" stroke=\"black\" d=\"M825.5,-261C825.5,-261 637.5,-261 637.5,-261 631.5,-261 625.5,-255 625.5,-249 625.5,-249 625.5,-205 625.5,-205 625.5,-199 631.5,-193 637.5,-193 637.5,-193 825.5,-193 825.5,-193 831.5,-193 837.5,-199 837.5,-205 837.5,-205 837.5,-249 837.5,-249 837.5,-255 831.5,-261 825.5,-261\"/>\r\n",
       "<text text-anchor=\"start\" x=\"633.5\" y=\"-245.8\" font-family=\"Helvetica,sans-Serif\" font-size=\"14.00\">average_montly_hours ≤ 283.5</text>\r\n",
       "<text text-anchor=\"start\" x=\"694\" y=\"-230.8\" font-family=\"Helvetica,sans-Serif\" font-size=\"14.00\">gini = 0.375</text>\r\n",
       "<text text-anchor=\"start\" x=\"692\" y=\"-215.8\" font-family=\"Helvetica,sans-Serif\" font-size=\"14.00\">samples = 4</text>\r\n",
       "<text text-anchor=\"start\" x=\"691\" y=\"-200.8\" font-family=\"Helvetica,sans-Serif\" font-size=\"14.00\">value = [1, 3]</text>\r\n",
       "</g>\r\n",
       "<!-- 10&#45;&gt;16 -->\r\n",
       "<g id=\"edge16\" class=\"edge\"><title>10&#45;&gt;16</title>\r\n",
       "<path fill=\"none\" stroke=\"black\" d=\"M698.409,-296.884C702.474,-288.422 706.9,-279.207 711.155,-270.352\"/>\r\n",
       "<polygon fill=\"black\" stroke=\"black\" points=\"714.328,-271.829 715.503,-261.299 708.018,-268.798 714.328,-271.829\"/>\r\n",
       "</g>\r\n",
       "<!-- 12 -->\r\n",
       "<g id=\"node13\" class=\"node\"><title>12</title>\r\n",
       "<path fill=\"#e58139\" stroke=\"black\" d=\"M447,-149.5C447,-149.5 366,-149.5 366,-149.5 360,-149.5 354,-143.5 354,-137.5 354,-137.5 354,-108.5 354,-108.5 354,-102.5 360,-96.5 366,-96.5 366,-96.5 447,-96.5 447,-96.5 453,-96.5 459,-102.5 459,-108.5 459,-108.5 459,-137.5 459,-137.5 459,-143.5 453,-149.5 447,-149.5\"/>\r\n",
       "<text text-anchor=\"start\" x=\"377.5\" y=\"-134.3\" font-family=\"Helvetica,sans-Serif\" font-size=\"14.00\">gini = 0.0</text>\r\n",
       "<text text-anchor=\"start\" x=\"363\" y=\"-119.3\" font-family=\"Helvetica,sans-Serif\" font-size=\"14.00\">samples = 46</text>\r\n",
       "<text text-anchor=\"start\" x=\"362\" y=\"-104.3\" font-family=\"Helvetica,sans-Serif\" font-size=\"14.00\">value = [46, 0]</text>\r\n",
       "</g>\r\n",
       "<!-- 11&#45;&gt;12 -->\r\n",
       "<g id=\"edge12\" class=\"edge\"><title>11&#45;&gt;12</title>\r\n",
       "<path fill=\"none\" stroke=\"black\" d=\"M490.241,-192.884C475.801,-181.006 459.56,-167.646 445.251,-155.876\"/>\r\n",
       "<polygon fill=\"black\" stroke=\"black\" points=\"447.471,-153.17 437.524,-149.52 443.024,-158.576 447.471,-153.17\"/>\r\n",
       "</g>\r\n",
       "<!-- 13 -->\r\n",
       "<g id=\"node14\" class=\"node\"><title>13</title>\r\n",
       "<path fill=\"#e89152\" stroke=\"black\" d=\"M626,-157C626,-157 489,-157 489,-157 483,-157 477,-151 477,-145 477,-145 477,-101 477,-101 477,-95 483,-89 489,-89 489,-89 626,-89 626,-89 632,-89 638,-95 638,-101 638,-101 638,-145 638,-145 638,-151 632,-157 626,-157\"/>\r\n",
       "<text text-anchor=\"start\" x=\"485\" y=\"-141.8\" font-family=\"Helvetica,sans-Serif\" font-size=\"14.00\">last_evaluation ≤ 0.785</text>\r\n",
       "<text text-anchor=\"start\" x=\"520\" y=\"-126.8\" font-family=\"Helvetica,sans-Serif\" font-size=\"14.00\">gini = 0.198</text>\r\n",
       "<text text-anchor=\"start\" x=\"514\" y=\"-111.8\" font-family=\"Helvetica,sans-Serif\" font-size=\"14.00\">samples = 27</text>\r\n",
       "<text text-anchor=\"start\" x=\"513\" y=\"-96.8\" font-family=\"Helvetica,sans-Serif\" font-size=\"14.00\">value = [24, 3]</text>\r\n",
       "</g>\r\n",
       "<!-- 11&#45;&gt;13 -->\r\n",
       "<g id=\"edge13\" class=\"edge\"><title>11&#45;&gt;13</title>\r\n",
       "<path fill=\"none\" stroke=\"black\" d=\"M539.266,-192.884C541.435,-184.689 543.791,-175.789 546.067,-167.192\"/>\r\n",
       "<polygon fill=\"black\" stroke=\"black\" points=\"549.51,-167.862 548.685,-157.299 542.743,-166.071 549.51,-167.862\"/>\r\n",
       "</g>\r\n",
       "<!-- 14 -->\r\n",
       "<g id=\"node15\" class=\"node\"><title>14</title>\r\n",
       "<path fill=\"#9ccef2\" stroke=\"black\" d=\"M534,-53C534,-53 461,-53 461,-53 455,-53 449,-47 449,-41 449,-41 449,-12 449,-12 449,-6 455,-0 461,-0 461,-0 534,-0 534,-0 540,-0 546,-6 546,-12 546,-12 546,-41 546,-41 546,-47 540,-53 534,-53\"/>\r\n",
       "<text text-anchor=\"start\" x=\"460\" y=\"-37.8\" font-family=\"Helvetica,sans-Serif\" font-size=\"14.00\">gini = 0.444</text>\r\n",
       "<text text-anchor=\"start\" x=\"458\" y=\"-22.8\" font-family=\"Helvetica,sans-Serif\" font-size=\"14.00\">samples = 3</text>\r\n",
       "<text text-anchor=\"start\" x=\"457\" y=\"-7.8\" font-family=\"Helvetica,sans-Serif\" font-size=\"14.00\">value = [1, 2]</text>\r\n",
       "</g>\r\n",
       "<!-- 13&#45;&gt;14 -->\r\n",
       "<g id=\"edge14\" class=\"edge\"><title>13&#45;&gt;14</title>\r\n",
       "<path fill=\"none\" stroke=\"black\" d=\"M536.515,-88.9485C530.939,-80.1664 524.905,-70.6629 519.287,-61.815\"/>\r\n",
       "<polygon fill=\"black\" stroke=\"black\" points=\"522.156,-59.8028 513.841,-53.2367 516.246,-63.5549 522.156,-59.8028\"/>\r\n",
       "</g>\r\n",
       "<!-- 15 -->\r\n",
       "<g id=\"node16\" class=\"node\"><title>15</title>\r\n",
       "<path fill=\"#e68642\" stroke=\"black\" d=\"M657,-53C657,-53 576,-53 576,-53 570,-53 564,-47 564,-41 564,-41 564,-12 564,-12 564,-6 570,-0 576,-0 576,-0 657,-0 657,-0 663,-0 669,-6 669,-12 669,-12 669,-41 669,-41 669,-47 663,-53 657,-53\"/>\r\n",
       "<text text-anchor=\"start\" x=\"583\" y=\"-37.8\" font-family=\"Helvetica,sans-Serif\" font-size=\"14.00\">gini = 0.08</text>\r\n",
       "<text text-anchor=\"start\" x=\"573\" y=\"-22.8\" font-family=\"Helvetica,sans-Serif\" font-size=\"14.00\">samples = 24</text>\r\n",
       "<text text-anchor=\"start\" x=\"572\" y=\"-7.8\" font-family=\"Helvetica,sans-Serif\" font-size=\"14.00\">value = [23, 1]</text>\r\n",
       "</g>\r\n",
       "<!-- 13&#45;&gt;15 -->\r\n",
       "<g id=\"edge15\" class=\"edge\"><title>13&#45;&gt;15</title>\r\n",
       "<path fill=\"none\" stroke=\"black\" d=\"M578.135,-88.9485C583.618,-80.1664 589.552,-70.6629 595.076,-61.815\"/>\r\n",
       "<polygon fill=\"black\" stroke=\"black\" points=\"598.104,-63.5728 600.432,-53.2367 592.167,-59.8656 598.104,-63.5728\"/>\r\n",
       "</g>\r\n",
       "<!-- 17 -->\r\n",
       "<g id=\"node18\" class=\"node\"><title>17</title>\r\n",
       "<path fill=\"#399de5\" stroke=\"black\" d=\"M741,-149.5C741,-149.5 668,-149.5 668,-149.5 662,-149.5 656,-143.5 656,-137.5 656,-137.5 656,-108.5 656,-108.5 656,-102.5 662,-96.5 668,-96.5 668,-96.5 741,-96.5 741,-96.5 747,-96.5 753,-102.5 753,-108.5 753,-108.5 753,-137.5 753,-137.5 753,-143.5 747,-149.5 741,-149.5\"/>\r\n",
       "<text text-anchor=\"start\" x=\"675.5\" y=\"-134.3\" font-family=\"Helvetica,sans-Serif\" font-size=\"14.00\">gini = 0.0</text>\r\n",
       "<text text-anchor=\"start\" x=\"665\" y=\"-119.3\" font-family=\"Helvetica,sans-Serif\" font-size=\"14.00\">samples = 3</text>\r\n",
       "<text text-anchor=\"start\" x=\"664\" y=\"-104.3\" font-family=\"Helvetica,sans-Serif\" font-size=\"14.00\">value = [0, 3]</text>\r\n",
       "</g>\r\n",
       "<!-- 16&#45;&gt;17 -->\r\n",
       "<g id=\"edge17\" class=\"edge\"><title>16&#45;&gt;17</title>\r\n",
       "<path fill=\"none\" stroke=\"black\" d=\"M722.734,-192.884C719.91,-182.216 716.77,-170.352 713.902,-159.519\"/>\r\n",
       "<polygon fill=\"black\" stroke=\"black\" points=\"717.198,-158.291 711.255,-149.52 710.431,-160.083 717.198,-158.291\"/>\r\n",
       "</g>\r\n",
       "<!-- 18 -->\r\n",
       "<g id=\"node19\" class=\"node\"><title>18</title>\r\n",
       "<path fill=\"#e58139\" stroke=\"black\" d=\"M856,-149.5C856,-149.5 783,-149.5 783,-149.5 777,-149.5 771,-143.5 771,-137.5 771,-137.5 771,-108.5 771,-108.5 771,-102.5 777,-96.5 783,-96.5 783,-96.5 856,-96.5 856,-96.5 862,-96.5 868,-102.5 868,-108.5 868,-108.5 868,-137.5 868,-137.5 868,-143.5 862,-149.5 856,-149.5\"/>\r\n",
       "<text text-anchor=\"start\" x=\"790.5\" y=\"-134.3\" font-family=\"Helvetica,sans-Serif\" font-size=\"14.00\">gini = 0.0</text>\r\n",
       "<text text-anchor=\"start\" x=\"780\" y=\"-119.3\" font-family=\"Helvetica,sans-Serif\" font-size=\"14.00\">samples = 1</text>\r\n",
       "<text text-anchor=\"start\" x=\"779\" y=\"-104.3\" font-family=\"Helvetica,sans-Serif\" font-size=\"14.00\">value = [1, 0]</text>\r\n",
       "</g>\r\n",
       "<!-- 16&#45;&gt;18 -->\r\n",
       "<g id=\"edge18\" class=\"edge\"><title>16&#45;&gt;18</title>\r\n",
       "<path fill=\"none\" stroke=\"black\" d=\"M760.071,-192.884C769.939,-181.446 780.992,-168.634 790.865,-157.19\"/>\r\n",
       "<polygon fill=\"black\" stroke=\"black\" points=\"793.6,-159.378 797.483,-149.52 788.3,-154.805 793.6,-159.378\"/>\r\n",
       "</g>\r\n",
       "<!-- 20 -->\r\n",
       "<g id=\"node21\" class=\"node\"><title>20</title>\r\n",
       "<path fill=\"#399de5\" stroke=\"black\" d=\"M945,-357.5C945,-357.5 856,-357.5 856,-357.5 850,-357.5 844,-351.5 844,-345.5 844,-345.5 844,-316.5 844,-316.5 844,-310.5 850,-304.5 856,-304.5 856,-304.5 945,-304.5 945,-304.5 951,-304.5 957,-310.5 957,-316.5 957,-316.5 957,-345.5 957,-345.5 957,-351.5 951,-357.5 945,-357.5\"/>\r\n",
       "<text text-anchor=\"start\" x=\"871.5\" y=\"-342.3\" font-family=\"Helvetica,sans-Serif\" font-size=\"14.00\">gini = 0.0</text>\r\n",
       "<text text-anchor=\"start\" x=\"853\" y=\"-327.3\" font-family=\"Helvetica,sans-Serif\" font-size=\"14.00\">samples = 541</text>\r\n",
       "<text text-anchor=\"start\" x=\"852\" y=\"-312.3\" font-family=\"Helvetica,sans-Serif\" font-size=\"14.00\">value = [0, 541]</text>\r\n",
       "</g>\r\n",
       "<!-- 19&#45;&gt;20 -->\r\n",
       "<g id=\"edge20\" class=\"edge\"><title>19&#45;&gt;20</title>\r\n",
       "<path fill=\"none\" stroke=\"black\" d=\"M924.812,-400.884C921.008,-390.106 916.773,-378.108 912.918,-367.184\"/>\r\n",
       "<polygon fill=\"black\" stroke=\"black\" points=\"916.136,-365.785 909.507,-357.52 909.535,-368.115 916.136,-365.785\"/>\r\n",
       "</g>\r\n",
       "<!-- 21 -->\r\n",
       "<g id=\"node22\" class=\"node\"><title>21</title>\r\n",
       "<path fill=\"#e78c4b\" stroke=\"black\" d=\"M1175.5,-365C1175.5,-365 987.5,-365 987.5,-365 981.5,-365 975.5,-359 975.5,-353 975.5,-353 975.5,-309 975.5,-309 975.5,-303 981.5,-297 987.5,-297 987.5,-297 1175.5,-297 1175.5,-297 1181.5,-297 1187.5,-303 1187.5,-309 1187.5,-309 1187.5,-353 1187.5,-353 1187.5,-359 1181.5,-365 1175.5,-365\"/>\r\n",
       "<text text-anchor=\"start\" x=\"983.5\" y=\"-349.8\" font-family=\"Helvetica,sans-Serif\" font-size=\"14.00\">average_montly_hours ≤ 290.0</text>\r\n",
       "<text text-anchor=\"start\" x=\"1044\" y=\"-334.8\" font-family=\"Helvetica,sans-Serif\" font-size=\"14.00\">gini = 0.151</text>\r\n",
       "<text text-anchor=\"start\" x=\"1034\" y=\"-319.8\" font-family=\"Helvetica,sans-Serif\" font-size=\"14.00\">samples = 937</text>\r\n",
       "<text text-anchor=\"start\" x=\"1028.5\" y=\"-304.8\" font-family=\"Helvetica,sans-Serif\" font-size=\"14.00\">value = [860, 77]</text>\r\n",
       "</g>\r\n",
       "<!-- 19&#45;&gt;21 -->\r\n",
       "<g id=\"edge21\" class=\"edge\"><title>19&#45;&gt;21</title>\r\n",
       "<path fill=\"none\" stroke=\"black\" d=\"M983.577,-400.884C997,-391.442 1011.75,-381.064 1025.64,-371.292\"/>\r\n",
       "<polygon fill=\"black\" stroke=\"black\" points=\"1028,-373.916 1034.16,-365.299 1023.97,-368.19 1028,-373.916\"/>\r\n",
       "</g>\r\n",
       "<!-- 22 -->\r\n",
       "<g id=\"node23\" class=\"node\"><title>22</title>\r\n",
       "<path fill=\"#e78b49\" stroke=\"black\" d=\"M1079.5,-261C1079.5,-261 951.5,-261 951.5,-261 945.5,-261 939.5,-255 939.5,-249 939.5,-249 939.5,-205 939.5,-205 939.5,-199 945.5,-193 951.5,-193 951.5,-193 1079.5,-193 1079.5,-193 1085.5,-193 1091.5,-199 1091.5,-205 1091.5,-205 1091.5,-249 1091.5,-249 1091.5,-255 1085.5,-261 1079.5,-261\"/>\r\n",
       "<text text-anchor=\"start\" x=\"947.5\" y=\"-245.8\" font-family=\"Helvetica,sans-Serif\" font-size=\"14.00\">number_project ≤ 6.5</text>\r\n",
       "<text text-anchor=\"start\" x=\"978\" y=\"-230.8\" font-family=\"Helvetica,sans-Serif\" font-size=\"14.00\">gini = 0.138</text>\r\n",
       "<text text-anchor=\"start\" x=\"968\" y=\"-215.8\" font-family=\"Helvetica,sans-Serif\" font-size=\"14.00\">samples = 929</text>\r\n",
       "<text text-anchor=\"start\" x=\"962.5\" y=\"-200.8\" font-family=\"Helvetica,sans-Serif\" font-size=\"14.00\">value = [860, 69]</text>\r\n",
       "</g>\r\n",
       "<!-- 21&#45;&gt;22 -->\r\n",
       "<g id=\"edge22\" class=\"edge\"><title>21&#45;&gt;22</title>\r\n",
       "<path fill=\"none\" stroke=\"black\" d=\"M1060.07,-296.884C1054.48,-288.243 1048.38,-278.819 1042.54,-269.793\"/>\r\n",
       "<polygon fill=\"black\" stroke=\"black\" points=\"1045.42,-267.794 1037.05,-261.299 1039.54,-271.596 1045.42,-267.794\"/>\r\n",
       "</g>\r\n",
       "<!-- 27 -->\r\n",
       "<g id=\"node28\" class=\"node\"><title>27</title>\r\n",
       "<path fill=\"#399de5\" stroke=\"black\" d=\"M1195,-253.5C1195,-253.5 1122,-253.5 1122,-253.5 1116,-253.5 1110,-247.5 1110,-241.5 1110,-241.5 1110,-212.5 1110,-212.5 1110,-206.5 1116,-200.5 1122,-200.5 1122,-200.5 1195,-200.5 1195,-200.5 1201,-200.5 1207,-206.5 1207,-212.5 1207,-212.5 1207,-241.5 1207,-241.5 1207,-247.5 1201,-253.5 1195,-253.5\"/>\r\n",
       "<text text-anchor=\"start\" x=\"1129.5\" y=\"-238.3\" font-family=\"Helvetica,sans-Serif\" font-size=\"14.00\">gini = 0.0</text>\r\n",
       "<text text-anchor=\"start\" x=\"1119\" y=\"-223.3\" font-family=\"Helvetica,sans-Serif\" font-size=\"14.00\">samples = 8</text>\r\n",
       "<text text-anchor=\"start\" x=\"1118\" y=\"-208.3\" font-family=\"Helvetica,sans-Serif\" font-size=\"14.00\">value = [0, 8]</text>\r\n",
       "</g>\r\n",
       "<!-- 21&#45;&gt;27 -->\r\n",
       "<g id=\"edge27\" class=\"edge\"><title>21&#45;&gt;27</title>\r\n",
       "<path fill=\"none\" stroke=\"black\" d=\"M1106.5,-296.884C1115.05,-285.556 1124.62,-272.88 1133.2,-261.521\"/>\r\n",
       "<polygon fill=\"black\" stroke=\"black\" points=\"1136,-263.61 1139.23,-253.52 1130.42,-259.392 1136,-263.61\"/>\r\n",
       "</g>\r\n",
       "<!-- 23 -->\r\n",
       "<g id=\"node24\" class=\"node\"><title>23</title>\r\n",
       "<path fill=\"#e78a47\" stroke=\"black\" d=\"M1035,-157C1035,-157 898,-157 898,-157 892,-157 886,-151 886,-145 886,-145 886,-101 886,-101 886,-95 892,-89 898,-89 898,-89 1035,-89 1035,-89 1041,-89 1047,-95 1047,-101 1047,-101 1047,-145 1047,-145 1047,-151 1041,-157 1035,-157\"/>\r\n",
       "<text text-anchor=\"start\" x=\"894\" y=\"-141.8\" font-family=\"Helvetica,sans-Serif\" font-size=\"14.00\">last_evaluation ≤ 0.995</text>\r\n",
       "<text text-anchor=\"start\" x=\"929\" y=\"-126.8\" font-family=\"Helvetica,sans-Serif\" font-size=\"14.00\">gini = 0.125</text>\r\n",
       "<text text-anchor=\"start\" x=\"919\" y=\"-111.8\" font-family=\"Helvetica,sans-Serif\" font-size=\"14.00\">samples = 922</text>\r\n",
       "<text text-anchor=\"start\" x=\"913.5\" y=\"-96.8\" font-family=\"Helvetica,sans-Serif\" font-size=\"14.00\">value = [860, 62]</text>\r\n",
       "</g>\r\n",
       "<!-- 22&#45;&gt;23 -->\r\n",
       "<g id=\"edge23\" class=\"edge\"><title>22&#45;&gt;23</title>\r\n",
       "<path fill=\"none\" stroke=\"black\" d=\"M999.591,-192.884C995.526,-184.422 991.1,-175.207 986.845,-166.352\"/>\r\n",
       "<polygon fill=\"black\" stroke=\"black\" points=\"989.982,-164.798 982.497,-157.299 983.672,-167.829 989.982,-164.798\"/>\r\n",
       "</g>\r\n",
       "<!-- 26 -->\r\n",
       "<g id=\"node27\" class=\"node\"><title>26</title>\r\n",
       "<path fill=\"#399de5\" stroke=\"black\" d=\"M1150,-149.5C1150,-149.5 1077,-149.5 1077,-149.5 1071,-149.5 1065,-143.5 1065,-137.5 1065,-137.5 1065,-108.5 1065,-108.5 1065,-102.5 1071,-96.5 1077,-96.5 1077,-96.5 1150,-96.5 1150,-96.5 1156,-96.5 1162,-102.5 1162,-108.5 1162,-108.5 1162,-137.5 1162,-137.5 1162,-143.5 1156,-149.5 1150,-149.5\"/>\r\n",
       "<text text-anchor=\"start\" x=\"1084.5\" y=\"-134.3\" font-family=\"Helvetica,sans-Serif\" font-size=\"14.00\">gini = 0.0</text>\r\n",
       "<text text-anchor=\"start\" x=\"1074\" y=\"-119.3\" font-family=\"Helvetica,sans-Serif\" font-size=\"14.00\">samples = 7</text>\r\n",
       "<text text-anchor=\"start\" x=\"1073\" y=\"-104.3\" font-family=\"Helvetica,sans-Serif\" font-size=\"14.00\">value = [0, 7]</text>\r\n",
       "</g>\r\n",
       "<!-- 22&#45;&gt;26 -->\r\n",
       "<g id=\"edge26\" class=\"edge\"><title>22&#45;&gt;26</title>\r\n",
       "<path fill=\"none\" stroke=\"black\" d=\"M1047.32,-192.884C1058.41,-181.336 1070.85,-168.387 1081.93,-156.86\"/>\r\n",
       "<polygon fill=\"black\" stroke=\"black\" points=\"1084.58,-159.156 1088.98,-149.52 1079.53,-154.306 1084.58,-159.156\"/>\r\n",
       "</g>\r\n",
       "<!-- 24 -->\r\n",
       "<g id=\"node25\" class=\"node\"><title>24</title>\r\n",
       "<path fill=\"#e78946\" stroke=\"black\" d=\"M909.5,-53C909.5,-53 811.5,-53 811.5,-53 805.5,-53 799.5,-47 799.5,-41 799.5,-41 799.5,-12 799.5,-12 799.5,-6 805.5,-0 811.5,-0 811.5,-0 909.5,-0 909.5,-0 915.5,-0 921.5,-6 921.5,-12 921.5,-12 921.5,-41 921.5,-41 921.5,-47 915.5,-53 909.5,-53\"/>\r\n",
       "<text text-anchor=\"start\" x=\"823\" y=\"-37.8\" font-family=\"Helvetica,sans-Serif\" font-size=\"14.00\">gini = 0.115</text>\r\n",
       "<text text-anchor=\"start\" x=\"813\" y=\"-22.8\" font-family=\"Helvetica,sans-Serif\" font-size=\"14.00\">samples = 912</text>\r\n",
       "<text text-anchor=\"start\" x=\"807.5\" y=\"-7.8\" font-family=\"Helvetica,sans-Serif\" font-size=\"14.00\">value = [856, 56]</text>\r\n",
       "</g>\r\n",
       "<!-- 23&#45;&gt;24 -->\r\n",
       "<g id=\"edge24\" class=\"edge\"><title>23&#45;&gt;24</title>\r\n",
       "<path fill=\"none\" stroke=\"black\" d=\"M929.426,-88.9485C918.96,-79.6175 907.58,-69.4722 897.139,-60.1641\"/>\r\n",
       "<polygon fill=\"black\" stroke=\"black\" points=\"899.162,-57.2788 889.369,-53.2367 894.504,-62.5038 899.162,-57.2788\"/>\r\n",
       "</g>\r\n",
       "<!-- 25 -->\r\n",
       "<g id=\"node26\" class=\"node\"><title>25</title>\r\n",
       "<path fill=\"#bddef6\" stroke=\"black\" d=\"M1031,-53C1031,-53 952,-53 952,-53 946,-53 940,-47 940,-41 940,-41 940,-12 940,-12 940,-6 946,-0 952,-0 952,-0 1031,-0 1031,-0 1037,-0 1043,-6 1043,-12 1043,-12 1043,-41 1043,-41 1043,-47 1037,-53 1031,-53\"/>\r\n",
       "<text text-anchor=\"start\" x=\"958\" y=\"-37.8\" font-family=\"Helvetica,sans-Serif\" font-size=\"14.00\">gini = 0.48</text>\r\n",
       "<text text-anchor=\"start\" x=\"948\" y=\"-22.8\" font-family=\"Helvetica,sans-Serif\" font-size=\"14.00\">samples = 10</text>\r\n",
       "<text text-anchor=\"start\" x=\"951\" y=\"-7.8\" font-family=\"Helvetica,sans-Serif\" font-size=\"14.00\">value = [4, 6]</text>\r\n",
       "</g>\r\n",
       "<!-- 23&#45;&gt;25 -->\r\n",
       "<g id=\"edge25\" class=\"edge\"><title>23&#45;&gt;25</title>\r\n",
       "<path fill=\"none\" stroke=\"black\" d=\"M975.244,-88.9485C977.47,-80.5323 979.872,-71.4536 982.128,-62.9243\"/>\r\n",
       "<polygon fill=\"black\" stroke=\"black\" points=\"985.517,-63.7993 984.691,-53.2367 978.75,-62.009 985.517,-63.7993\"/>\r\n",
       "</g>\r\n",
       "<!-- 29 -->\r\n",
       "<g id=\"node30\" class=\"node\"><title>29</title>\r\n",
       "<path fill=\"#e5833c\" stroke=\"black\" d=\"M1809.5,-469C1809.5,-469 1621.5,-469 1621.5,-469 1615.5,-469 1609.5,-463 1609.5,-457 1609.5,-457 1609.5,-413 1609.5,-413 1609.5,-407 1615.5,-401 1621.5,-401 1621.5,-401 1809.5,-401 1809.5,-401 1815.5,-401 1821.5,-407 1821.5,-413 1821.5,-413 1821.5,-457 1821.5,-457 1821.5,-463 1815.5,-469 1809.5,-469\"/>\r\n",
       "<text text-anchor=\"start\" x=\"1617.5\" y=\"-453.8\" font-family=\"Helvetica,sans-Serif\" font-size=\"14.00\">average_montly_hours ≤ 291.5</text>\r\n",
       "<text text-anchor=\"start\" x=\"1678\" y=\"-438.8\" font-family=\"Helvetica,sans-Serif\" font-size=\"14.00\">gini = 0.028</text>\r\n",
       "<text text-anchor=\"start\" x=\"1664\" y=\"-423.8\" font-family=\"Helvetica,sans-Serif\" font-size=\"14.00\">samples = 5247</text>\r\n",
       "<text text-anchor=\"start\" x=\"1658.5\" y=\"-408.8\" font-family=\"Helvetica,sans-Serif\" font-size=\"14.00\">value = [5172, 75]</text>\r\n",
       "</g>\r\n",
       "<!-- 28&#45;&gt;29 -->\r\n",
       "<g id=\"edge29\" class=\"edge\"><title>28&#45;&gt;29</title>\r\n",
       "<path fill=\"none\" stroke=\"black\" d=\"M1715.5,-504.884C1715.5,-496.778 1715.5,-487.982 1715.5,-479.472\"/>\r\n",
       "<polygon fill=\"black\" stroke=\"black\" points=\"1719,-479.299 1715.5,-469.299 1712,-479.299 1719,-479.299\"/>\r\n",
       "</g>\r\n",
       "<!-- 46 -->\r\n",
       "<g id=\"node47\" class=\"node\"><title>46</title>\r\n",
       "<path fill=\"#fbece1\" stroke=\"black\" d=\"M2619,-469C2619,-469 2482,-469 2482,-469 2476,-469 2470,-463 2470,-457 2470,-457 2470,-413 2470,-413 2470,-407 2476,-401 2482,-401 2482,-401 2619,-401 2619,-401 2625,-401 2631,-407 2631,-413 2631,-413 2631,-457 2631,-457 2631,-463 2625,-469 2619,-469\"/>\r\n",
       "<text text-anchor=\"start\" x=\"2478\" y=\"-453.8\" font-family=\"Helvetica,sans-Serif\" font-size=\"14.00\">last_evaluation ≤ 0.805</text>\r\n",
       "<text text-anchor=\"start\" x=\"2513\" y=\"-438.8\" font-family=\"Helvetica,sans-Serif\" font-size=\"14.00\">gini = 0.497</text>\r\n",
       "<text text-anchor=\"start\" x=\"2499\" y=\"-423.8\" font-family=\"Helvetica,sans-Serif\" font-size=\"14.00\">samples = 1213</text>\r\n",
       "<text text-anchor=\"start\" x=\"2493.5\" y=\"-408.8\" font-family=\"Helvetica,sans-Serif\" font-size=\"14.00\">value = [657, 556]</text>\r\n",
       "</g>\r\n",
       "<!-- 28&#45;&gt;46 -->\r\n",
       "<g id=\"edge46\" class=\"edge\"><title>28&#45;&gt;46</title>\r\n",
       "<path fill=\"none\" stroke=\"black\" d=\"M1812.1,-526.2C1974.77,-506.328 2301.11,-466.464 2459.76,-447.085\"/>\r\n",
       "<polygon fill=\"black\" stroke=\"black\" points=\"2460.46,-450.525 2469.96,-445.838 2459.61,-443.577 2460.46,-450.525\"/>\r\n",
       "</g>\r\n",
       "<!-- 30 -->\r\n",
       "<g id=\"node31\" class=\"node\"><title>30</title>\r\n",
       "<path fill=\"#e5833c\" stroke=\"black\" d=\"M1708.5,-365C1708.5,-365 1580.5,-365 1580.5,-365 1574.5,-365 1568.5,-359 1568.5,-353 1568.5,-353 1568.5,-309 1568.5,-309 1568.5,-303 1574.5,-297 1580.5,-297 1580.5,-297 1708.5,-297 1708.5,-297 1714.5,-297 1720.5,-303 1720.5,-309 1720.5,-309 1720.5,-353 1720.5,-353 1720.5,-359 1714.5,-365 1708.5,-365\"/>\r\n",
       "<text text-anchor=\"start\" x=\"1576.5\" y=\"-349.8\" font-family=\"Helvetica,sans-Serif\" font-size=\"14.00\">number_project ≤ 5.5</text>\r\n",
       "<text text-anchor=\"start\" x=\"1607\" y=\"-334.8\" font-family=\"Helvetica,sans-Serif\" font-size=\"14.00\">gini = 0.027</text>\r\n",
       "<text text-anchor=\"start\" x=\"1593\" y=\"-319.8\" font-family=\"Helvetica,sans-Serif\" font-size=\"14.00\">samples = 5244</text>\r\n",
       "<text text-anchor=\"start\" x=\"1587.5\" y=\"-304.8\" font-family=\"Helvetica,sans-Serif\" font-size=\"14.00\">value = [5172, 72]</text>\r\n",
       "</g>\r\n",
       "<!-- 29&#45;&gt;30 -->\r\n",
       "<g id=\"edge30\" class=\"edge\"><title>29&#45;&gt;30</title>\r\n",
       "<path fill=\"none\" stroke=\"black\" d=\"M1692.45,-400.884C1686.37,-392.154 1679.74,-382.625 1673.4,-373.514\"/>\r\n",
       "<polygon fill=\"black\" stroke=\"black\" points=\"1676.26,-371.507 1667.68,-365.299 1670.52,-375.506 1676.26,-371.507\"/>\r\n",
       "</g>\r\n",
       "<!-- 45 -->\r\n",
       "<g id=\"node46\" class=\"node\"><title>45</title>\r\n",
       "<path fill=\"#399de5\" stroke=\"black\" d=\"M1824,-357.5C1824,-357.5 1751,-357.5 1751,-357.5 1745,-357.5 1739,-351.5 1739,-345.5 1739,-345.5 1739,-316.5 1739,-316.5 1739,-310.5 1745,-304.5 1751,-304.5 1751,-304.5 1824,-304.5 1824,-304.5 1830,-304.5 1836,-310.5 1836,-316.5 1836,-316.5 1836,-345.5 1836,-345.5 1836,-351.5 1830,-357.5 1824,-357.5\"/>\r\n",
       "<text text-anchor=\"start\" x=\"1758.5\" y=\"-342.3\" font-family=\"Helvetica,sans-Serif\" font-size=\"14.00\">gini = 0.0</text>\r\n",
       "<text text-anchor=\"start\" x=\"1748\" y=\"-327.3\" font-family=\"Helvetica,sans-Serif\" font-size=\"14.00\">samples = 3</text>\r\n",
       "<text text-anchor=\"start\" x=\"1747\" y=\"-312.3\" font-family=\"Helvetica,sans-Serif\" font-size=\"14.00\">value = [0, 3]</text>\r\n",
       "</g>\r\n",
       "<!-- 29&#45;&gt;45 -->\r\n",
       "<g id=\"edge45\" class=\"edge\"><title>29&#45;&gt;45</title>\r\n",
       "<path fill=\"none\" stroke=\"black\" d=\"M1738.88,-400.884C1746.79,-389.666 1755.65,-377.126 1763.6,-365.852\"/>\r\n",
       "<polygon fill=\"black\" stroke=\"black\" points=\"1766.58,-367.708 1769.49,-357.52 1760.86,-363.671 1766.58,-367.708\"/>\r\n",
       "</g>\r\n",
       "<!-- 31 -->\r\n",
       "<g id=\"node32\" class=\"node\"><title>31</title>\r\n",
       "<path fill=\"#e5833b\" stroke=\"black\" d=\"M1611,-261C1611,-261 1458,-261 1458,-261 1452,-261 1446,-255 1446,-249 1446,-249 1446,-205 1446,-205 1446,-199 1452,-193 1458,-193 1458,-193 1611,-193 1611,-193 1617,-193 1623,-199 1623,-205 1623,-205 1623,-249 1623,-249 1623,-255 1617,-261 1611,-261\"/>\r\n",
       "<text text-anchor=\"start\" x=\"1454\" y=\"-245.8\" font-family=\"Helvetica,sans-Serif\" font-size=\"14.00\">satisfaction_level ≤ 0.475</text>\r\n",
       "<text text-anchor=\"start\" x=\"1497\" y=\"-230.8\" font-family=\"Helvetica,sans-Serif\" font-size=\"14.00\">gini = 0.023</text>\r\n",
       "<text text-anchor=\"start\" x=\"1483\" y=\"-215.8\" font-family=\"Helvetica,sans-Serif\" font-size=\"14.00\">samples = 5149</text>\r\n",
       "<text text-anchor=\"start\" x=\"1477.5\" y=\"-200.8\" font-family=\"Helvetica,sans-Serif\" font-size=\"14.00\">value = [5088, 61]</text>\r\n",
       "</g>\r\n",
       "<!-- 30&#45;&gt;31 -->\r\n",
       "<g id=\"edge31\" class=\"edge\"><title>30&#45;&gt;31</title>\r\n",
       "<path fill=\"none\" stroke=\"black\" d=\"M1608.79,-296.884C1598.89,-287.709 1588.04,-277.65 1577.77,-268.123\"/>\r\n",
       "<polygon fill=\"black\" stroke=\"black\" points=\"1580.12,-265.532 1570.41,-261.299 1575.36,-270.665 1580.12,-265.532\"/>\r\n",
       "</g>\r\n",
       "<!-- 38 -->\r\n",
       "<g id=\"node39\" class=\"node\"><title>38</title>\r\n",
       "<path fill=\"#e89253\" stroke=\"black\" d=\"M1820,-261C1820,-261 1691,-261 1691,-261 1685,-261 1679,-255 1679,-249 1679,-249 1679,-205 1679,-205 1679,-199 1685,-193 1691,-193 1691,-193 1820,-193 1820,-193 1826,-193 1832,-199 1832,-205 1832,-205 1832,-249 1832,-249 1832,-255 1826,-261 1820,-261\"/>\r\n",
       "<text text-anchor=\"start\" x=\"1687\" y=\"-245.8\" font-family=\"Helvetica,sans-Serif\" font-size=\"14.00\">last_evaluation ≤ 0.95</text>\r\n",
       "<text text-anchor=\"start\" x=\"1718\" y=\"-230.8\" font-family=\"Helvetica,sans-Serif\" font-size=\"14.00\">gini = 0.205</text>\r\n",
       "<text text-anchor=\"start\" x=\"1712\" y=\"-215.8\" font-family=\"Helvetica,sans-Serif\" font-size=\"14.00\">samples = 95</text>\r\n",
       "<text text-anchor=\"start\" x=\"1707\" y=\"-200.8\" font-family=\"Helvetica,sans-Serif\" font-size=\"14.00\">value = [84, 11]</text>\r\n",
       "</g>\r\n",
       "<!-- 30&#45;&gt;38 -->\r\n",
       "<g id=\"edge38\" class=\"edge\"><title>30&#45;&gt;38</title>\r\n",
       "<path fill=\"none\" stroke=\"black\" d=\"M1680.54,-296.884C1690.52,-287.709 1701.47,-277.65 1711.84,-268.123\"/>\r\n",
       "<polygon fill=\"black\" stroke=\"black\" points=\"1714.27,-270.643 1719.26,-261.299 1709.53,-265.488 1714.27,-270.643\"/>\r\n",
       "</g>\r\n",
       "<!-- 32 -->\r\n",
       "<g id=\"node33\" class=\"node\"><title>32</title>\r\n",
       "<path fill=\"#eca572\" stroke=\"black\" d=\"M1380.5,-157C1380.5,-157 1192.5,-157 1192.5,-157 1186.5,-157 1180.5,-151 1180.5,-145 1180.5,-145 1180.5,-101 1180.5,-101 1180.5,-95 1186.5,-89 1192.5,-89 1192.5,-89 1380.5,-89 1380.5,-89 1386.5,-89 1392.5,-95 1392.5,-101 1392.5,-101 1392.5,-145 1392.5,-145 1392.5,-151 1386.5,-157 1380.5,-157\"/>\r\n",
       "<text text-anchor=\"start\" x=\"1188.5\" y=\"-141.8\" font-family=\"Helvetica,sans-Serif\" font-size=\"14.00\">average_montly_hours ≤ 250.0</text>\r\n",
       "<text text-anchor=\"start\" x=\"1249\" y=\"-126.8\" font-family=\"Helvetica,sans-Serif\" font-size=\"14.00\">gini = 0.346</text>\r\n",
       "<text text-anchor=\"start\" x=\"1243\" y=\"-111.8\" font-family=\"Helvetica,sans-Serif\" font-size=\"14.00\">samples = 18</text>\r\n",
       "<text text-anchor=\"start\" x=\"1242\" y=\"-96.8\" font-family=\"Helvetica,sans-Serif\" font-size=\"14.00\">value = [14, 4]</text>\r\n",
       "</g>\r\n",
       "<!-- 31&#45;&gt;32 -->\r\n",
       "<g id=\"edge32\" class=\"edge\"><title>31&#45;&gt;32</title>\r\n",
       "<path fill=\"none\" stroke=\"black\" d=\"M1453.98,-192.884C1429.17,-182.677 1401.69,-171.377 1376.29,-160.931\"/>\r\n",
       "<polygon fill=\"black\" stroke=\"black\" points=\"1377.62,-157.692 1367.04,-157.125 1374.96,-164.165 1377.62,-157.692\"/>\r\n",
       "</g>\r\n",
       "<!-- 35 -->\r\n",
       "<g id=\"node36\" class=\"node\"><title>35</title>\r\n",
       "<path fill=\"#e5823b\" stroke=\"black\" d=\"M1619,-157C1619,-157 1450,-157 1450,-157 1444,-157 1438,-151 1438,-145 1438,-145 1438,-101 1438,-101 1438,-95 1444,-89 1450,-89 1450,-89 1619,-89 1619,-89 1625,-89 1631,-95 1631,-101 1631,-101 1631,-145 1631,-145 1631,-151 1625,-157 1619,-157\"/>\r\n",
       "<text text-anchor=\"start\" x=\"1446\" y=\"-141.8\" font-family=\"Helvetica,sans-Serif\" font-size=\"14.00\">time_spend_company ≤ 3.5</text>\r\n",
       "<text text-anchor=\"start\" x=\"1497\" y=\"-126.8\" font-family=\"Helvetica,sans-Serif\" font-size=\"14.00\">gini = 0.022</text>\r\n",
       "<text text-anchor=\"start\" x=\"1483\" y=\"-111.8\" font-family=\"Helvetica,sans-Serif\" font-size=\"14.00\">samples = 5131</text>\r\n",
       "<text text-anchor=\"start\" x=\"1477.5\" y=\"-96.8\" font-family=\"Helvetica,sans-Serif\" font-size=\"14.00\">value = [5074, 57]</text>\r\n",
       "</g>\r\n",
       "<!-- 31&#45;&gt;35 -->\r\n",
       "<g id=\"edge35\" class=\"edge\"><title>31&#45;&gt;35</title>\r\n",
       "<path fill=\"none\" stroke=\"black\" d=\"M1534.5,-192.884C1534.5,-184.778 1534.5,-175.982 1534.5,-167.472\"/>\r\n",
       "<polygon fill=\"black\" stroke=\"black\" points=\"1538,-167.299 1534.5,-157.299 1531,-167.299 1538,-167.299\"/>\r\n",
       "</g>\r\n",
       "<!-- 33 -->\r\n",
       "<g id=\"node34\" class=\"node\"><title>33</title>\r\n",
       "<path fill=\"#e78a47\" stroke=\"black\" d=\"M1194,-53C1194,-53 1113,-53 1113,-53 1107,-53 1101,-47 1101,-41 1101,-41 1101,-12 1101,-12 1101,-6 1107,-0 1113,-0 1113,-0 1194,-0 1194,-0 1200,-0 1206,-6 1206,-12 1206,-12 1206,-41 1206,-41 1206,-47 1200,-53 1194,-53\"/>\r\n",
       "<text text-anchor=\"start\" x=\"1116\" y=\"-37.8\" font-family=\"Helvetica,sans-Serif\" font-size=\"14.00\">gini = 0.124</text>\r\n",
       "<text text-anchor=\"start\" x=\"1110\" y=\"-22.8\" font-family=\"Helvetica,sans-Serif\" font-size=\"14.00\">samples = 15</text>\r\n",
       "<text text-anchor=\"start\" x=\"1109\" y=\"-7.8\" font-family=\"Helvetica,sans-Serif\" font-size=\"14.00\">value = [14, 1]</text>\r\n",
       "</g>\r\n",
       "<!-- 32&#45;&gt;33 -->\r\n",
       "<g id=\"edge33\" class=\"edge\"><title>32&#45;&gt;33</title>\r\n",
       "<path fill=\"none\" stroke=\"black\" d=\"M1239.98,-88.9485C1226.34,-79.2516 1211.45,-68.6752 1197.94,-59.073\"/>\r\n",
       "<polygon fill=\"black\" stroke=\"black\" points=\"1199.9,-56.1757 1189.72,-53.2367 1195.85,-61.882 1199.9,-56.1757\"/>\r\n",
       "</g>\r\n",
       "<!-- 34 -->\r\n",
       "<g id=\"node35\" class=\"node\"><title>34</title>\r\n",
       "<path fill=\"#399de5\" stroke=\"black\" d=\"M1309,-53C1309,-53 1236,-53 1236,-53 1230,-53 1224,-47 1224,-41 1224,-41 1224,-12 1224,-12 1224,-6 1230,-0 1236,-0 1236,-0 1309,-0 1309,-0 1315,-0 1321,-6 1321,-12 1321,-12 1321,-41 1321,-41 1321,-47 1315,-53 1309,-53\"/>\r\n",
       "<text text-anchor=\"start\" x=\"1243.5\" y=\"-37.8\" font-family=\"Helvetica,sans-Serif\" font-size=\"14.00\">gini = 0.0</text>\r\n",
       "<text text-anchor=\"start\" x=\"1233\" y=\"-22.8\" font-family=\"Helvetica,sans-Serif\" font-size=\"14.00\">samples = 3</text>\r\n",
       "<text text-anchor=\"start\" x=\"1232\" y=\"-7.8\" font-family=\"Helvetica,sans-Serif\" font-size=\"14.00\">value = [0, 3]</text>\r\n",
       "</g>\r\n",
       "<!-- 32&#45;&gt;34 -->\r\n",
       "<g id=\"edge34\" class=\"edge\"><title>32&#45;&gt;34</title>\r\n",
       "<path fill=\"none\" stroke=\"black\" d=\"M1281.6,-88.9485C1280.37,-80.6238 1279.04,-71.6509 1277.79,-63.2027\"/>\r\n",
       "<polygon fill=\"black\" stroke=\"black\" points=\"1281.24,-62.6158 1276.31,-53.2367 1274.32,-63.6417 1281.24,-62.6158\"/>\r\n",
       "</g>\r\n",
       "<!-- 36 -->\r\n",
       "<g id=\"node37\" class=\"node\"><title>36</title>\r\n",
       "<path fill=\"#e5823a\" stroke=\"black\" d=\"M1457.5,-53C1457.5,-53 1351.5,-53 1351.5,-53 1345.5,-53 1339.5,-47 1339.5,-41 1339.5,-41 1339.5,-12 1339.5,-12 1339.5,-6 1345.5,-0 1351.5,-0 1351.5,-0 1457.5,-0 1457.5,-0 1463.5,-0 1469.5,-6 1469.5,-12 1469.5,-12 1469.5,-41 1469.5,-41 1469.5,-47 1463.5,-53 1457.5,-53\"/>\r\n",
       "<text text-anchor=\"start\" x=\"1367\" y=\"-37.8\" font-family=\"Helvetica,sans-Serif\" font-size=\"14.00\">gini = 0.015</text>\r\n",
       "<text text-anchor=\"start\" x=\"1353\" y=\"-22.8\" font-family=\"Helvetica,sans-Serif\" font-size=\"14.00\">samples = 4346</text>\r\n",
       "<text text-anchor=\"start\" x=\"1347.5\" y=\"-7.8\" font-family=\"Helvetica,sans-Serif\" font-size=\"14.00\">value = [4314, 32]</text>\r\n",
       "</g>\r\n",
       "<!-- 35&#45;&gt;36 -->\r\n",
       "<g id=\"edge36\" class=\"edge\"><title>35&#45;&gt;36</title>\r\n",
       "<path fill=\"none\" stroke=\"black\" d=\"M1489.03,-88.9485C1475.82,-79.3431 1461.42,-68.8747 1448.31,-59.345\"/>\r\n",
       "<polygon fill=\"black\" stroke=\"black\" points=\"1450.05,-56.2856 1439.9,-53.2367 1445.94,-61.9477 1450.05,-56.2856\"/>\r\n",
       "</g>\r\n",
       "<!-- 37 -->\r\n",
       "<g id=\"node38\" class=\"node\"><title>37</title>\r\n",
       "<path fill=\"#e68540\" stroke=\"black\" d=\"M1597.5,-53C1597.5,-53 1499.5,-53 1499.5,-53 1493.5,-53 1487.5,-47 1487.5,-41 1487.5,-41 1487.5,-12 1487.5,-12 1487.5,-6 1493.5,-0 1499.5,-0 1499.5,-0 1597.5,-0 1597.5,-0 1603.5,-0 1609.5,-6 1609.5,-12 1609.5,-12 1609.5,-41 1609.5,-41 1609.5,-47 1603.5,-53 1597.5,-53\"/>\r\n",
       "<text text-anchor=\"start\" x=\"1511\" y=\"-37.8\" font-family=\"Helvetica,sans-Serif\" font-size=\"14.00\">gini = 0.062</text>\r\n",
       "<text text-anchor=\"start\" x=\"1501\" y=\"-22.8\" font-family=\"Helvetica,sans-Serif\" font-size=\"14.00\">samples = 785</text>\r\n",
       "<text text-anchor=\"start\" x=\"1495.5\" y=\"-7.8\" font-family=\"Helvetica,sans-Serif\" font-size=\"14.00\">value = [760, 25]</text>\r\n",
       "</g>\r\n",
       "<!-- 35&#45;&gt;37 -->\r\n",
       "<g id=\"edge37\" class=\"edge\"><title>35&#45;&gt;37</title>\r\n",
       "<path fill=\"none\" stroke=\"black\" d=\"M1539.4,-88.9485C1540.63,-80.6238 1541.96,-71.6509 1543.21,-63.2027\"/>\r\n",
       "<polygon fill=\"black\" stroke=\"black\" points=\"1546.68,-63.6417 1544.69,-53.2367 1539.76,-62.6158 1546.68,-63.6417\"/>\r\n",
       "</g>\r\n",
       "<!-- 39 -->\r\n",
       "<g id=\"node40\" class=\"node\"><title>39</title>\r\n",
       "<path fill=\"#e78c4a\" stroke=\"black\" d=\"M1819.5,-157C1819.5,-157 1691.5,-157 1691.5,-157 1685.5,-157 1679.5,-151 1679.5,-145 1679.5,-145 1679.5,-101 1679.5,-101 1679.5,-95 1685.5,-89 1691.5,-89 1691.5,-89 1819.5,-89 1819.5,-89 1825.5,-89 1831.5,-95 1831.5,-101 1831.5,-101 1831.5,-145 1831.5,-145 1831.5,-151 1825.5,-157 1819.5,-157\"/>\r\n",
       "<text text-anchor=\"start\" x=\"1687.5\" y=\"-141.8\" font-family=\"Helvetica,sans-Serif\" font-size=\"14.00\">number_project ≤ 6.5</text>\r\n",
       "<text text-anchor=\"start\" x=\"1718\" y=\"-126.8\" font-family=\"Helvetica,sans-Serif\" font-size=\"14.00\">gini = 0.145</text>\r\n",
       "<text text-anchor=\"start\" x=\"1712\" y=\"-111.8\" font-family=\"Helvetica,sans-Serif\" font-size=\"14.00\">samples = 89</text>\r\n",
       "<text text-anchor=\"start\" x=\"1711\" y=\"-96.8\" font-family=\"Helvetica,sans-Serif\" font-size=\"14.00\">value = [82, 7]</text>\r\n",
       "</g>\r\n",
       "<!-- 38&#45;&gt;39 -->\r\n",
       "<g id=\"edge39\" class=\"edge\"><title>38&#45;&gt;39</title>\r\n",
       "<path fill=\"none\" stroke=\"black\" d=\"M1755.5,-192.884C1755.5,-184.778 1755.5,-175.982 1755.5,-167.472\"/>\r\n",
       "<polygon fill=\"black\" stroke=\"black\" points=\"1759,-167.299 1755.5,-157.299 1752,-167.299 1759,-167.299\"/>\r\n",
       "</g>\r\n",
       "<!-- 42 -->\r\n",
       "<g id=\"node43\" class=\"node\"><title>42</title>\r\n",
       "<path fill=\"#9ccef2\" stroke=\"black\" d=\"M1951,-157C1951,-157 1878,-157 1878,-157 1872,-157 1866,-151 1866,-145 1866,-145 1866,-101 1866,-101 1866,-95 1872,-89 1878,-89 1878,-89 1951,-89 1951,-89 1957,-89 1963,-95 1963,-101 1963,-101 1963,-145 1963,-145 1963,-151 1957,-157 1951,-157\"/>\r\n",
       "<text text-anchor=\"start\" x=\"1878\" y=\"-141.8\" font-family=\"Helvetica,sans-Serif\" font-size=\"14.00\">salary ≤ 0.5</text>\r\n",
       "<text text-anchor=\"start\" x=\"1877\" y=\"-126.8\" font-family=\"Helvetica,sans-Serif\" font-size=\"14.00\">gini = 0.444</text>\r\n",
       "<text text-anchor=\"start\" x=\"1875\" y=\"-111.8\" font-family=\"Helvetica,sans-Serif\" font-size=\"14.00\">samples = 6</text>\r\n",
       "<text text-anchor=\"start\" x=\"1874\" y=\"-96.8\" font-family=\"Helvetica,sans-Serif\" font-size=\"14.00\">value = [2, 4]</text>\r\n",
       "</g>\r\n",
       "<!-- 38&#45;&gt;42 -->\r\n",
       "<g id=\"edge42\" class=\"edge\"><title>38&#45;&gt;42</title>\r\n",
       "<path fill=\"none\" stroke=\"black\" d=\"M1807.12,-192.884C1823.18,-182.58 1840.98,-171.162 1857.4,-160.633\"/>\r\n",
       "<polygon fill=\"black\" stroke=\"black\" points=\"1859.31,-163.564 1865.84,-155.218 1855.53,-157.672 1859.31,-163.564\"/>\r\n",
       "</g>\r\n",
       "<!-- 40 -->\r\n",
       "<g id=\"node41\" class=\"node\"><title>40</title>\r\n",
       "<path fill=\"#e78a47\" stroke=\"black\" d=\"M1721,-53C1721,-53 1640,-53 1640,-53 1634,-53 1628,-47 1628,-41 1628,-41 1628,-12 1628,-12 1628,-6 1634,-0 1640,-0 1640,-0 1721,-0 1721,-0 1727,-0 1733,-6 1733,-12 1733,-12 1733,-41 1733,-41 1733,-47 1727,-53 1721,-53\"/>\r\n",
       "<text text-anchor=\"start\" x=\"1643\" y=\"-37.8\" font-family=\"Helvetica,sans-Serif\" font-size=\"14.00\">gini = 0.127</text>\r\n",
       "<text text-anchor=\"start\" x=\"1637\" y=\"-22.8\" font-family=\"Helvetica,sans-Serif\" font-size=\"14.00\">samples = 88</text>\r\n",
       "<text text-anchor=\"start\" x=\"1636\" y=\"-7.8\" font-family=\"Helvetica,sans-Serif\" font-size=\"14.00\">value = [82, 6]</text>\r\n",
       "</g>\r\n",
       "<!-- 39&#45;&gt;40 -->\r\n",
       "<g id=\"edge40\" class=\"edge\"><title>39&#45;&gt;40</title>\r\n",
       "<path fill=\"none\" stroke=\"black\" d=\"M1729.27,-88.9485C1722.15,-79.9834 1714.44,-70.2666 1707.3,-61.2629\"/>\r\n",
       "<polygon fill=\"black\" stroke=\"black\" points=\"1709.88,-58.8938 1700.93,-53.2367 1704.4,-63.2454 1709.88,-58.8938\"/>\r\n",
       "</g>\r\n",
       "<!-- 41 -->\r\n",
       "<g id=\"node42\" class=\"node\"><title>41</title>\r\n",
       "<path fill=\"#399de5\" stroke=\"black\" d=\"M1836,-53C1836,-53 1763,-53 1763,-53 1757,-53 1751,-47 1751,-41 1751,-41 1751,-12 1751,-12 1751,-6 1757,-0 1763,-0 1763,-0 1836,-0 1836,-0 1842,-0 1848,-6 1848,-12 1848,-12 1848,-41 1848,-41 1848,-47 1842,-53 1836,-53\"/>\r\n",
       "<text text-anchor=\"start\" x=\"1770.5\" y=\"-37.8\" font-family=\"Helvetica,sans-Serif\" font-size=\"14.00\">gini = 0.0</text>\r\n",
       "<text text-anchor=\"start\" x=\"1760\" y=\"-22.8\" font-family=\"Helvetica,sans-Serif\" font-size=\"14.00\">samples = 1</text>\r\n",
       "<text text-anchor=\"start\" x=\"1759\" y=\"-7.8\" font-family=\"Helvetica,sans-Serif\" font-size=\"14.00\">value = [0, 1]</text>\r\n",
       "</g>\r\n",
       "<!-- 39&#45;&gt;41 -->\r\n",
       "<g id=\"edge41\" class=\"edge\"><title>39&#45;&gt;41</title>\r\n",
       "<path fill=\"none\" stroke=\"black\" d=\"M1770.89,-88.9485C1774.89,-80.3494 1779.22,-71.0586 1783.26,-62.3689\"/>\r\n",
       "<polygon fill=\"black\" stroke=\"black\" points=\"1786.47,-63.7796 1787.52,-53.2367 1780.12,-60.8249 1786.47,-63.7796\"/>\r\n",
       "</g>\r\n",
       "<!-- 43 -->\r\n",
       "<g id=\"node44\" class=\"node\"><title>43</title>\r\n",
       "<path fill=\"#399de5\" stroke=\"black\" d=\"M1951,-53C1951,-53 1878,-53 1878,-53 1872,-53 1866,-47 1866,-41 1866,-41 1866,-12 1866,-12 1866,-6 1872,-0 1878,-0 1878,-0 1951,-0 1951,-0 1957,-0 1963,-6 1963,-12 1963,-12 1963,-41 1963,-41 1963,-47 1957,-53 1951,-53\"/>\r\n",
       "<text text-anchor=\"start\" x=\"1885.5\" y=\"-37.8\" font-family=\"Helvetica,sans-Serif\" font-size=\"14.00\">gini = 0.0</text>\r\n",
       "<text text-anchor=\"start\" x=\"1875\" y=\"-22.8\" font-family=\"Helvetica,sans-Serif\" font-size=\"14.00\">samples = 4</text>\r\n",
       "<text text-anchor=\"start\" x=\"1874\" y=\"-7.8\" font-family=\"Helvetica,sans-Serif\" font-size=\"14.00\">value = [0, 4]</text>\r\n",
       "</g>\r\n",
       "<!-- 42&#45;&gt;43 -->\r\n",
       "<g id=\"edge43\" class=\"edge\"><title>42&#45;&gt;43</title>\r\n",
       "<path fill=\"none\" stroke=\"black\" d=\"M1914.5,-88.9485C1914.5,-80.7153 1914.5,-71.848 1914.5,-63.4814\"/>\r\n",
       "<polygon fill=\"black\" stroke=\"black\" points=\"1918,-63.2367 1914.5,-53.2367 1911,-63.2367 1918,-63.2367\"/>\r\n",
       "</g>\r\n",
       "<!-- 44 -->\r\n",
       "<g id=\"node45\" class=\"node\"><title>44</title>\r\n",
       "<path fill=\"#e58139\" stroke=\"black\" d=\"M2066,-53C2066,-53 1993,-53 1993,-53 1987,-53 1981,-47 1981,-41 1981,-41 1981,-12 1981,-12 1981,-6 1987,-0 1993,-0 1993,-0 2066,-0 2066,-0 2072,-0 2078,-6 2078,-12 2078,-12 2078,-41 2078,-41 2078,-47 2072,-53 2066,-53\"/>\r\n",
       "<text text-anchor=\"start\" x=\"2000.5\" y=\"-37.8\" font-family=\"Helvetica,sans-Serif\" font-size=\"14.00\">gini = 0.0</text>\r\n",
       "<text text-anchor=\"start\" x=\"1990\" y=\"-22.8\" font-family=\"Helvetica,sans-Serif\" font-size=\"14.00\">samples = 2</text>\r\n",
       "<text text-anchor=\"start\" x=\"1989\" y=\"-7.8\" font-family=\"Helvetica,sans-Serif\" font-size=\"14.00\">value = [2, 0]</text>\r\n",
       "</g>\r\n",
       "<!-- 42&#45;&gt;44 -->\r\n",
       "<g id=\"edge44\" class=\"edge\"><title>42&#45;&gt;44</title>\r\n",
       "<path fill=\"none\" stroke=\"black\" d=\"M1954.72,-88.9485C1966.3,-79.4346 1978.91,-69.074 1990.42,-59.6175\"/>\r\n",
       "<polygon fill=\"black\" stroke=\"black\" points=\"1992.68,-62.2897 1998.18,-53.2367 1988.23,-56.8814 1992.68,-62.2897\"/>\r\n",
       "</g>\r\n",
       "<!-- 47 -->\r\n",
       "<g id=\"node48\" class=\"node\"><title>47</title>\r\n",
       "<path fill=\"#e68640\" stroke=\"black\" d=\"M2644.5,-365C2644.5,-365 2456.5,-365 2456.5,-365 2450.5,-365 2444.5,-359 2444.5,-353 2444.5,-353 2444.5,-309 2444.5,-309 2444.5,-303 2450.5,-297 2456.5,-297 2456.5,-297 2644.5,-297 2644.5,-297 2650.5,-297 2656.5,-303 2656.5,-309 2656.5,-309 2656.5,-353 2656.5,-353 2656.5,-359 2650.5,-365 2644.5,-365\"/>\r\n",
       "<text text-anchor=\"start\" x=\"2452.5\" y=\"-349.8\" font-family=\"Helvetica,sans-Serif\" font-size=\"14.00\">average_montly_hours ≤ 272.5</text>\r\n",
       "<text text-anchor=\"start\" x=\"2513\" y=\"-334.8\" font-family=\"Helvetica,sans-Serif\" font-size=\"14.00\">gini = 0.067</text>\r\n",
       "<text text-anchor=\"start\" x=\"2503\" y=\"-319.8\" font-family=\"Helvetica,sans-Serif\" font-size=\"14.00\">samples = 463</text>\r\n",
       "<text text-anchor=\"start\" x=\"2497.5\" y=\"-304.8\" font-family=\"Helvetica,sans-Serif\" font-size=\"14.00\">value = [447, 16]</text>\r\n",
       "</g>\r\n",
       "<!-- 46&#45;&gt;47 -->\r\n",
       "<g id=\"edge47\" class=\"edge\"><title>46&#45;&gt;47</title>\r\n",
       "<path fill=\"none\" stroke=\"black\" d=\"M2550.5,-400.884C2550.5,-392.778 2550.5,-383.982 2550.5,-375.472\"/>\r\n",
       "<polygon fill=\"black\" stroke=\"black\" points=\"2554,-375.299 2550.5,-365.299 2547,-375.299 2554,-375.299\"/>\r\n",
       "</g>\r\n",
       "<!-- 60 -->\r\n",
       "<g id=\"node61\" class=\"node\"><title>60</title>\r\n",
       "<path fill=\"#86c3ef\" stroke=\"black\" d=\"M3172.5,-365C3172.5,-365 2984.5,-365 2984.5,-365 2978.5,-365 2972.5,-359 2972.5,-353 2972.5,-353 2972.5,-309 2972.5,-309 2972.5,-303 2978.5,-297 2984.5,-297 2984.5,-297 3172.5,-297 3172.5,-297 3178.5,-297 3184.5,-303 3184.5,-309 3184.5,-309 3184.5,-353 3184.5,-353 3184.5,-359 3178.5,-365 3172.5,-365\"/>\r\n",
       "<text text-anchor=\"start\" x=\"2980.5\" y=\"-349.8\" font-family=\"Helvetica,sans-Serif\" font-size=\"14.00\">average_montly_hours ≤ 216.5</text>\r\n",
       "<text text-anchor=\"start\" x=\"3041\" y=\"-334.8\" font-family=\"Helvetica,sans-Serif\" font-size=\"14.00\">gini = 0.403</text>\r\n",
       "<text text-anchor=\"start\" x=\"3031\" y=\"-319.8\" font-family=\"Helvetica,sans-Serif\" font-size=\"14.00\">samples = 750</text>\r\n",
       "<text text-anchor=\"start\" x=\"3021.5\" y=\"-304.8\" font-family=\"Helvetica,sans-Serif\" font-size=\"14.00\">value = [210, 540]</text>\r\n",
       "</g>\r\n",
       "<!-- 46&#45;&gt;60 -->\r\n",
       "<g id=\"edge60\" class=\"edge\"><title>46&#45;&gt;60</title>\r\n",
       "<path fill=\"none\" stroke=\"black\" d=\"M2631.27,-418.397C2719.61,-401.331 2861.98,-373.828 2962.31,-354.445\"/>\r\n",
       "<polygon fill=\"black\" stroke=\"black\" points=\"2963.04,-357.87 2972.19,-352.537 2961.71,-350.997 2963.04,-357.87\"/>\r\n",
       "</g>\r\n",
       "<!-- 48 -->\r\n",
       "<g id=\"node49\" class=\"node\"><title>48</title>\r\n",
       "<path fill=\"#e6843e\" stroke=\"black\" d=\"M2526,-261C2526,-261 2357,-261 2357,-261 2351,-261 2345,-255 2345,-249 2345,-249 2345,-205 2345,-205 2345,-199 2351,-193 2357,-193 2357,-193 2526,-193 2526,-193 2532,-193 2538,-199 2538,-205 2538,-205 2538,-249 2538,-249 2538,-255 2532,-261 2526,-261\"/>\r\n",
       "<text text-anchor=\"start\" x=\"2353\" y=\"-245.8\" font-family=\"Helvetica,sans-Serif\" font-size=\"14.00\">time_spend_company ≤ 5.5</text>\r\n",
       "<text text-anchor=\"start\" x=\"2404\" y=\"-230.8\" font-family=\"Helvetica,sans-Serif\" font-size=\"14.00\">gini = 0.049</text>\r\n",
       "<text text-anchor=\"start\" x=\"2394\" y=\"-215.8\" font-family=\"Helvetica,sans-Serif\" font-size=\"14.00\">samples = 438</text>\r\n",
       "<text text-anchor=\"start\" x=\"2388.5\" y=\"-200.8\" font-family=\"Helvetica,sans-Serif\" font-size=\"14.00\">value = [427, 11]</text>\r\n",
       "</g>\r\n",
       "<!-- 47&#45;&gt;48 -->\r\n",
       "<g id=\"edge48\" class=\"edge\"><title>47&#45;&gt;48</title>\r\n",
       "<path fill=\"none\" stroke=\"black\" d=\"M2515.11,-296.884C2505.4,-287.798 2494.77,-277.845 2484.67,-268.4\"/>\r\n",
       "<polygon fill=\"black\" stroke=\"black\" points=\"2486.78,-265.577 2477.08,-261.299 2481.99,-270.688 2486.78,-265.577\"/>\r\n",
       "</g>\r\n",
       "<!-- 55 -->\r\n",
       "<g id=\"node56\" class=\"node\"><title>55</title>\r\n",
       "<path fill=\"#eca06a\" stroke=\"black\" d=\"M2729,-261C2729,-261 2576,-261 2576,-261 2570,-261 2564,-255 2564,-249 2564,-249 2564,-205 2564,-205 2564,-199 2570,-193 2576,-193 2576,-193 2729,-193 2729,-193 2735,-193 2741,-199 2741,-205 2741,-205 2741,-249 2741,-249 2741,-255 2735,-261 2729,-261\"/>\r\n",
       "<text text-anchor=\"start\" x=\"2572\" y=\"-245.8\" font-family=\"Helvetica,sans-Serif\" font-size=\"14.00\">satisfaction_level ≤ 0.575</text>\r\n",
       "<text text-anchor=\"start\" x=\"2619\" y=\"-230.8\" font-family=\"Helvetica,sans-Serif\" font-size=\"14.00\">gini = 0.32</text>\r\n",
       "<text text-anchor=\"start\" x=\"2609\" y=\"-215.8\" font-family=\"Helvetica,sans-Serif\" font-size=\"14.00\">samples = 25</text>\r\n",
       "<text text-anchor=\"start\" x=\"2608\" y=\"-200.8\" font-family=\"Helvetica,sans-Serif\" font-size=\"14.00\">value = [20, 5]</text>\r\n",
       "</g>\r\n",
       "<!-- 47&#45;&gt;55 -->\r\n",
       "<g id=\"edge55\" class=\"edge\"><title>47&#45;&gt;55</title>\r\n",
       "<path fill=\"none\" stroke=\"black\" d=\"M2583.62,-296.884C2592.7,-287.798 2602.65,-277.845 2612.1,-268.4\"/>\r\n",
       "<polygon fill=\"black\" stroke=\"black\" points=\"2614.6,-270.845 2619.2,-261.299 2609.65,-265.896 2614.6,-270.845\"/>\r\n",
       "</g>\r\n",
       "<!-- 49 -->\r\n",
       "<g id=\"node50\" class=\"node\"><title>49</title>\r\n",
       "<path fill=\"#e78b48\" stroke=\"black\" d=\"M2328.5,-157C2328.5,-157 2230.5,-157 2230.5,-157 2224.5,-157 2218.5,-151 2218.5,-145 2218.5,-145 2218.5,-101 2218.5,-101 2218.5,-95 2224.5,-89 2230.5,-89 2230.5,-89 2328.5,-89 2328.5,-89 2334.5,-89 2340.5,-95 2340.5,-101 2340.5,-101 2340.5,-145 2340.5,-145 2340.5,-151 2334.5,-157 2328.5,-157\"/>\r\n",
       "<text text-anchor=\"start\" x=\"2243\" y=\"-141.8\" font-family=\"Helvetica,sans-Serif\" font-size=\"14.00\">salary ≤ 1.5</text>\r\n",
       "<text text-anchor=\"start\" x=\"2242\" y=\"-126.8\" font-family=\"Helvetica,sans-Serif\" font-size=\"14.00\">gini = 0.131</text>\r\n",
       "<text text-anchor=\"start\" x=\"2232\" y=\"-111.8\" font-family=\"Helvetica,sans-Serif\" font-size=\"14.00\">samples = 142</text>\r\n",
       "<text text-anchor=\"start\" x=\"2226.5\" y=\"-96.8\" font-family=\"Helvetica,sans-Serif\" font-size=\"14.00\">value = [132, 10]</text>\r\n",
       "</g>\r\n",
       "<!-- 48&#45;&gt;49 -->\r\n",
       "<g id=\"edge49\" class=\"edge\"><title>48&#45;&gt;49</title>\r\n",
       "<path fill=\"none\" stroke=\"black\" d=\"M2388.9,-192.884C2373.55,-183.214 2356.63,-172.563 2340.79,-162.587\"/>\r\n",
       "<polygon fill=\"black\" stroke=\"black\" points=\"2342.44,-159.491 2332.11,-157.125 2338.71,-165.415 2342.44,-159.491\"/>\r\n",
       "</g>\r\n",
       "<!-- 52 -->\r\n",
       "<g id=\"node53\" class=\"node\"><title>52</title>\r\n",
       "<path fill=\"#e5813a\" stroke=\"black\" d=\"M2505.5,-157C2505.5,-157 2377.5,-157 2377.5,-157 2371.5,-157 2365.5,-151 2365.5,-145 2365.5,-145 2365.5,-101 2365.5,-101 2365.5,-95 2371.5,-89 2377.5,-89 2377.5,-89 2505.5,-89 2505.5,-89 2511.5,-89 2517.5,-95 2517.5,-101 2517.5,-101 2517.5,-145 2517.5,-145 2517.5,-151 2511.5,-157 2505.5,-157\"/>\r\n",
       "<text text-anchor=\"start\" x=\"2373.5\" y=\"-141.8\" font-family=\"Helvetica,sans-Serif\" font-size=\"14.00\">number_project ≤ 4.5</text>\r\n",
       "<text text-anchor=\"start\" x=\"2404\" y=\"-126.8\" font-family=\"Helvetica,sans-Serif\" font-size=\"14.00\">gini = 0.007</text>\r\n",
       "<text text-anchor=\"start\" x=\"2394\" y=\"-111.8\" font-family=\"Helvetica,sans-Serif\" font-size=\"14.00\">samples = 296</text>\r\n",
       "<text text-anchor=\"start\" x=\"2393\" y=\"-96.8\" font-family=\"Helvetica,sans-Serif\" font-size=\"14.00\">value = [295, 1]</text>\r\n",
       "</g>\r\n",
       "<!-- 48&#45;&gt;52 -->\r\n",
       "<g id=\"edge52\" class=\"edge\"><title>48&#45;&gt;52</title>\r\n",
       "<path fill=\"none\" stroke=\"black\" d=\"M2441.5,-192.884C2441.5,-184.778 2441.5,-175.982 2441.5,-167.472\"/>\r\n",
       "<polygon fill=\"black\" stroke=\"black\" points=\"2445,-167.299 2441.5,-157.299 2438,-167.299 2445,-167.299\"/>\r\n",
       "</g>\r\n",
       "<!-- 50 -->\r\n",
       "<g id=\"node51\" class=\"node\"><title>50</title>\r\n",
       "<path fill=\"#e68743\" stroke=\"black\" d=\"M2197,-53C2197,-53 2108,-53 2108,-53 2102,-53 2096,-47 2096,-41 2096,-41 2096,-12 2096,-12 2096,-6 2102,-0 2108,-0 2108,-0 2197,-0 2197,-0 2203,-0 2209,-6 2209,-12 2209,-12 2209,-41 2209,-41 2209,-47 2203,-53 2197,-53\"/>\r\n",
       "<text text-anchor=\"start\" x=\"2115\" y=\"-37.8\" font-family=\"Helvetica,sans-Serif\" font-size=\"14.00\">gini = 0.089</text>\r\n",
       "<text text-anchor=\"start\" x=\"2105\" y=\"-22.8\" font-family=\"Helvetica,sans-Serif\" font-size=\"14.00\">samples = 128</text>\r\n",
       "<text text-anchor=\"start\" x=\"2104\" y=\"-7.8\" font-family=\"Helvetica,sans-Serif\" font-size=\"14.00\">value = [122, 6]</text>\r\n",
       "</g>\r\n",
       "<!-- 49&#45;&gt;50 -->\r\n",
       "<g id=\"edge50\" class=\"edge\"><title>49&#45;&gt;50</title>\r\n",
       "<path fill=\"none\" stroke=\"black\" d=\"M2235.08,-88.9485C2222.17,-79.3431 2208.1,-68.8747 2195.3,-59.345\"/>\r\n",
       "<polygon fill=\"black\" stroke=\"black\" points=\"2197.2,-56.3984 2187.09,-53.2367 2193.02,-62.0143 2197.2,-56.3984\"/>\r\n",
       "</g>\r\n",
       "<!-- 51 -->\r\n",
       "<g id=\"node52\" class=\"node\"><title>51</title>\r\n",
       "<path fill=\"#efb388\" stroke=\"black\" d=\"M2320,-53C2320,-53 2239,-53 2239,-53 2233,-53 2227,-47 2227,-41 2227,-41 2227,-12 2227,-12 2227,-6 2233,-0 2239,-0 2239,-0 2320,-0 2320,-0 2326,-0 2332,-6 2332,-12 2332,-12 2332,-41 2332,-41 2332,-47 2326,-53 2320,-53\"/>\r\n",
       "<text text-anchor=\"start\" x=\"2242\" y=\"-37.8\" font-family=\"Helvetica,sans-Serif\" font-size=\"14.00\">gini = 0.408</text>\r\n",
       "<text text-anchor=\"start\" x=\"2236\" y=\"-22.8\" font-family=\"Helvetica,sans-Serif\" font-size=\"14.00\">samples = 14</text>\r\n",
       "<text text-anchor=\"start\" x=\"2235\" y=\"-7.8\" font-family=\"Helvetica,sans-Serif\" font-size=\"14.00\">value = [10, 4]</text>\r\n",
       "</g>\r\n",
       "<!-- 49&#45;&gt;51 -->\r\n",
       "<g id=\"edge51\" class=\"edge\"><title>49&#45;&gt;51</title>\r\n",
       "<path fill=\"none\" stroke=\"black\" d=\"M2279.5,-88.9485C2279.5,-80.7153 2279.5,-71.848 2279.5,-63.4814\"/>\r\n",
       "<polygon fill=\"black\" stroke=\"black\" points=\"2283,-63.2367 2279.5,-53.2367 2276,-63.2367 2283,-63.2367\"/>\r\n",
       "</g>\r\n",
       "<!-- 53 -->\r\n",
       "<g id=\"node54\" class=\"node\"><title>53</title>\r\n",
       "<path fill=\"#e58139\" stroke=\"black\" d=\"M2451,-53C2451,-53 2362,-53 2362,-53 2356,-53 2350,-47 2350,-41 2350,-41 2350,-12 2350,-12 2350,-6 2356,-0 2362,-0 2362,-0 2451,-0 2451,-0 2457,-0 2463,-6 2463,-12 2463,-12 2463,-41 2463,-41 2463,-47 2457,-53 2451,-53\"/>\r\n",
       "<text text-anchor=\"start\" x=\"2377.5\" y=\"-37.8\" font-family=\"Helvetica,sans-Serif\" font-size=\"14.00\">gini = 0.0</text>\r\n",
       "<text text-anchor=\"start\" x=\"2359\" y=\"-22.8\" font-family=\"Helvetica,sans-Serif\" font-size=\"14.00\">samples = 220</text>\r\n",
       "<text text-anchor=\"start\" x=\"2358\" y=\"-7.8\" font-family=\"Helvetica,sans-Serif\" font-size=\"14.00\">value = [220, 0]</text>\r\n",
       "</g>\r\n",
       "<!-- 52&#45;&gt;53 -->\r\n",
       "<g id=\"edge53\" class=\"edge\"><title>52&#45;&gt;53</title>\r\n",
       "<path fill=\"none\" stroke=\"black\" d=\"M2429.26,-88.9485C2426.11,-80.4408 2422.71,-71.2562 2419.52,-62.6464\"/>\r\n",
       "<polygon fill=\"black\" stroke=\"black\" points=\"2422.79,-61.3986 2416.03,-53.2367 2416.22,-63.8298 2422.79,-61.3986\"/>\r\n",
       "</g>\r\n",
       "<!-- 54 -->\r\n",
       "<g id=\"node55\" class=\"node\"><title>54</title>\r\n",
       "<path fill=\"#e5833c\" stroke=\"black\" d=\"M2574,-53C2574,-53 2493,-53 2493,-53 2487,-53 2481,-47 2481,-41 2481,-41 2481,-12 2481,-12 2481,-6 2487,-0 2493,-0 2493,-0 2574,-0 2574,-0 2580,-0 2586,-6 2586,-12 2586,-12 2586,-41 2586,-41 2586,-47 2580,-53 2574,-53\"/>\r\n",
       "<text text-anchor=\"start\" x=\"2496\" y=\"-37.8\" font-family=\"Helvetica,sans-Serif\" font-size=\"14.00\">gini = 0.026</text>\r\n",
       "<text text-anchor=\"start\" x=\"2490\" y=\"-22.8\" font-family=\"Helvetica,sans-Serif\" font-size=\"14.00\">samples = 76</text>\r\n",
       "<text text-anchor=\"start\" x=\"2489\" y=\"-7.8\" font-family=\"Helvetica,sans-Serif\" font-size=\"14.00\">value = [75, 1]</text>\r\n",
       "</g>\r\n",
       "<!-- 52&#45;&gt;54 -->\r\n",
       "<g id=\"edge54\" class=\"edge\"><title>52&#45;&gt;54</title>\r\n",
       "<path fill=\"none\" stroke=\"black\" d=\"M2473.68,-88.9485C2482.67,-79.709 2492.44,-69.671 2501.43,-60.4381\"/>\r\n",
       "<polygon fill=\"black\" stroke=\"black\" points=\"2503.98,-62.8434 2508.44,-53.2367 2498.96,-57.9605 2503.98,-62.8434\"/>\r\n",
       "</g>\r\n",
       "<!-- 56 -->\r\n",
       "<g id=\"node57\" class=\"node\"><title>56</title>\r\n",
       "<path fill=\"#f8dbc6\" stroke=\"black\" d=\"M2729,-157C2729,-157 2576,-157 2576,-157 2570,-157 2564,-151 2564,-145 2564,-145 2564,-101 2564,-101 2564,-95 2570,-89 2576,-89 2576,-89 2729,-89 2729,-89 2735,-89 2741,-95 2741,-101 2741,-101 2741,-145 2741,-145 2741,-151 2735,-157 2729,-157\"/>\r\n",
       "<text text-anchor=\"start\" x=\"2572\" y=\"-141.8\" font-family=\"Helvetica,sans-Serif\" font-size=\"14.00\">satisfaction_level ≤ 0.505</text>\r\n",
       "<text text-anchor=\"start\" x=\"2615\" y=\"-126.8\" font-family=\"Helvetica,sans-Serif\" font-size=\"14.00\">gini = 0.486</text>\r\n",
       "<text text-anchor=\"start\" x=\"2609\" y=\"-111.8\" font-family=\"Helvetica,sans-Serif\" font-size=\"14.00\">samples = 12</text>\r\n",
       "<text text-anchor=\"start\" x=\"2612\" y=\"-96.8\" font-family=\"Helvetica,sans-Serif\" font-size=\"14.00\">value = [7, 5]</text>\r\n",
       "</g>\r\n",
       "<!-- 55&#45;&gt;56 -->\r\n",
       "<g id=\"edge56\" class=\"edge\"><title>55&#45;&gt;56</title>\r\n",
       "<path fill=\"none\" stroke=\"black\" d=\"M2652.5,-192.884C2652.5,-184.778 2652.5,-175.982 2652.5,-167.472\"/>\r\n",
       "<polygon fill=\"black\" stroke=\"black\" points=\"2656,-167.299 2652.5,-157.299 2649,-167.299 2656,-167.299\"/>\r\n",
       "</g>\r\n",
       "<!-- 59 -->\r\n",
       "<g id=\"node60\" class=\"node\"><title>59</title>\r\n",
       "<path fill=\"#e58139\" stroke=\"black\" d=\"M2852,-149.5C2852,-149.5 2771,-149.5 2771,-149.5 2765,-149.5 2759,-143.5 2759,-137.5 2759,-137.5 2759,-108.5 2759,-108.5 2759,-102.5 2765,-96.5 2771,-96.5 2771,-96.5 2852,-96.5 2852,-96.5 2858,-96.5 2864,-102.5 2864,-108.5 2864,-108.5 2864,-137.5 2864,-137.5 2864,-143.5 2858,-149.5 2852,-149.5\"/>\r\n",
       "<text text-anchor=\"start\" x=\"2782.5\" y=\"-134.3\" font-family=\"Helvetica,sans-Serif\" font-size=\"14.00\">gini = 0.0</text>\r\n",
       "<text text-anchor=\"start\" x=\"2768\" y=\"-119.3\" font-family=\"Helvetica,sans-Serif\" font-size=\"14.00\">samples = 13</text>\r\n",
       "<text text-anchor=\"start\" x=\"2767\" y=\"-104.3\" font-family=\"Helvetica,sans-Serif\" font-size=\"14.00\">value = [13, 0]</text>\r\n",
       "</g>\r\n",
       "<!-- 55&#45;&gt;59 -->\r\n",
       "<g id=\"edge59\" class=\"edge\"><title>55&#45;&gt;59</title>\r\n",
       "<path fill=\"none\" stroke=\"black\" d=\"M2704.12,-192.884C2723.07,-180.731 2744.43,-167.027 2763.08,-155.061\"/>\r\n",
       "<polygon fill=\"black\" stroke=\"black\" points=\"2765.19,-157.865 2771.72,-149.52 2761.41,-151.974 2765.19,-157.865\"/>\r\n",
       "</g>\r\n",
       "<!-- 57 -->\r\n",
       "<g id=\"node58\" class=\"node\"><title>57</title>\r\n",
       "<path fill=\"#e58139\" stroke=\"black\" d=\"M2689,-53C2689,-53 2616,-53 2616,-53 2610,-53 2604,-47 2604,-41 2604,-41 2604,-12 2604,-12 2604,-6 2610,-0 2616,-0 2616,-0 2689,-0 2689,-0 2695,-0 2701,-6 2701,-12 2701,-12 2701,-41 2701,-41 2701,-47 2695,-53 2689,-53\"/>\r\n",
       "<text text-anchor=\"start\" x=\"2623.5\" y=\"-37.8\" font-family=\"Helvetica,sans-Serif\" font-size=\"14.00\">gini = 0.0</text>\r\n",
       "<text text-anchor=\"start\" x=\"2613\" y=\"-22.8\" font-family=\"Helvetica,sans-Serif\" font-size=\"14.00\">samples = 5</text>\r\n",
       "<text text-anchor=\"start\" x=\"2612\" y=\"-7.8\" font-family=\"Helvetica,sans-Serif\" font-size=\"14.00\">value = [5, 0]</text>\r\n",
       "</g>\r\n",
       "<!-- 56&#45;&gt;57 -->\r\n",
       "<g id=\"edge57\" class=\"edge\"><title>56&#45;&gt;57</title>\r\n",
       "<path fill=\"none\" stroke=\"black\" d=\"M2652.5,-88.9485C2652.5,-80.7153 2652.5,-71.848 2652.5,-63.4814\"/>\r\n",
       "<polygon fill=\"black\" stroke=\"black\" points=\"2656,-63.2367 2652.5,-53.2367 2649,-63.2367 2656,-63.2367\"/>\r\n",
       "</g>\r\n",
       "<!-- 58 -->\r\n",
       "<g id=\"node59\" class=\"node\"><title>58</title>\r\n",
       "<path fill=\"#88c4ef\" stroke=\"black\" d=\"M2804,-53C2804,-53 2731,-53 2731,-53 2725,-53 2719,-47 2719,-41 2719,-41 2719,-12 2719,-12 2719,-6 2725,-0 2731,-0 2731,-0 2804,-0 2804,-0 2810,-0 2816,-6 2816,-12 2816,-12 2816,-41 2816,-41 2816,-47 2810,-53 2804,-53\"/>\r\n",
       "<text text-anchor=\"start\" x=\"2730\" y=\"-37.8\" font-family=\"Helvetica,sans-Serif\" font-size=\"14.00\">gini = 0.408</text>\r\n",
       "<text text-anchor=\"start\" x=\"2728\" y=\"-22.8\" font-family=\"Helvetica,sans-Serif\" font-size=\"14.00\">samples = 7</text>\r\n",
       "<text text-anchor=\"start\" x=\"2727\" y=\"-7.8\" font-family=\"Helvetica,sans-Serif\" font-size=\"14.00\">value = [2, 5]</text>\r\n",
       "</g>\r\n",
       "<!-- 56&#45;&gt;58 -->\r\n",
       "<g id=\"edge58\" class=\"edge\"><title>56&#45;&gt;58</title>\r\n",
       "<path fill=\"none\" stroke=\"black\" d=\"M2692.72,-88.9485C2704.3,-79.4346 2716.91,-69.074 2728.42,-59.6175\"/>\r\n",
       "<polygon fill=\"black\" stroke=\"black\" points=\"2730.68,-62.2897 2736.18,-53.2367 2726.23,-56.8814 2730.68,-62.2897\"/>\r\n",
       "</g>\r\n",
       "<!-- 61 -->\r\n",
       "<g id=\"node62\" class=\"node\"><title>61</title>\r\n",
       "<path fill=\"#e88d4c\" stroke=\"black\" d=\"M3147,-261C3147,-261 3010,-261 3010,-261 3004,-261 2998,-255 2998,-249 2998,-249 2998,-205 2998,-205 2998,-199 3004,-193 3010,-193 3010,-193 3147,-193 3147,-193 3153,-193 3159,-199 3159,-205 3159,-205 3159,-249 3159,-249 3159,-255 3153,-261 3147,-261\"/>\r\n",
       "<text text-anchor=\"start\" x=\"3006\" y=\"-245.8\" font-family=\"Helvetica,sans-Serif\" font-size=\"14.00\">last_evaluation ≤ 0.995</text>\r\n",
       "<text text-anchor=\"start\" x=\"3041\" y=\"-230.8\" font-family=\"Helvetica,sans-Serif\" font-size=\"14.00\">gini = 0.162</text>\r\n",
       "<text text-anchor=\"start\" x=\"3031\" y=\"-215.8\" font-family=\"Helvetica,sans-Serif\" font-size=\"14.00\">samples = 146</text>\r\n",
       "<text text-anchor=\"start\" x=\"3025.5\" y=\"-200.8\" font-family=\"Helvetica,sans-Serif\" font-size=\"14.00\">value = [133, 13]</text>\r\n",
       "</g>\r\n",
       "<!-- 60&#45;&gt;61 -->\r\n",
       "<g id=\"edge61\" class=\"edge\"><title>60&#45;&gt;61</title>\r\n",
       "<path fill=\"none\" stroke=\"black\" d=\"M3078.5,-296.884C3078.5,-288.778 3078.5,-279.982 3078.5,-271.472\"/>\r\n",
       "<polygon fill=\"black\" stroke=\"black\" points=\"3082,-271.299 3078.5,-261.299 3075,-271.299 3082,-271.299\"/>\r\n",
       "</g>\r\n",
       "<!-- 68 -->\r\n",
       "<g id=\"node69\" class=\"node\"><title>68</title>\r\n",
       "<path fill=\"#56abe9\" stroke=\"black\" d=\"M3455,-261C3455,-261 3286,-261 3286,-261 3280,-261 3274,-255 3274,-249 3274,-249 3274,-205 3274,-205 3274,-199 3280,-193 3286,-193 3286,-193 3455,-193 3455,-193 3461,-193 3467,-199 3467,-205 3467,-205 3467,-249 3467,-249 3467,-255 3461,-261 3455,-261\"/>\r\n",
       "<text text-anchor=\"start\" x=\"3282\" y=\"-245.8\" font-family=\"Helvetica,sans-Serif\" font-size=\"14.00\">time_spend_company ≤ 6.5</text>\r\n",
       "<text text-anchor=\"start\" x=\"3333\" y=\"-230.8\" font-family=\"Helvetica,sans-Serif\" font-size=\"14.00\">gini = 0.222</text>\r\n",
       "<text text-anchor=\"start\" x=\"3323\" y=\"-215.8\" font-family=\"Helvetica,sans-Serif\" font-size=\"14.00\">samples = 604</text>\r\n",
       "<text text-anchor=\"start\" x=\"3317.5\" y=\"-200.8\" font-family=\"Helvetica,sans-Serif\" font-size=\"14.00\">value = [77, 527]</text>\r\n",
       "</g>\r\n",
       "<!-- 60&#45;&gt;68 -->\r\n",
       "<g id=\"edge68\" class=\"edge\"><title>60&#45;&gt;68</title>\r\n",
       "<path fill=\"none\" stroke=\"black\" d=\"M3173.3,-296.884C3202.91,-286.543 3235.72,-275.079 3265.96,-264.519\"/>\r\n",
       "<polygon fill=\"black\" stroke=\"black\" points=\"3267.39,-267.727 3275.67,-261.125 3265.08,-261.118 3267.39,-267.727\"/>\r\n",
       "</g>\r\n",
       "<!-- 62 -->\r\n",
       "<g id=\"node63\" class=\"node\"><title>62</title>\r\n",
       "<path fill=\"#e78945\" stroke=\"black\" d=\"M3066,-157C3066,-157 2897,-157 2897,-157 2891,-157 2885,-151 2885,-145 2885,-145 2885,-101 2885,-101 2885,-95 2891,-89 2897,-89 2897,-89 3066,-89 3066,-89 3072,-89 3078,-95 3078,-101 3078,-101 3078,-145 3078,-145 3078,-151 3072,-157 3066,-157\"/>\r\n",
       "<text text-anchor=\"start\" x=\"2893\" y=\"-141.8\" font-family=\"Helvetica,sans-Serif\" font-size=\"14.00\">time_spend_company ≤ 5.5</text>\r\n",
       "<text text-anchor=\"start\" x=\"2944\" y=\"-126.8\" font-family=\"Helvetica,sans-Serif\" font-size=\"14.00\">gini = 0.108</text>\r\n",
       "<text text-anchor=\"start\" x=\"2934\" y=\"-111.8\" font-family=\"Helvetica,sans-Serif\" font-size=\"14.00\">samples = 140</text>\r\n",
       "<text text-anchor=\"start\" x=\"2933\" y=\"-96.8\" font-family=\"Helvetica,sans-Serif\" font-size=\"14.00\">value = [132, 8]</text>\r\n",
       "</g>\r\n",
       "<!-- 61&#45;&gt;62 -->\r\n",
       "<g id=\"edge62\" class=\"edge\"><title>61&#45;&gt;62</title>\r\n",
       "<path fill=\"none\" stroke=\"black\" d=\"M3047.01,-192.884C3038.45,-183.887 3029.09,-174.041 3020.18,-164.678\"/>\r\n",
       "<polygon fill=\"black\" stroke=\"black\" points=\"3022.59,-162.134 3013.17,-157.299 3017.52,-166.958 3022.59,-162.134\"/>\r\n",
       "</g>\r\n",
       "<!-- 65 -->\r\n",
       "<g id=\"node66\" class=\"node\"><title>65</title>\r\n",
       "<path fill=\"#61b1ea\" stroke=\"black\" d=\"M3261,-157C3261,-157 3108,-157 3108,-157 3102,-157 3096,-151 3096,-145 3096,-145 3096,-101 3096,-101 3096,-95 3102,-89 3108,-89 3108,-89 3261,-89 3261,-89 3267,-89 3273,-95 3273,-101 3273,-101 3273,-145 3273,-145 3273,-151 3267,-157 3261,-157\"/>\r\n",
       "<text text-anchor=\"start\" x=\"3104\" y=\"-141.8\" font-family=\"Helvetica,sans-Serif\" font-size=\"14.00\">satisfaction_level ≤ 0.825</text>\r\n",
       "<text text-anchor=\"start\" x=\"3147\" y=\"-126.8\" font-family=\"Helvetica,sans-Serif\" font-size=\"14.00\">gini = 0.278</text>\r\n",
       "<text text-anchor=\"start\" x=\"3145\" y=\"-111.8\" font-family=\"Helvetica,sans-Serif\" font-size=\"14.00\">samples = 6</text>\r\n",
       "<text text-anchor=\"start\" x=\"3144\" y=\"-96.8\" font-family=\"Helvetica,sans-Serif\" font-size=\"14.00\">value = [1, 5]</text>\r\n",
       "</g>\r\n",
       "<!-- 61&#45;&gt;65 -->\r\n",
       "<g id=\"edge65\" class=\"edge\"><title>61&#45;&gt;65</title>\r\n",
       "<path fill=\"none\" stroke=\"black\" d=\"M3112.92,-192.884C3122.36,-183.798 3132.7,-173.845 3142.52,-164.4\"/>\r\n",
       "<polygon fill=\"black\" stroke=\"black\" points=\"3145.12,-166.755 3149.89,-157.299 3140.26,-161.711 3145.12,-166.755\"/>\r\n",
       "</g>\r\n",
       "<!-- 63 -->\r\n",
       "<g id=\"node64\" class=\"node\"><title>63</title>\r\n",
       "<path fill=\"#eca26c\" stroke=\"black\" d=\"M2927,-53C2927,-53 2846,-53 2846,-53 2840,-53 2834,-47 2834,-41 2834,-41 2834,-12 2834,-12 2834,-6 2840,-0 2846,-0 2846,-0 2927,-0 2927,-0 2933,-0 2939,-6 2939,-12 2939,-12 2939,-41 2939,-41 2939,-47 2933,-53 2927,-53\"/>\r\n",
       "<text text-anchor=\"start\" x=\"2849\" y=\"-37.8\" font-family=\"Helvetica,sans-Serif\" font-size=\"14.00\">gini = 0.327</text>\r\n",
       "<text text-anchor=\"start\" x=\"2843\" y=\"-22.8\" font-family=\"Helvetica,sans-Serif\" font-size=\"14.00\">samples = 34</text>\r\n",
       "<text text-anchor=\"start\" x=\"2842\" y=\"-7.8\" font-family=\"Helvetica,sans-Serif\" font-size=\"14.00\">value = [27, 7]</text>\r\n",
       "</g>\r\n",
       "<!-- 62&#45;&gt;63 -->\r\n",
       "<g id=\"edge63\" class=\"edge\"><title>62&#45;&gt;63</title>\r\n",
       "<path fill=\"none\" stroke=\"black\" d=\"M2948.27,-88.9485C2938.99,-79.709 2928.89,-69.671 2919.61,-60.4381\"/>\r\n",
       "<polygon fill=\"black\" stroke=\"black\" points=\"2921.93,-57.8077 2912.37,-53.2367 2916.99,-62.7705 2921.93,-57.8077\"/>\r\n",
       "</g>\r\n",
       "<!-- 64 -->\r\n",
       "<g id=\"node65\" class=\"node\"><title>64</title>\r\n",
       "<path fill=\"#e5823b\" stroke=\"black\" d=\"M3058,-53C3058,-53 2969,-53 2969,-53 2963,-53 2957,-47 2957,-41 2957,-41 2957,-12 2957,-12 2957,-6 2963,-0 2969,-0 2969,-0 3058,-0 3058,-0 3064,-0 3070,-6 3070,-12 3070,-12 3070,-41 3070,-41 3070,-47 3064,-53 3058,-53\"/>\r\n",
       "<text text-anchor=\"start\" x=\"2976\" y=\"-37.8\" font-family=\"Helvetica,sans-Serif\" font-size=\"14.00\">gini = 0.019</text>\r\n",
       "<text text-anchor=\"start\" x=\"2966\" y=\"-22.8\" font-family=\"Helvetica,sans-Serif\" font-size=\"14.00\">samples = 106</text>\r\n",
       "<text text-anchor=\"start\" x=\"2965\" y=\"-7.8\" font-family=\"Helvetica,sans-Serif\" font-size=\"14.00\">value = [105, 1]</text>\r\n",
       "</g>\r\n",
       "<!-- 62&#45;&gt;64 -->\r\n",
       "<g id=\"edge64\" class=\"edge\"><title>62&#45;&gt;64</title>\r\n",
       "<path fill=\"none\" stroke=\"black\" d=\"M2992.69,-88.9485C2995.54,-80.5323 2998.62,-71.4536 3001.5,-62.9243\"/>\r\n",
       "<polygon fill=\"black\" stroke=\"black\" points=\"3004.89,-63.831 3004.78,-53.2367 2998.26,-61.5858 3004.89,-63.831\"/>\r\n",
       "</g>\r\n",
       "<!-- 66 -->\r\n",
       "<g id=\"node67\" class=\"node\"><title>66</title>\r\n",
       "<path fill=\"#399de5\" stroke=\"black\" d=\"M3173,-53C3173,-53 3100,-53 3100,-53 3094,-53 3088,-47 3088,-41 3088,-41 3088,-12 3088,-12 3088,-6 3094,-0 3100,-0 3100,-0 3173,-0 3173,-0 3179,-0 3185,-6 3185,-12 3185,-12 3185,-41 3185,-41 3185,-47 3179,-53 3173,-53\"/>\r\n",
       "<text text-anchor=\"start\" x=\"3107.5\" y=\"-37.8\" font-family=\"Helvetica,sans-Serif\" font-size=\"14.00\">gini = 0.0</text>\r\n",
       "<text text-anchor=\"start\" x=\"3097\" y=\"-22.8\" font-family=\"Helvetica,sans-Serif\" font-size=\"14.00\">samples = 5</text>\r\n",
       "<text text-anchor=\"start\" x=\"3096\" y=\"-7.8\" font-family=\"Helvetica,sans-Serif\" font-size=\"14.00\">value = [0, 5]</text>\r\n",
       "</g>\r\n",
       "<!-- 65&#45;&gt;66 -->\r\n",
       "<g id=\"edge66\" class=\"edge\"><title>65&#45;&gt;66</title>\r\n",
       "<path fill=\"none\" stroke=\"black\" d=\"M3167.71,-88.9485C3163.34,-80.3494 3158.62,-71.0586 3154.21,-62.3689\"/>\r\n",
       "<polygon fill=\"black\" stroke=\"black\" points=\"3157.22,-60.5675 3149.57,-53.2367 3150.98,-63.7376 3157.22,-60.5675\"/>\r\n",
       "</g>\r\n",
       "<!-- 67 -->\r\n",
       "<g id=\"node68\" class=\"node\"><title>67</title>\r\n",
       "<path fill=\"#e58139\" stroke=\"black\" d=\"M3288,-53C3288,-53 3215,-53 3215,-53 3209,-53 3203,-47 3203,-41 3203,-41 3203,-12 3203,-12 3203,-6 3209,-0 3215,-0 3215,-0 3288,-0 3288,-0 3294,-0 3300,-6 3300,-12 3300,-12 3300,-41 3300,-41 3300,-47 3294,-53 3288,-53\"/>\r\n",
       "<text text-anchor=\"start\" x=\"3222.5\" y=\"-37.8\" font-family=\"Helvetica,sans-Serif\" font-size=\"14.00\">gini = 0.0</text>\r\n",
       "<text text-anchor=\"start\" x=\"3212\" y=\"-22.8\" font-family=\"Helvetica,sans-Serif\" font-size=\"14.00\">samples = 1</text>\r\n",
       "<text text-anchor=\"start\" x=\"3211\" y=\"-7.8\" font-family=\"Helvetica,sans-Serif\" font-size=\"14.00\">value = [1, 0]</text>\r\n",
       "</g>\r\n",
       "<!-- 65&#45;&gt;67 -->\r\n",
       "<g id=\"edge67\" class=\"edge\"><title>65&#45;&gt;67</title>\r\n",
       "<path fill=\"none\" stroke=\"black\" d=\"M3207.93,-88.9485C3214.22,-80.0749 3221.04,-70.4648 3227.37,-61.5388\"/>\r\n",
       "<polygon fill=\"black\" stroke=\"black\" points=\"3230.32,-63.4188 3233.25,-53.2367 3224.61,-59.3701 3230.32,-63.4188\"/>\r\n",
       "</g>\r\n",
       "<!-- 69 -->\r\n",
       "<g id=\"node70\" class=\"node\"><title>69</title>\r\n",
       "<path fill=\"#48a4e7\" stroke=\"black\" d=\"M3434.5,-157C3434.5,-157 3306.5,-157 3306.5,-157 3300.5,-157 3294.5,-151 3294.5,-145 3294.5,-145 3294.5,-101 3294.5,-101 3294.5,-95 3300.5,-89 3306.5,-89 3306.5,-89 3434.5,-89 3434.5,-89 3440.5,-89 3446.5,-95 3446.5,-101 3446.5,-101 3446.5,-145 3446.5,-145 3446.5,-151 3440.5,-157 3434.5,-157\"/>\r\n",
       "<text text-anchor=\"start\" x=\"3302.5\" y=\"-141.8\" font-family=\"Helvetica,sans-Serif\" font-size=\"14.00\">number_project ≤ 3.5</text>\r\n",
       "<text text-anchor=\"start\" x=\"3333\" y=\"-126.8\" font-family=\"Helvetica,sans-Serif\" font-size=\"14.00\">gini = 0.131</text>\r\n",
       "<text text-anchor=\"start\" x=\"3323\" y=\"-111.8\" font-family=\"Helvetica,sans-Serif\" font-size=\"14.00\">samples = 567</text>\r\n",
       "<text text-anchor=\"start\" x=\"3317.5\" y=\"-96.8\" font-family=\"Helvetica,sans-Serif\" font-size=\"14.00\">value = [40, 527]</text>\r\n",
       "</g>\r\n",
       "<!-- 68&#45;&gt;69 -->\r\n",
       "<g id=\"edge69\" class=\"edge\"><title>68&#45;&gt;69</title>\r\n",
       "<path fill=\"none\" stroke=\"black\" d=\"M3370.5,-192.884C3370.5,-184.778 3370.5,-175.982 3370.5,-167.472\"/>\r\n",
       "<polygon fill=\"black\" stroke=\"black\" points=\"3374,-167.299 3370.5,-157.299 3367,-167.299 3374,-167.299\"/>\r\n",
       "</g>\r\n",
       "<!-- 72 -->\r\n",
       "<g id=\"node73\" class=\"node\"><title>72</title>\r\n",
       "<path fill=\"#e58139\" stroke=\"black\" d=\"M3558,-149.5C3558,-149.5 3477,-149.5 3477,-149.5 3471,-149.5 3465,-143.5 3465,-137.5 3465,-137.5 3465,-108.5 3465,-108.5 3465,-102.5 3471,-96.5 3477,-96.5 3477,-96.5 3558,-96.5 3558,-96.5 3564,-96.5 3570,-102.5 3570,-108.5 3570,-108.5 3570,-137.5 3570,-137.5 3570,-143.5 3564,-149.5 3558,-149.5\"/>\r\n",
       "<text text-anchor=\"start\" x=\"3488.5\" y=\"-134.3\" font-family=\"Helvetica,sans-Serif\" font-size=\"14.00\">gini = 0.0</text>\r\n",
       "<text text-anchor=\"start\" x=\"3474\" y=\"-119.3\" font-family=\"Helvetica,sans-Serif\" font-size=\"14.00\">samples = 37</text>\r\n",
       "<text text-anchor=\"start\" x=\"3473\" y=\"-104.3\" font-family=\"Helvetica,sans-Serif\" font-size=\"14.00\">value = [37, 0]</text>\r\n",
       "</g>\r\n",
       "<!-- 68&#45;&gt;72 -->\r\n",
       "<g id=\"edge72\" class=\"edge\"><title>68&#45;&gt;72</title>\r\n",
       "<path fill=\"none\" stroke=\"black\" d=\"M3418.23,-192.884C3435.66,-180.786 3455.31,-167.151 3472.5,-155.224\"/>\r\n",
       "<polygon fill=\"black\" stroke=\"black\" points=\"3474.5,-158.096 3480.72,-149.52 3470.51,-152.345 3474.5,-158.096\"/>\r\n",
       "</g>\r\n",
       "<!-- 70 -->\r\n",
       "<g id=\"node71\" class=\"node\"><title>70</title>\r\n",
       "<path fill=\"#eeab7b\" stroke=\"black\" d=\"M3411,-53C3411,-53 3330,-53 3330,-53 3324,-53 3318,-47 3318,-41 3318,-41 3318,-12 3318,-12 3318,-6 3324,-0 3330,-0 3330,-0 3411,-0 3411,-0 3417,-0 3423,-6 3423,-12 3423,-12 3423,-41 3423,-41 3423,-47 3417,-53 3411,-53\"/>\r\n",
       "<text text-anchor=\"start\" x=\"3333\" y=\"-37.8\" font-family=\"Helvetica,sans-Serif\" font-size=\"14.00\">gini = 0.375</text>\r\n",
       "<text text-anchor=\"start\" x=\"3327\" y=\"-22.8\" font-family=\"Helvetica,sans-Serif\" font-size=\"14.00\">samples = 20</text>\r\n",
       "<text text-anchor=\"start\" x=\"3326\" y=\"-7.8\" font-family=\"Helvetica,sans-Serif\" font-size=\"14.00\">value = [15, 5]</text>\r\n",
       "</g>\r\n",
       "<!-- 69&#45;&gt;70 -->\r\n",
       "<g id=\"edge70\" class=\"edge\"><title>69&#45;&gt;70</title>\r\n",
       "<path fill=\"none\" stroke=\"black\" d=\"M3370.5,-88.9485C3370.5,-80.7153 3370.5,-71.848 3370.5,-63.4814\"/>\r\n",
       "<polygon fill=\"black\" stroke=\"black\" points=\"3374,-63.2367 3370.5,-53.2367 3367,-63.2367 3374,-63.2367\"/>\r\n",
       "</g>\r\n",
       "<!-- 71 -->\r\n",
       "<g id=\"node72\" class=\"node\"><title>71</title>\r\n",
       "<path fill=\"#42a2e6\" stroke=\"black\" d=\"M3551.5,-53C3551.5,-53 3453.5,-53 3453.5,-53 3447.5,-53 3441.5,-47 3441.5,-41 3441.5,-41 3441.5,-12 3441.5,-12 3441.5,-6 3447.5,-0 3453.5,-0 3453.5,-0 3551.5,-0 3551.5,-0 3557.5,-0 3563.5,-6 3563.5,-12 3563.5,-12 3563.5,-41 3563.5,-41 3563.5,-47 3557.5,-53 3551.5,-53\"/>\r\n",
       "<text text-anchor=\"start\" x=\"3465\" y=\"-37.8\" font-family=\"Helvetica,sans-Serif\" font-size=\"14.00\">gini = 0.087</text>\r\n",
       "<text text-anchor=\"start\" x=\"3455\" y=\"-22.8\" font-family=\"Helvetica,sans-Serif\" font-size=\"14.00\">samples = 547</text>\r\n",
       "<text text-anchor=\"start\" x=\"3449.5\" y=\"-7.8\" font-family=\"Helvetica,sans-Serif\" font-size=\"14.00\">value = [25, 522]</text>\r\n",
       "</g>\r\n",
       "<!-- 69&#45;&gt;71 -->\r\n",
       "<g id=\"edge71\" class=\"edge\"><title>69&#45;&gt;71</title>\r\n",
       "<path fill=\"none\" stroke=\"black\" d=\"M3416.67,-88.9485C3430.21,-79.2516 3444.99,-68.6752 3458.4,-59.073\"/>\r\n",
       "<polygon fill=\"black\" stroke=\"black\" points=\"3460.46,-61.9038 3466.55,-53.2367 3456.38,-56.212 3460.46,-61.9038\"/>\r\n",
       "</g>\r\n",
       "</g>\r\n",
       "</svg>\r\n"
      ],
      "text/plain": [
       "<graphviz.files.Source at 0x146389b97f0>"
      ]
     },
     "execution_count": 33,
     "metadata": {},
     "output_type": "execute_result"
    }
   ],
   "source": [
    "# Import export_graphviz from sklearn.tree\n",
    "from sklearn.tree import export_graphviz\n",
    "\n",
    "# Export the Decision Tree as a dot object\n",
    "treedot = export_graphviz(dectree,                                      # the model\n",
    "                          feature_names = X_train.columns,          # the features \n",
    "                          out_file = None,                              # output file\n",
    "                          filled = True,                                # node colors\n",
    "                          rounded = True,                               # make pretty\n",
    "                          special_characters = True)                    # postscript\n",
    "\n",
    "# Render using graphviz\n",
    "import os\n",
    "os.environ[\"PATH\"] += os.pathsep + 'C:/Program Files (x86)/Graphviz2.38/bin/'\n",
    "import graphviz\n",
    "graphviz.Source(treedot)"
   ]
  },
  {
   "cell_type": "code",
   "execution_count": 34,
   "metadata": {},
   "outputs": [
    {
     "data": {
      "text/plain": [
       "array([1, 0, 0, ..., 0, 1, 1], dtype=int64)"
      ]
     },
     "execution_count": 34,
     "metadata": {},
     "output_type": "execute_result"
    }
   ],
   "source": [
    "dectree.predict(X_test)"
   ]
  },
  {
   "cell_type": "code",
   "execution_count": 35,
   "metadata": {},
   "outputs": [
    {
     "name": "stdout",
     "output_type": "stream",
     "text": [
      "The train accuracy for Decision Tree:  0.9786642960328925\n",
      "The test accuracy for Decision Tree:  0.9793333333333333\n"
     ]
    }
   ],
   "source": [
    "# Goodness of Fit of Decision Tree model\n",
    "dectree_score = dectree.score(X_test,y_test)\n",
    "dectreetrain_score = dectree.score(X_train, y_train)\n",
    "print('The train accuracy for Decision Tree: ', dectreetrain_score)\n",
    "print('The test accuracy for Decision Tree: ', dectree_score)"
   ]
  },
  {
   "cell_type": "code",
   "execution_count": 36,
   "metadata": {},
   "outputs": [
    {
     "name": "stdout",
     "output_type": "stream",
     "text": [
      "Confusion matrix, without normalization\n",
      "[[4567   35]\n",
      " [  88 1310]]\n",
      "Normalized confusion matrix\n",
      "[[0.99 0.01]\n",
      " [0.06 0.94]]\n"
     ]
    },
    {
     "data": {
      "image/png": "[encoded data removed]",
      "text/plain": [
       "<Figure size 432x288 with 2 Axes>"
      ]
     },
     "metadata": {
      "needs_background": "light"
     },
     "output_type": "display_data"
    },
    {
     "data": {
      "image/png": "[encoded data removed]",
      "text/plain": [
       "<Figure size 432x288 with 2 Axes>"
      ]
     },
     "metadata": {
      "needs_background": "light"
     },
     "output_type": "display_data"
    }
   ],
   "source": [
    "# Print Confusion Matrix\n",
    "from sklearn.utils.multiclass import unique_labels\n",
    "from sklearn.metrics import confusion_matrix\n",
    "\n",
    "X = cleandf\n",
    "y = df.left\n",
    "class_names = cleandf.columns\n",
    "\n",
    "# Run classifier, using a model that is too regularized (C too low) to see\n",
    "# the impact on the results\n",
    "y_pred = dectree.fit(X_train, y_train).predict(X_test)\n",
    "\n",
    "def plot_confusion_matrix(y_train, y_pred, classes,\n",
    "                          normalize=False,\n",
    "                          title=None,\n",
    "                          cmap=plt.cm.Oranges):\n",
    "\n",
    "    \"\"\"\n",
    "    This function prints and plots the confusion matrix.\n",
    "    Normalization can be applied by setting `normalize=True`.\n",
    "    \"\"\"\n",
    "    if not title:\n",
    "        if normalize:\n",
    "            title = 'Normalized confusion matrix'\n",
    "        else:\n",
    "            title = 'Confusion matrix, without normalization'\n",
    "\n",
    "    # Compute confusion matrix\n",
    "    cm = confusion_matrix(y_train, y_pred)\n",
    "    # Only use the labels that appear in the data\n",
    "    classes = ['remained', 'left']\n",
    "    if normalize:\n",
    "        cm = cm.astype('float') / cm.sum(axis=1)[:, np.newaxis]\n",
    "        print(\"Normalized confusion matrix\")\n",
    "    else:\n",
    "        print('Confusion matrix, without normalization')\n",
    "\n",
    "    print(cm)\n",
    "\n",
    "    fig, ax = plt.subplots()\n",
    "    im = ax.imshow(cm, interpolation='nearest', cmap=cmap)\n",
    "    ax.figure.colorbar(im, ax=ax)\n",
    "    # We want to show all ticks...\n",
    "    ax.set(xticks=np.arange(cm.shape[1]),\n",
    "           yticks=np.arange(cm.shape[0]),\n",
    "           # ... and label them with the respective list entries\n",
    "           xticklabels=classes, yticklabels=classes,\n",
    "           title=title,\n",
    "           ylabel='True label',\n",
    "           xlabel='Predicted label')\n",
    "\n",
    "    # Rotate the tick labels and set their alignment.\n",
    "    plt.setp(ax.get_xticklabels(), rotation=45, ha=\"right\",\n",
    "             rotation_mode=\"anchor\")\n",
    "\n",
    "    # Loop over data dimensions and create text annotations.\n",
    "    fmt = '.2f' if normalize else 'd'\n",
    "    thresh = cm.max() / 2.\n",
    "    for i in range(cm.shape[0]):\n",
    "        for j in range(cm.shape[1]):\n",
    "            ax.text(j, i, format(cm[i, j], fmt),\n",
    "                    ha=\"center\", va=\"center\",\n",
    "                    color=\"white\" if cm[i, j] > thresh else \"black\")\n",
    "    fig.tight_layout()\n",
    "    return ax\n",
    "\n",
    "\n",
    "np.set_printoptions(precision=2)\n",
    "\n",
    "# Plot non-normalized confusion matrix\n",
    "plot_confusion_matrix(y_test, y_pred, classes=class_names,\n",
    "                      title='Confusion matrix, without normalization')\n",
    "\n",
    "# Plot normalized confusion matrix\n",
    "plot_confusion_matrix(y_test, y_pred, classes=class_names, normalize=True,\n",
    "                      title='Normalized confusion matrix')\n",
    "\n",
    "plt.show()"
   ]
  },
  {
   "cell_type": "markdown",
   "metadata": {},
   "source": [
    "From the Confusion Matrix above (threshold = 0.5), we can see that Decision Tree gives us a high percentage of True Positive and True Negative, but low percentage of False Positive and False Negative. \n",
    "\n",
    "Therefore, the model is a good predictor."
   ]
  },
  {
   "cell_type": "code",
   "execution_count": 37,
   "metadata": {},
   "outputs": [
    {
     "data": {
      "image/png": "[encoded data removed]",
      "text/plain": [
       "<Figure size 432x288 with 1 Axes>"
      ]
     },
     "metadata": {
      "needs_background": "light"
     },
     "output_type": "display_data"
    }
   ],
   "source": [
    "# Show ROC Curve which summarises all possible Confusion Matrix with Threshold between 0 and 1\n",
    "# And AUC which tells us how good the model is\n",
    "from sklearn.metrics import roc_auc_score\n",
    "from sklearn.metrics import roc_curve\n",
    "dectree_roc_auc = roc_auc_score(y_test, dectree.predict(X_test))\n",
    "fpr, tpr, thresholds = roc_curve(y_test, dectree.predict_proba(X_test)[:,1])\n",
    "plt.figure()\n",
    "plt.plot(fpr, tpr, label='Decision Tree (area = %0.2f)' % dectree_roc_auc)\n",
    "plt.plot([0, 1], [0, 1],'r--')\n",
    "plt.xlim([0.0, 1.0])\n",
    "plt.ylim([0.0, 1.05])\n",
    "plt.xlabel('False Positive Rate')\n",
    "plt.ylabel('True Positive Rate')\n",
    "plt.title('Receiver Operating Characteristic')\n",
    "plt.legend(loc=\"lower right\")\n",
    "plt.savefig('dectree_ROC')\n",
    "plt.show()"
   ]
  },
  {
   "cell_type": "markdown",
   "metadata": {},
   "source": [
    "In this ROC, the AUC score is 0.96. Hence, it is a good model to do prediction."
   ]
  },
  {
   "cell_type": "markdown",
   "metadata": {},
   "source": [
    "## 1. Logistic Regression"
   ]
  },
  {
   "cell_type": "code",
   "execution_count": 38,
   "metadata": {},
   "outputs": [],
   "source": [
    "# Import Library for the Model\n",
    "from sklearn.linear_model import LogisticRegression\n",
    "logres = LogisticRegression()"
   ]
  },
  {
   "cell_type": "code",
   "execution_count": 39,
   "metadata": {},
   "outputs": [
    {
     "name": "stderr",
     "output_type": "stream",
     "text": [
      "C:\\Users\\lenovo\\Anaconda3\\lib\\site-packages\\sklearn\\linear_model\\logistic.py:432: FutureWarning: Default solver will be changed to 'lbfgs' in 0.22. Specify a solver to silence this warning.\n",
      "  FutureWarning)\n"
     ]
    },
    {
     "data": {
      "text/plain": [
       "LogisticRegression(C=1.0, class_weight=None, dual=False, fit_intercept=True,\n",
       "                   intercept_scaling=1, l1_ratio=None, max_iter=100,\n",
       "                   multi_class='warn', n_jobs=None, penalty='l2',\n",
       "                   random_state=None, solver='warn', tol=0.0001, verbose=0,\n",
       "                   warm_start=False)"
      ]
     },
     "execution_count": 39,
     "metadata": {},
     "output_type": "execute_result"
    }
   ],
   "source": [
    "# Train the Model\n",
    "logres.fit(X_train, y_train)"
   ]
  },
  {
   "cell_type": "code",
   "execution_count": 40,
   "metadata": {},
   "outputs": [
    {
     "data": {
      "text/plain": [
       "array([0, 0, 1, ..., 0, 0, 1], dtype=int64)"
      ]
     },
     "execution_count": 40,
     "metadata": {},
     "output_type": "execute_result"
    }
   ],
   "source": [
    "# Predict the Model\n",
    "logres.predict(X_test)"
   ]
  },
  {
   "cell_type": "code",
   "execution_count": 41,
   "metadata": {},
   "outputs": [
    {
     "name": "stdout",
     "output_type": "stream",
     "text": [
      "The train accuracy for Logistic Regression:  0.7814201577953106\n",
      "The test accuracy for Logistic Regression:  0.7845\n"
     ]
    }
   ],
   "source": [
    "# Goodness of Fit of Logistic Regression model\n",
    "logres_score = logres.score(X_test,y_test)\n",
    "logrestrain_score = logres.score(X_train, y_train)\n",
    "print('The train accuracy for Logistic Regression: ', logrestrain_score)\n",
    "print('The test accuracy for Logistic Regression: ', logres_score)"
   ]
  },
  {
   "cell_type": "code",
   "execution_count": 42,
   "metadata": {},
   "outputs": [
    {
     "name": "stderr",
     "output_type": "stream",
     "text": [
      "C:\\Users\\lenovo\\Anaconda3\\lib\\site-packages\\sklearn\\linear_model\\logistic.py:432: FutureWarning: Default solver will be changed to 'lbfgs' in 0.22. Specify a solver to silence this warning.\n",
      "  FutureWarning)\n"
     ]
    },
    {
     "name": "stdout",
     "output_type": "stream",
     "text": [
      "Confusion matrix, without normalization\n",
      "[[4298  304]\n",
      " [ 989  409]]\n",
      "Normalized confusion matrix\n",
      "[[0.93 0.07]\n",
      " [0.71 0.29]]\n"
     ]
    },
    {
     "data": {
      "image/png": "[encoded data removed]",
      "text/plain": [
       "<Figure size 432x288 with 2 Axes>"
      ]
     },
     "metadata": {
      "needs_background": "light"
     },
     "output_type": "display_data"
    },
    {
     "data": {
      "image/png": "[encoded data removed]",
      "text/plain": [
       "<Figure size 432x288 with 2 Axes>"
      ]
     },
     "metadata": {
      "needs_background": "light"
     },
     "output_type": "display_data"
    }
   ],
   "source": [
    "# Print Confusion Matrix\n",
    "from sklearn.utils.multiclass import unique_labels\n",
    "from sklearn.metrics import confusion_matrix\n",
    "\n",
    "class_names = df.left\n",
    "\n",
    "# Run classifier, using a model that is too regularized (C too low) to see\n",
    "# the impact on the results\n",
    "y_pred = logres.fit(X_train, y_train).predict(X_test)\n",
    "\n",
    "def plot_confusion_matrix(y_true, y_pred, classes,\n",
    "                          normalize=False,\n",
    "                          title=None,\n",
    "                          cmap=plt.cm.Oranges):\n",
    "    \"\"\"\n",
    "    This function prints and plots the confusion matrix.\n",
    "    Normalization can be applied by setting `normalize=True`.\n",
    "    \"\"\"\n",
    "    if not title:\n",
    "        if normalize:\n",
    "            title = 'Normalized confusion matrix'\n",
    "        else:\n",
    "            title = 'Confusion matrix, without normalization'\n",
    "\n",
    "    # Compute confusion matrix\n",
    "    cm = confusion_matrix(y_true, y_pred)\n",
    "    # Only use the labels that appear in the data\n",
    "    classes = ['remained', 'left']\n",
    "    if normalize:\n",
    "        cm = cm.astype('float') / cm.sum(axis=1)[:, np.newaxis]\n",
    "        print(\"Normalized confusion matrix\")\n",
    "    else:\n",
    "        print('Confusion matrix, without normalization')\n",
    "\n",
    "    print(cm)\n",
    "\n",
    "    fig, ax = plt.subplots()\n",
    "    im = ax.imshow(cm, interpolation='nearest', cmap=cmap)\n",
    "    ax.figure.colorbar(im, ax=ax)\n",
    "    # We want to show all ticks...\n",
    "    ax.set(xticks=np.arange(cm.shape[1]),\n",
    "           yticks=np.arange(cm.shape[0]),\n",
    "           # ... and label them with the respective list entries\n",
    "           xticklabels=classes, yticklabels=classes,\n",
    "           title=title,\n",
    "           ylabel='True label',\n",
    "           xlabel='Predicted label')\n",
    "\n",
    "    # Rotate the tick labels and set their alignment.\n",
    "    plt.setp(ax.get_xticklabels(), rotation=45, ha=\"right\",\n",
    "             rotation_mode=\"anchor\")\n",
    "\n",
    "    # Loop over data dimensions and create text annotations.\n",
    "    fmt = '.2f' if normalize else 'd'\n",
    "    thresh = cm.max() / 2.\n",
    "    for i in range(cm.shape[0]):\n",
    "        for j in range(cm.shape[1]):\n",
    "            ax.text(j, i, format(cm[i, j], fmt),\n",
    "                    ha=\"center\", va=\"center\",\n",
    "                    color=\"white\" if cm[i, j] > thresh else \"black\")\n",
    "    fig.tight_layout()\n",
    "    return ax\n",
    "\n",
    "\n",
    "np.set_printoptions(precision=2)\n",
    "\n",
    "# Plot non-normalized confusion matrix\n",
    "plot_confusion_matrix(y_test, y_pred, classes=class_names,\n",
    "                      title='Confusion matrix, without normalization')\n",
    "\n",
    "# Plot normalized confusion matrix\n",
    "plot_confusion_matrix(y_test, y_pred, classes=class_names, normalize=True,\n",
    "                      title='Normalized confusion matrix')\n",
    "\n",
    "plt.show()"
   ]
  },
  {
   "cell_type": "markdown",
   "metadata": {},
   "source": [
    "From the Confusion Matrix above (threshold = 0.5), we can see that Logistic Regression gives high percentage of True Negative, but low percentage for True Positive. It also gives high percentage of False Negative and low percentage of False Positive. \n",
    "\n",
    "Hence, this model is not good, as it has a relatively high chance of predicting employees who left as remained rather than as left."
   ]
  },
  {
   "cell_type": "code",
   "execution_count": 43,
   "metadata": {},
   "outputs": [
    {
     "data": {
      "image/png": "[encoded data removed]",
      "text/plain": [
       "<Figure size 432x288 with 1 Axes>"
      ]
     },
     "metadata": {
      "needs_background": "light"
     },
     "output_type": "display_data"
    }
   ],
   "source": [
    "# Show ROC Curve which summarises all possible confusion matrix with threshold between 0 and 1\n",
    "# And AUC which tells us how good the model is\n",
    "from sklearn.metrics import roc_auc_score\n",
    "from sklearn.metrics import roc_curve\n",
    "logres_roc_auc = roc_auc_score(y_test, logres.predict(X_test))\n",
    "fpr, tpr, thresholds = roc_curve(y_test, logres.predict_proba(X_test)[:,1])\n",
    "plt.figure()\n",
    "plt.plot(fpr, tpr, label='Logistic Regression (area = %0.2f)' % logres_roc_auc)\n",
    "plt.plot([0, 1], [0, 1],'r--')\n",
    "plt.xlim([0.0, 1.0])\n",
    "plt.ylim([0.0, 1.05])\n",
    "plt.xlabel('False Positive Rate')\n",
    "plt.ylabel('True Positive Rate')\n",
    "plt.title('Receiver operating characteristic')\n",
    "plt.legend(loc=\"lower right\")\n",
    "plt.savefig('Log_ROC')\n",
    "plt.show()"
   ]
  },
  {
   "cell_type": "markdown",
   "metadata": {},
   "source": [
    "In this ROC, the AUC score is 0.61. Hence, it is not a good model to do prediction."
   ]
  },
  {
   "cell_type": "markdown",
   "metadata": {},
   "source": [
    "## 2. Random Forest Classifier"
   ]
  },
  {
   "cell_type": "code",
   "execution_count": 44,
   "metadata": {},
   "outputs": [
    {
     "data": {
      "text/plain": [
       "RandomForestClassifier(bootstrap=True, class_weight=None, criterion='gini',\n",
       "                       max_depth=None, max_features='auto', max_leaf_nodes=None,\n",
       "                       min_impurity_decrease=0.0, min_impurity_split=None,\n",
       "                       min_samples_leaf=1, min_samples_split=2,\n",
       "                       min_weight_fraction_leaf=0.0, n_estimators=100,\n",
       "                       n_jobs=None, oob_score=False, random_state=0, verbose=0,\n",
       "                       warm_start=False)"
      ]
     },
     "execution_count": 44,
     "metadata": {},
     "output_type": "execute_result"
    }
   ],
   "source": [
    "# Import library to do modelling\n",
    "from sklearn.ensemble import RandomForestClassifier\n",
    "rfc = RandomForestClassifier(n_estimators=100, random_state=0)\n",
    "rfc.fit(X_train, y_train)"
   ]
  },
  {
   "cell_type": "code",
   "execution_count": 45,
   "metadata": {},
   "outputs": [],
   "source": [
    "# Assign trained model to a variable\n",
    "y_pred = rfc.fit(X_train, y_train).predict(X_test)"
   ]
  },
  {
   "cell_type": "code",
   "execution_count": 46,
   "metadata": {},
   "outputs": [
    {
     "data": {
      "text/plain": [
       "array([1, 0, 0, ..., 0, 1, 1], dtype=int64)"
      ]
     },
     "execution_count": 46,
     "metadata": {},
     "output_type": "execute_result"
    }
   ],
   "source": [
    "rfc.predict(X_test)"
   ]
  },
  {
   "cell_type": "code",
   "execution_count": 47,
   "metadata": {},
   "outputs": [
    {
     "name": "stdout",
     "output_type": "stream",
     "text": [
      "The train accuracy for Random Forest Classifier:  1.0\n",
      "The test accuracy for Random Forest Classifier:  0.991\n"
     ]
    }
   ],
   "source": [
    "# Goodness of Fit of Random Forest Classifier model\n",
    "rfc_score = rfc.score(X_test,y_test)\n",
    "rfctrain_score = rfc.score(X_train, y_train)\n",
    "print('The train accuracy for Random Forest Classifier: ', rfctrain_score)\n",
    "print('The test accuracy for Random Forest Classifier: ', rfc_score)"
   ]
  },
  {
   "cell_type": "code",
   "execution_count": 48,
   "metadata": {},
   "outputs": [
    {
     "name": "stdout",
     "output_type": "stream",
     "text": [
      "Confusion matrix, without normalization\n",
      "[[4595    7]\n",
      " [  47 1351]]\n",
      "Normalized confusion matrix\n",
      "[[1.   0.  ]\n",
      " [0.03 0.97]]\n"
     ]
    },
    {
     "data": {
      "image/png": "[encoded data removed]",
      "text/plain": [
       "<Figure size 432x288 with 2 Axes>"
      ]
     },
     "metadata": {
      "needs_background": "light"
     },
     "output_type": "display_data"
    },
    {
     "data": {
      "image/png": "[encoded data removed]",
      "text/plain": [
       "<Figure size 432x288 with 2 Axes>"
      ]
     },
     "metadata": {
      "needs_background": "light"
     },
     "output_type": "display_data"
    }
   ],
   "source": [
    "# Print Confusion Matrix\n",
    "from sklearn.utils.multiclass import unique_labels\n",
    "from sklearn.metrics import confusion_matrix\n",
    "\n",
    "class_names = df.left\n",
    "\n",
    "# Run classifier, using a model that is too regularized (C too low) to see\n",
    "# the impact on the results\n",
    "y_pred = rfc.fit(X_train, y_train).predict(X_test)\n",
    "\n",
    "def plot_confusion_matrix(y_train, y_pred, classes,\n",
    "                          normalize=False,\n",
    "                          title=None,\n",
    "                          cmap=plt.cm.Oranges):\n",
    "    \"\"\"\n",
    "    This function prints and plots the confusion matrix.\n",
    "    Normalization can be applied by setting `normalize=True`.\n",
    "    \"\"\"\n",
    "    if not title:\n",
    "        if normalize:\n",
    "            title = 'Normalized confusion matrix'\n",
    "        else:\n",
    "            title = 'Confusion matrix, without normalization'\n",
    "\n",
    "    # Compute confusion matrix\n",
    "    cm = confusion_matrix(y_train, y_pred)\n",
    "    # Only use the labels that appear in the data\n",
    "    classes = ['remained', 'left']\n",
    "    if normalize:\n",
    "        cm = cm.astype('float') / cm.sum(axis=1)[:, np.newaxis]\n",
    "        print(\"Normalized confusion matrix\")\n",
    "    else:\n",
    "        print('Confusion matrix, without normalization')\n",
    "\n",
    "    print(cm)\n",
    "\n",
    "    fig, ax = plt.subplots()\n",
    "    im = ax.imshow(cm, interpolation='nearest', cmap=cmap)\n",
    "    ax.figure.colorbar(im, ax=ax)\n",
    "    # We want to show all ticks...\n",
    "    ax.set(xticks=np.arange(cm.shape[1]),\n",
    "           yticks=np.arange(cm.shape[0]),\n",
    "           # ... and label them with the respective list entries\n",
    "           xticklabels=classes, yticklabels=classes,\n",
    "           title=title,\n",
    "           ylabel='True label',\n",
    "           xlabel='Predicted label')\n",
    "\n",
    "    # Rotate the tick labels and set their alignment.\n",
    "    plt.setp(ax.get_xticklabels(), rotation=45, ha=\"right\",\n",
    "             rotation_mode=\"anchor\")\n",
    "\n",
    "    # Loop over data dimensions and create text annotations.\n",
    "    fmt = '.2f' if normalize else 'd'\n",
    "    thresh = cm.max() / 2.\n",
    "    for i in range(cm.shape[0]):\n",
    "        for j in range(cm.shape[1]):\n",
    "            ax.text(j, i, format(cm[i, j], fmt),\n",
    "                    ha=\"center\", va=\"center\",\n",
    "                    color=\"white\" if cm[i, j] > thresh else \"black\")\n",
    "    fig.tight_layout()\n",
    "    return ax\n",
    "\n",
    "\n",
    "np.set_printoptions(precision=2)\n",
    "\n",
    "# Plot non-normalized confusion matrix\n",
    "plot_confusion_matrix(y_test, y_pred, classes=class_names,\n",
    "                      title='Confusion matrix, without normalization')\n",
    "\n",
    "# Plot normalized confusion matrix\n",
    "plot_confusion_matrix(y_test, y_pred, classes=class_names, normalize=True,\n",
    "                      title='Normalized confusion matrix')\n",
    "\n",
    "plt.show()"
   ]
  },
  {
   "cell_type": "markdown",
   "metadata": {},
   "source": [
    "From the Confusion Matrix above (threshold = 0.5), we can see that Random Forest Classifier gives very high percentage of True Positive and True Negative, but very low percentage of False Positive and False Negative. \n",
    "\n",
    "Therefore, the model is good to do prediction."
   ]
  },
  {
   "cell_type": "code",
   "execution_count": 49,
   "metadata": {},
   "outputs": [
    {
     "data": {
      "image/png": "[encoded data removed]",
      "text/plain": [
       "<Figure size 432x288 with 1 Axes>"
      ]
     },
     "metadata": {
      "needs_background": "light"
     },
     "output_type": "display_data"
    }
   ],
   "source": [
    "# Show ROC Curve which summarises all possible confusion matrix with threshold between 0 and 1\n",
    "# And AUC which tells us how good is the model\n",
    "from sklearn.metrics import roc_auc_score\n",
    "from sklearn.metrics import roc_curve\n",
    "rfc_roc_auc = roc_auc_score(y_test, rfc.predict(X_test))\n",
    "fpr, tpr, thresholds = roc_curve(y_test, rfc.predict_proba(X_test)[:,1])\n",
    "plt.figure()\n",
    "plt.plot(fpr, tpr, label='Random Forest Classifier (area = %0.2f)' % rfc_roc_auc)\n",
    "plt.plot([0, 1], [0, 1],'r--')\n",
    "plt.xlim([0.0, 1.0])\n",
    "plt.ylim([0.0, 1.05])\n",
    "plt.xlabel('False Positive Rate')\n",
    "plt.ylabel('True Positive Rate')\n",
    "plt.title('Receiver Operating Characteristic')\n",
    "plt.legend(loc=\"lower right\")\n",
    "plt.savefig('rfc_ROC')\n",
    "plt.show()"
   ]
  },
  {
   "cell_type": "markdown",
   "metadata": {},
   "source": [
    "In this ROC, the AUC score is 0.98. Hence, it is a very precise model to do prediction; in fact, that is the highest AUC value thus far."
   ]
  },
  {
   "cell_type": "markdown",
   "metadata": {},
   "source": [
    "## 3. Naive Bayes"
   ]
  },
  {
   "cell_type": "code",
   "execution_count": 50,
   "metadata": {},
   "outputs": [],
   "source": [
    "# Import library to do modelling\n",
    "import sklearn\n",
    "from sklearn.naive_bayes import BernoulliNB\n",
    "from sklearn.naive_bayes import GaussianNB\n",
    "from sklearn.metrics import accuracy_score"
   ]
  },
  {
   "cell_type": "markdown",
   "metadata": {},
   "source": [
    "**We would like to use 2 Naive Bayes approaches - Bernoulli and Gaussian**\n",
    "    \n",
    "The presence of \"Naive\" in the Naive Bayes model is due to the fact that this approach makes a very strong/naive assumption that the independent variables used to predict if the employee stays or remains are not dependent on one another"
   ]
  },
  {
   "cell_type": "markdown",
   "metadata": {},
   "source": [
    "### a. Bernoulli"
   ]
  },
  {
   "cell_type": "code",
   "execution_count": 51,
   "metadata": {},
   "outputs": [
    {
     "data": {
      "text/plain": [
       "BernoulliNB(alpha=1.0, binarize=0.1, class_prior=None, fit_prior=True)"
      ]
     },
     "execution_count": 51,
     "metadata": {},
     "output_type": "execute_result"
    }
   ],
   "source": [
    "# Train the Data\n",
    "BernNB = BernoulliNB(binarize=0.1)\n",
    "BernNB.fit(X_train, y_train)"
   ]
  },
  {
   "cell_type": "code",
   "execution_count": 52,
   "metadata": {},
   "outputs": [],
   "source": [
    "# Assign trained model to a variable\n",
    "y_pred = BernNB.fit(X_train, y_train).predict(X_test)"
   ]
  },
  {
   "cell_type": "code",
   "execution_count": 53,
   "metadata": {},
   "outputs": [
    {
     "name": "stdout",
     "output_type": "stream",
     "text": [
      "The train accuracy for Bernoulli NB:  0.7957550838982109\n",
      "The test accuracy for Bernoulli NB:  0.8033333333333333\n"
     ]
    }
   ],
   "source": [
    "# Goodness of Fit of Bernoulli NB model\n",
    "from sklearn import metrics\n",
    "BernNB_score = metrics.accuracy_score(y_test,y_pred)\n",
    "BernNBtrain_score = BernNB.score(X_train, y_train)\n",
    "print('The train accuracy for Bernoulli NB: ', BernNBtrain_score)\n",
    "print('The test accuracy for Bernoulli NB: ', BernNB_score)"
   ]
  },
  {
   "cell_type": "code",
   "execution_count": 54,
   "metadata": {},
   "outputs": [
    {
     "name": "stdout",
     "output_type": "stream",
     "text": [
      "Confusion matrix, without normalization\n",
      "[[4602    0]\n",
      " [1180  218]]\n",
      "Normalized confusion matrix\n",
      "[[1.   0.  ]\n",
      " [0.84 0.16]]\n"
     ]
    },
    {
     "data": {
      "image/png": "[encoded data removed]",
      "text/plain": [
       "<Figure size 432x288 with 2 Axes>"
      ]
     },
     "metadata": {
      "needs_background": "light"
     },
     "output_type": "display_data"
    },
    {
     "data": {
      "image/png": "[encoded data removed]",
      "text/plain": [
       "<Figure size 432x288 with 2 Axes>"
      ]
     },
     "metadata": {
      "needs_background": "light"
     },
     "output_type": "display_data"
    }
   ],
   "source": [
    "# Print Confusion Matrix\n",
    "from sklearn.utils.multiclass import unique_labels\n",
    "from sklearn.metrics import confusion_matrix\n",
    "\n",
    "class_names = df.left\n",
    "\n",
    "# Run classifier, using a model that is too regularized (C too low) to see\n",
    "# the impact on the results\n",
    "y_pred = BernNB.fit(X_train, y_train).predict(X_test)\n",
    "\n",
    "def plot_confusion_matrix(y_train, y_pred, classes,\n",
    "                          normalize=False,\n",
    "                          title=None,\n",
    "                          cmap=plt.cm.Oranges):\n",
    "    \"\"\"\n",
    "    This function prints and plots the confusion matrix.\n",
    "    Normalization can be applied by setting `normalize=True`.\n",
    "    \"\"\"\n",
    "    if not title:\n",
    "        if normalize:\n",
    "            title = 'Normalized confusion matrix'\n",
    "        else:\n",
    "            title = 'Confusion matrix, without normalization'\n",
    "\n",
    "    # Compute confusion matrix\n",
    "    cm = confusion_matrix(y_train, y_pred)\n",
    "    # Only use the labels that appear in the data\n",
    "    classes = ['remained', 'left']\n",
    "    if normalize:\n",
    "        cm = cm.astype('float') / cm.sum(axis=1)[:, np.newaxis]\n",
    "        print(\"Normalized confusion matrix\")\n",
    "    else:\n",
    "        print('Confusion matrix, without normalization')\n",
    "\n",
    "    print(cm)\n",
    "\n",
    "    fig, ax = plt.subplots()\n",
    "    im = ax.imshow(cm, interpolation='nearest', cmap=cmap)\n",
    "    ax.figure.colorbar(im, ax=ax)\n",
    "    # We want to show all ticks...\n",
    "    ax.set(xticks=np.arange(cm.shape[1]),\n",
    "           yticks=np.arange(cm.shape[0]),\n",
    "           # ... and label them with the respective list entries\n",
    "           xticklabels=classes, yticklabels=classes,\n",
    "           title=title,\n",
    "           ylabel='True label',\n",
    "           xlabel='Predicted label')\n",
    "\n",
    "    # Rotate the tick labels and set their alignment.\n",
    "    plt.setp(ax.get_xticklabels(), rotation=45, ha=\"right\",\n",
    "             rotation_mode=\"anchor\")\n",
    "\n",
    "    # Loop over data dimensions and create text annotations.\n",
    "    fmt = '.2f' if normalize else 'd'\n",
    "    thresh = cm.max() / 2.\n",
    "    for i in range(cm.shape[0]):\n",
    "        for j in range(cm.shape[1]):\n",
    "            ax.text(j, i, format(cm[i, j], fmt),\n",
    "                    ha=\"center\", va=\"center\",\n",
    "                    color=\"white\" if cm[i, j] > thresh else \"black\")\n",
    "    fig.tight_layout()\n",
    "    return ax\n",
    "\n",
    "\n",
    "np.set_printoptions(precision=2)\n",
    "\n",
    "# Plot non-normalized confusion matrix\n",
    "plot_confusion_matrix(y_test, y_pred, classes=class_names,\n",
    "                      title='Confusion matrix, without normalization')\n",
    "\n",
    "# Plot normalized confusion matrix\n",
    "plot_confusion_matrix(y_test, y_pred, classes=class_names, normalize=True,\n",
    "                      title='Normalized confusion matrix')\n",
    "\n",
    "plt.show()"
   ]
  },
  {
   "cell_type": "markdown",
   "metadata": {},
   "source": [
    "From the Confusion Matrix above (threshold = 0.5), we can see that Bernoulli NB gives high percentage of True Negative, but low percentage in True Positive. It also gives high percentage of False Negative and low percentage of False Positive. \n",
    "\n",
    "Hence, this model is not good, as it has a relatively higher chance of predicting employees who left as remained rather than as Left."
   ]
  },
  {
   "cell_type": "code",
   "execution_count": 55,
   "metadata": {},
   "outputs": [
    {
     "data": {
      "image/png": "[encoded data removed]",
      "text/plain": [
       "<Figure size 432x288 with 1 Axes>"
      ]
     },
     "metadata": {
      "needs_background": "light"
     },
     "output_type": "display_data"
    }
   ],
   "source": [
    "# Show ROC Curve which summarises all possible confusion matrix with threshold between 0 and 1\n",
    "# And AUC which tells us how good is the model\n",
    "from sklearn.metrics import roc_auc_score\n",
    "from sklearn.metrics import roc_curve\n",
    "BernNB_roc_auc = roc_auc_score(y_test, BernNB.predict(X_test))\n",
    "fpr, tpr, thresholds = roc_curve(y_test, BernNB.predict_proba(X_test)[:,1])\n",
    "plt.figure()\n",
    "plt.plot(fpr, tpr, label='Bernoulli NB (area = %0.2f)' % BernNB_roc_auc)\n",
    "plt.plot([0, 1], [0, 1],'r--')\n",
    "plt.xlim([0.0, 1.0])\n",
    "plt.ylim([0.0, 1.05])\n",
    "plt.xlabel('False Positive Rate')\n",
    "plt.ylabel('True Positive Rate')\n",
    "plt.title('Receiver Operating Characteristic')\n",
    "plt.legend(loc=\"lower right\")\n",
    "plt.savefig('BernNB_ROC')\n",
    "plt.show()"
   ]
  },
  {
   "cell_type": "markdown",
   "metadata": {},
   "source": [
    "In this ROC, the AUC score is 0.58. Hence, it is not a good model to do prediction."
   ]
  },
  {
   "cell_type": "markdown",
   "metadata": {},
   "source": [
    "### b. Gaussian"
   ]
  },
  {
   "cell_type": "code",
   "execution_count": 56,
   "metadata": {},
   "outputs": [
    {
     "data": {
      "text/plain": [
       "GaussianNB(priors=None, var_smoothing=1e-09)"
      ]
     },
     "execution_count": 56,
     "metadata": {},
     "output_type": "execute_result"
    }
   ],
   "source": [
    "# Train the model \n",
    "GausNB = GaussianNB()\n",
    "GausNB.fit(X_train, y_train)"
   ]
  },
  {
   "cell_type": "code",
   "execution_count": 57,
   "metadata": {},
   "outputs": [],
   "source": [
    "# Assign trained model to a variable\n",
    "y_pred = GausNB.fit(X_train, y_train).predict(X_test)"
   ]
  },
  {
   "cell_type": "code",
   "execution_count": 58,
   "metadata": {},
   "outputs": [
    {
     "name": "stdout",
     "output_type": "stream",
     "text": [
      "The train accuracy for Gaussian NB:  0.7758639848872096\n",
      "The test accuracy for Gaussian NB:  0.7781666666666667\n"
     ]
    }
   ],
   "source": [
    "from sklearn import metrics\n",
    "# Goodness of Fit of Gaussian NB model\n",
    "GausNB_score = metrics.accuracy_score(y_pred,y_test)\n",
    "GausNBtrain_score = GausNB.score(X_train, y_train)\n",
    "print('The train accuracy for Gaussian NB: ', GausNBtrain_score)\n",
    "print('The test accuracy for Gaussian NB: ', GausNB_score)"
   ]
  },
  {
   "cell_type": "code",
   "execution_count": 59,
   "metadata": {},
   "outputs": [
    {
     "name": "stdout",
     "output_type": "stream",
     "text": [
      "Confusion matrix, without normalization\n",
      "[[3590 1012]\n",
      " [ 319 1079]]\n",
      "Normalized confusion matrix\n",
      "[[0.78 0.22]\n",
      " [0.23 0.77]]\n"
     ]
    },
    {
     "data": {
      "image/png": "[encoded data removed]",
      "text/plain": [
       "<Figure size 432x288 with 2 Axes>"
      ]
     },
     "metadata": {
      "needs_background": "light"
     },
     "output_type": "display_data"
    },
    {
     "data": {
      "image/png": "[encoded data removed]",
      "text/plain": [
       "<Figure size 432x288 with 2 Axes>"
      ]
     },
     "metadata": {
      "needs_background": "light"
     },
     "output_type": "display_data"
    }
   ],
   "source": [
    "# Print Confusion Matrix\n",
    "from sklearn.utils.multiclass import unique_labels\n",
    "from sklearn.metrics import confusion_matrix\n",
    "\n",
    "class_names = df.left\n",
    "\n",
    "# Run classifier, using a model that is too regularized (C too low) to see\n",
    "# the impact on the results\n",
    "y_pred = GausNB.fit(X_train, y_train).predict(X_test)\n",
    "\n",
    "def plot_confusion_matrix(y_train, y_pred, classes,\n",
    "                          normalize=False,\n",
    "                          title=None,\n",
    "                          cmap=plt.cm.Oranges):\n",
    "    \"\"\"\n",
    "    This function prints and plots the confusion matrix.\n",
    "    Normalization can be applied by setting `normalize=True`.\n",
    "    \"\"\"\n",
    "    if not title:\n",
    "        if normalize:\n",
    "            title = 'Normalized confusion matrix'\n",
    "        else:\n",
    "            title = 'Confusion matrix, without normalization'\n",
    "\n",
    "    # Compute confusion matrix\n",
    "    cm = confusion_matrix(y_train, y_pred)\n",
    "    # Only use the labels that appear in the data\n",
    "    classes = ['remained', 'left']\n",
    "    if normalize:\n",
    "        cm = cm.astype('float') / cm.sum(axis=1)[:, np.newaxis]\n",
    "        print(\"Normalized confusion matrix\")\n",
    "    else:\n",
    "        print('Confusion matrix, without normalization')\n",
    "\n",
    "    print(cm)\n",
    "\n",
    "    fig, ax = plt.subplots()\n",
    "    im = ax.imshow(cm, interpolation='nearest', cmap=cmap)\n",
    "    ax.figure.colorbar(im, ax=ax)\n",
    "    # We want to show all ticks...\n",
    "    ax.set(xticks=np.arange(cm.shape[1]),\n",
    "           yticks=np.arange(cm.shape[0]),\n",
    "           # ... and label them with the respective list entries\n",
    "           xticklabels=classes, yticklabels=classes,\n",
    "           title=title,\n",
    "           ylabel='True label',\n",
    "           xlabel='Predicted label')\n",
    "\n",
    "    # Rotate the tick labels and set their alignment.\n",
    "    plt.setp(ax.get_xticklabels(), rotation=45, ha=\"right\",\n",
    "             rotation_mode=\"anchor\")\n",
    "\n",
    "    # Loop over data dimensions and create text annotations.\n",
    "    fmt = '.2f' if normalize else 'd'\n",
    "    thresh = cm.max() / 2.\n",
    "    for i in range(cm.shape[0]):\n",
    "        for j in range(cm.shape[1]):\n",
    "            ax.text(j, i, format(cm[i, j], fmt),\n",
    "                    ha=\"center\", va=\"center\",\n",
    "                    color=\"white\" if cm[i, j] > thresh else \"black\")\n",
    "    fig.tight_layout()\n",
    "    return ax\n",
    "\n",
    "\n",
    "np.set_printoptions(precision=2)\n",
    "\n",
    "# Plot non-normalized confusion matrix\n",
    "plot_confusion_matrix(y_test, y_pred, classes=class_names,\n",
    "                      title='Confusion matrix, without normalization')\n",
    "\n",
    "# Plot normalized confusion matrix\n",
    "plot_confusion_matrix(y_test, y_pred, classes=class_names, normalize=True,\n",
    "                      title='Normalized confusion matrix')\n",
    "\n",
    "plt.show()"
   ]
  },
  {
   "cell_type": "markdown",
   "metadata": {},
   "source": [
    "From the Confusion Matrix above (threshold = 0.5), we can see that Gaussian NB gives high percentage of True Positive and True Negative, but low percentage of False Positive and False Negative. \n",
    "\n",
    "Therefore, the model is quite a good to do prediction."
   ]
  },
  {
   "cell_type": "code",
   "execution_count": 60,
   "metadata": {},
   "outputs": [
    {
     "data": {
      "image/png": "[encoded data removed]",
      "text/plain": [
       "<Figure size 432x288 with 1 Axes>"
      ]
     },
     "metadata": {
      "needs_background": "light"
     },
     "output_type": "display_data"
    }
   ],
   "source": [
    "# Show ROC Curve which summarises all possible confusion matrix with threshold between 0 and 1\n",
    "# And AUC which tells us how good is the model\n",
    "from sklearn.metrics import roc_auc_score\n",
    "from sklearn.metrics import roc_curve\n",
    "GausNB_roc_auc = roc_auc_score(y_test, GausNB.predict(X_test))\n",
    "fpr, tpr, thresholds = roc_curve(y_test, GausNB.predict_proba(X_test)[:,1])\n",
    "plt.figure()\n",
    "plt.plot(fpr, tpr, label='Gaussian NB (area = %0.2f)' % GausNB_roc_auc)\n",
    "plt.plot([0, 1], [0, 1],'r--')\n",
    "plt.xlim([0.0, 1.0])\n",
    "plt.ylim([0.0, 1.05])\n",
    "plt.xlabel('False Positive Rate')\n",
    "plt.ylabel('True Positive Rate')\n",
    "plt.title('Receiver Operating Characteristic')\n",
    "plt.legend(loc=\"lower right\")\n",
    "plt.savefig('GausNB_ROC')\n",
    "plt.show()"
   ]
  },
  {
   "cell_type": "markdown",
   "metadata": {},
   "source": [
    "In this ROC,the AUC score is 0.78. Hence, it is quite a good model to do prediction."
   ]
  },
  {
   "cell_type": "code",
   "execution_count": 61,
   "metadata": {},
   "outputs": [
    {
     "data": {
      "text/html": [
       "<div>\n",
       "<style scoped>\n",
       "    .dataframe tbody tr th:only-of-type {\n",
       "        vertical-align: middle;\n",
       "    }\n",
       "\n",
       "    .dataframe tbody tr th {\n",
       "        vertical-align: top;\n",
       "    }\n",
       "\n",
       "    .dataframe thead th {\n",
       "        text-align: right;\n",
       "    }\n",
       "</style>\n",
       "<table border=\"1\" class=\"dataframe\">\n",
       "  <thead>\n",
       "    <tr style=\"text-align: right;\">\n",
       "      <th></th>\n",
       "      <th>Model</th>\n",
       "      <th>Accuracy_Score</th>\n",
       "    </tr>\n",
       "  </thead>\n",
       "  <tbody>\n",
       "    <tr>\n",
       "      <th>4</th>\n",
       "      <td>Random Forest</td>\n",
       "      <td>0.991000</td>\n",
       "    </tr>\n",
       "    <tr>\n",
       "      <th>0</th>\n",
       "      <td>Decision Tree</td>\n",
       "      <td>0.979333</td>\n",
       "    </tr>\n",
       "    <tr>\n",
       "      <th>2</th>\n",
       "      <td>Bernoulli NB</td>\n",
       "      <td>0.803333</td>\n",
       "    </tr>\n",
       "    <tr>\n",
       "      <th>1</th>\n",
       "      <td>Logistic Regression</td>\n",
       "      <td>0.784500</td>\n",
       "    </tr>\n",
       "    <tr>\n",
       "      <th>3</th>\n",
       "      <td>Gaussian NB</td>\n",
       "      <td>0.778167</td>\n",
       "    </tr>\n",
       "  </tbody>\n",
       "</table>\n",
       "</div>"
      ],
      "text/plain": [
       "                 Model  Accuracy_Score\n",
       "4        Random Forest        0.991000\n",
       "0        Decision Tree        0.979333\n",
       "2         Bernoulli NB        0.803333\n",
       "1  Logistic Regression        0.784500\n",
       "3          Gaussian NB        0.778167"
      ]
     },
     "execution_count": 61,
     "metadata": {},
     "output_type": "execute_result"
    }
   ],
   "source": [
    "# Model comparison for Test Score\n",
    "models = pd.DataFrame({\n",
    "        'Model'          : ['Decision Tree','Logistic Regression', 'Bernoulli NB', 'Gaussian NB', 'Random Forest'],\n",
    "        'Accuracy_Score' : [dectree_score, logres_score, BernNB_score, GausNB_score, rfc_score],\n",
    "    })\n",
    "models.sort_values(by='Accuracy_Score', ascending=False)"
   ]
  },
  {
   "cell_type": "markdown",
   "metadata": {},
   "source": [
    "## From the table above, we can see that the best method to predict whether an employee is going to remain or leave is by using Random Forest Classification with 0.991 Accuracy Score."
   ]
  },
  {
   "cell_type": "markdown",
   "metadata": {},
   "source": [
    "# Part 5: Application \n",
    "\n",
    "## Now, let's use Random Forest Classifier to predict whether an employee is going to remain or leave the company"
   ]
  },
  {
   "cell_type": "code",
   "execution_count": 62,
   "metadata": {},
   "outputs": [
    {
     "data": {
      "text/plain": [
       "RandomForestClassifier(bootstrap=True, class_weight=None, criterion='gini',\n",
       "                       max_depth=None, max_features='auto', max_leaf_nodes=None,\n",
       "                       min_impurity_decrease=0.0, min_impurity_split=None,\n",
       "                       min_samples_leaf=1, min_samples_split=2,\n",
       "                       min_weight_fraction_leaf=0.0, n_estimators=100,\n",
       "                       n_jobs=None, oob_score=False, random_state=0, verbose=0,\n",
       "                       warm_start=False)"
      ]
     },
     "execution_count": 62,
     "metadata": {},
     "output_type": "execute_result"
    }
   ],
   "source": [
    "from sklearn.ensemble import RandomForestClassifier\n",
    "rfc = RandomForestClassifier(n_estimators=100, random_state=0)\n",
    "rfc.fit(X_train, y_train)"
   ]
  },
  {
   "cell_type": "code",
   "execution_count": 63,
   "metadata": {},
   "outputs": [
    {
     "data": {
      "text/html": [
       "<div>\n",
       "<style scoped>\n",
       "    .dataframe tbody tr th:only-of-type {\n",
       "        vertical-align: middle;\n",
       "    }\n",
       "\n",
       "    .dataframe tbody tr th {\n",
       "        vertical-align: top;\n",
       "    }\n",
       "\n",
       "    .dataframe thead th {\n",
       "        text-align: right;\n",
       "    }\n",
       "</style>\n",
       "<table border=\"1\" class=\"dataframe\">\n",
       "  <thead>\n",
       "    <tr style=\"text-align: right;\">\n",
       "      <th></th>\n",
       "      <th>satisfaction_level</th>\n",
       "      <th>average_montly_hours</th>\n",
       "      <th>salary</th>\n",
       "      <th>time_spend_company</th>\n",
       "      <th>Work_accident</th>\n",
       "      <th>number_project</th>\n",
       "      <th>last_evaluation</th>\n",
       "      <th>promotion_last_5years</th>\n",
       "      <th>Department</th>\n",
       "    </tr>\n",
       "  </thead>\n",
       "  <tbody>\n",
       "    <tr>\n",
       "      <th>0</th>\n",
       "      <td>0.38</td>\n",
       "      <td>157</td>\n",
       "      <td>0</td>\n",
       "      <td>3</td>\n",
       "      <td>0</td>\n",
       "      <td>2</td>\n",
       "      <td>0.53</td>\n",
       "      <td>0</td>\n",
       "      <td>0</td>\n",
       "    </tr>\n",
       "    <tr>\n",
       "      <th>1</th>\n",
       "      <td>0.80</td>\n",
       "      <td>262</td>\n",
       "      <td>1</td>\n",
       "      <td>6</td>\n",
       "      <td>0</td>\n",
       "      <td>5</td>\n",
       "      <td>0.86</td>\n",
       "      <td>0</td>\n",
       "      <td>0</td>\n",
       "    </tr>\n",
       "    <tr>\n",
       "      <th>2</th>\n",
       "      <td>0.11</td>\n",
       "      <td>272</td>\n",
       "      <td>1</td>\n",
       "      <td>4</td>\n",
       "      <td>0</td>\n",
       "      <td>7</td>\n",
       "      <td>0.88</td>\n",
       "      <td>0</td>\n",
       "      <td>0</td>\n",
       "    </tr>\n",
       "    <tr>\n",
       "      <th>3</th>\n",
       "      <td>0.72</td>\n",
       "      <td>223</td>\n",
       "      <td>0</td>\n",
       "      <td>5</td>\n",
       "      <td>0</td>\n",
       "      <td>5</td>\n",
       "      <td>0.87</td>\n",
       "      <td>0</td>\n",
       "      <td>0</td>\n",
       "    </tr>\n",
       "    <tr>\n",
       "      <th>4</th>\n",
       "      <td>0.37</td>\n",
       "      <td>159</td>\n",
       "      <td>0</td>\n",
       "      <td>3</td>\n",
       "      <td>0</td>\n",
       "      <td>2</td>\n",
       "      <td>0.52</td>\n",
       "      <td>0</td>\n",
       "      <td>0</td>\n",
       "    </tr>\n",
       "  </tbody>\n",
       "</table>\n",
       "</div>"
      ],
      "text/plain": [
       "   satisfaction_level  average_montly_hours  salary  time_spend_company  \\\n",
       "0                0.38                   157       0                   3   \n",
       "1                0.80                   262       1                   6   \n",
       "2                0.11                   272       1                   4   \n",
       "3                0.72                   223       0                   5   \n",
       "4                0.37                   159       0                   3   \n",
       "\n",
       "   Work_accident  number_project  last_evaluation  promotion_last_5years  \\\n",
       "0              0               2             0.53                      0   \n",
       "1              0               5             0.86                      0   \n",
       "2              0               7             0.88                      0   \n",
       "3              0               5             0.87                      0   \n",
       "4              0               2             0.52                      0   \n",
       "\n",
       "   Department  \n",
       "0           0  \n",
       "1           0  \n",
       "2           0  \n",
       "3           0  \n",
       "4           0  "
      ]
     },
     "execution_count": 63,
     "metadata": {},
     "output_type": "execute_result"
    }
   ],
   "source": [
    "X.head()"
   ]
  },
  {
   "cell_type": "code",
   "execution_count": 64,
   "metadata": {
    "scrolled": true
   },
   "outputs": [
    {
     "name": "stdout",
     "output_type": "stream",
     "text": [
      "the employee will LEAVE the company\n"
     ]
    }
   ],
   "source": [
    "employee = rfc.predict(X)\n",
    "if(employee[0] == 0): \n",
    "    print(\"the employee will REMAIN in the company\")\n",
    "else:\n",
    "    print(\"the employee will LEAVE the company\")"
   ]
  },
  {
   "cell_type": "code",
   "execution_count": 65,
   "metadata": {},
   "outputs": [
    {
     "name": "stdout",
     "output_type": "stream",
     "text": [
      "Satisfaction Level (0-1): 0.21\n",
      "Average Monthly Hours: 160\n",
      "Salary (0=low, 1=medium, 2=high): 1\n",
      "Time Spend in Company (in years): 3\n",
      "Work Accident (0=no, 1=yes): 0\n",
      "Number of Project: 4\n",
      "Last Evaluation: 0.7\n",
      "Promotion in the last 5 years (0=no, 1=yes): 1\n",
      "Department (0=sales, 1=accounting, 2=hr, 3=technical, 4=support, 5=management, 6=IT, 7=product_mng, 8=marketing, 9=RandD: 8\n",
      "\n",
      "This employee will REMAIN in the company\n"
     ]
    }
   ],
   "source": [
    "employee2 = pd.DataFrame({\n",
    "    'satisfaction_level': [input('Satisfaction Level (0-1): ')],\n",
    "    'average_montly_hours': [input('Average Monthly Hours: ')],\n",
    "    'salary': [input('Salary (0=low, 1=medium, 2=high): ')],\n",
    "    'time_spend_company': [input('Time Spend in Company (in years): ')],\n",
    "    'Work_accident': [input('Work Accident (0=no, 1=yes): ')],\n",
    "    'number_project': [input('Number of Project: ')],\n",
    "    'last_evaluation': [input('Last Evaluation: ')],\n",
    "    'promotion_last_5years': [input('Promotion in the last 5 years (0=no, 1=yes): ')],\n",
    "    'Department': [input('Department (0=sales, 1=accounting, 2=hr, 3=technical, 4=support, 5=management, 6=IT, 7=product_mng, 8=marketing, 9=RandD: ')]\n",
    "})\n",
    "\n",
    "employee2 = rfc.predict(employee2)\n",
    "\n",
    "if(employee2[0] == 0):\n",
    "    print(\"\\nThis employee will REMAIN in the company\")\n",
    "else:\n",
    "    print(\"\\nThis employee will LEAVE the company\")"
   ]
  }
 ],
 "metadata": {
  "kernelspec": {
   "display_name": "Python 3",
   "language": "python",
   "name": "python3"
  },
  "language_info": {
   "codemirror_mode": {
    "name": "ipython",
    "version": 3
   },
   "file_extension": ".py",
   "mimetype": "text/x-python",
   "name": "python",
   "nbconvert_exporter": "python",
   "pygments_lexer": "ipython3",
   "version": "3.7.3"
  },
  "toc": {
   "base_numbering": 1,
   "nav_menu": {},
   "number_sections": true,
   "sideBar": true,
   "skip_h1_title": false,
   "title_cell": "Table of Contents",
   "title_sidebar": "Contents",
   "toc_cell": false,
   "toc_position": {},
   "toc_section_display": true,
   "toc_window_display": false
  }
 },
 "nbformat": 4,
 "nbformat_minor": 2
}
